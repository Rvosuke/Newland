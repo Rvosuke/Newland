{
 "cells": [
  {
   "cell_type": "code",
   "execution_count": null,
   "id": "68ae2199-45b7-4b42-9db3-d09e2904caee",
   "metadata": {},
   "outputs": [],
   "source": [
    "!pip install -U  langchain==0.2.11 openai==1.37.0 ragas==0.1.11 arxiv==2.1.3 pymupdf==1.24.9 chromadb==0.5.5 wandb==0.17.5 tiktoken==0.7.0 pypdf==4.3.1 sentence_transformers==2.7.0"
   ]
  },
  {
   "cell_type": "code",
   "execution_count": 3,
   "id": "68d962d9-2bc6-40e1-b6bf-f76797ee2a05",
   "metadata": {},
   "outputs": [],
   "source": [
    "import os\n",
    "from langchain.document_loaders import pdf, PyPDFLoader\n",
    "\n",
    "def load_pdf_doucuments(pdf_folder_path: str) -> list:\n",
    "    base_docs = []\n",
    "    \n",
    "    if not os.path.exists(pdf_folder_path):\n",
    "        raise FileNotFoundError(f\"The folder '{pdf_folder_path}' does not exist.\")\n",
    "\n",
    "    for file in os.listdir(pdf_folder_path):\n",
    "        if file.endswith('.pdf'):\n",
    "            pdf_path = os.path.join(pdf_folder_path, file)\n",
    "            print(f\"Processing: {pdf_path}\")\n",
    "            try:\n",
    "                loader = PyPDFLoader(pdf_path)\n",
    "                pages = loader.load()\n",
    "                base_docs.extend(pages)\n",
    "            except Exception as e:\n",
    "                print(f\"Error processing {pdf_path}: {str(e)}\")\n",
    "\n",
    "    return base_docs"
   ]
  },
  {
   "cell_type": "code",
   "execution_count": 4,
   "id": "754b1cba-d134-474c-8365-726a51768802",
   "metadata": {},
   "outputs": [
    {
     "name": "stdout",
     "output_type": "stream",
     "text": [
      "Processing: RiceBlastData/20-100 (1).pdf\n"
     ]
    },
    {
     "name": "stderr",
     "output_type": "stream",
     "text": [
      "Advanced encoding /UniGB-UTF16-H not implemented yet\n",
      "Advanced encoding /UniGB-UTF16-H not implemented yet\n",
      "Advanced encoding /UniGB-UTF16-H not implemented yet\n",
      "Advanced encoding /UniGB-UTF16-H not implemented yet\n",
      "Advanced encoding /UniGB-UTF16-H not implemented yet\n",
      "Advanced encoding /UniGB-UTF16-H not implemented yet\n",
      "Advanced encoding /UniGB-UTF16-H not implemented yet\n",
      "Advanced encoding /UniGB-UTF16-H not implemented yet\n",
      "Advanced encoding /UniGB-UTF16-H not implemented yet\n",
      "Advanced encoding /UniGB-UTF16-H not implemented yet\n",
      "Advanced encoding /UniGB-UTF16-H not implemented yet\n"
     ]
    },
    {
     "name": "stdout",
     "output_type": "stream",
     "text": [
      "Processing: RiceBlastData/20-100.pdf\n"
     ]
    },
    {
     "name": "stderr",
     "output_type": "stream",
     "text": [
      "Advanced encoding /UniGB-UTF16-H not implemented yet\n",
      "Advanced encoding /UniGB-UTF16-H not implemented yet\n",
      "Advanced encoding /UniGB-UTF16-H not implemented yet\n",
      "Advanced encoding /UniGB-UTF16-H not implemented yet\n",
      "Advanced encoding /UniGB-UTF16-H not implemented yet\n",
      "Advanced encoding /UniGB-UTF16-H not implemented yet\n",
      "Advanced encoding /UniGB-UTF16-H not implemented yet\n",
      "Advanced encoding /UniGB-UTF16-H not implemented yet\n",
      "Advanced encoding /UniGB-UTF16-H not implemented yet\n",
      "Advanced encoding /UniGB-UTF16-H not implemented yet\n",
      "Advanced encoding /UniGB-UTF16-H not implemented yet\n"
     ]
    },
    {
     "name": "stdout",
     "output_type": "stream",
     "text": [
      "Processing: RiceBlastData/202004-411-422.pdf\n",
      "Processing: RiceBlastData/2021-null.pdf\n",
      "Processing: RiceBlastData/2022-null.pdf\n"
     ]
    },
    {
     "name": "stderr",
     "output_type": "stream",
     "text": [
      "Ignoring wrong pointing object 6 0 (offset 0)\n"
     ]
    },
    {
     "name": "stdout",
     "output_type": "stream",
     "text": [
      "Processing: RiceBlastData/2024年水稻重大病虫害防控技术方案.pdf\n",
      "Processing: RiceBlastData/BP20230400000_87846733.pdf\n",
      "Processing: RiceBlastData/DB43_T+2015-2021.pdf\n",
      "Processing: RiceBlastData/art00017.pdf\n"
     ]
    },
    {
     "name": "stderr",
     "output_type": "stream",
     "text": [
      "Multiple definitions in dictionary at byte 0x5d11f for key /MediaBox\n"
     ]
    },
    {
     "name": "stdout",
     "output_type": "stream",
     "text": [
      "Processing: RiceBlastData/art00022.pdf\n"
     ]
    },
    {
     "name": "stderr",
     "output_type": "stream",
     "text": [
      "Ignoring wrong pointing object 6 0 (offset 0)\n",
      "Ignoring wrong pointing object 8 0 (offset 0)\n",
      "Ignoring wrong pointing object 6 0 (offset 0)\n"
     ]
    },
    {
     "name": "stdout",
     "output_type": "stream",
     "text": [
      "Processing: RiceBlastData/水稻稻瘟病-百度百科.pdf\n",
      "Processing: RiceBlastData/稻瘟病-百度百科.pdf\n"
     ]
    },
    {
     "name": "stderr",
     "output_type": "stream",
     "text": [
      "Ignoring wrong pointing object 6 0 (offset 0)\n"
     ]
    },
    {
     "name": "stdout",
     "output_type": "stream",
     "text": [
      "Processing: RiceBlastData/稻瘟病菌.pdf\n",
      "Processing: RiceBlastData/稻瘟病菌群体遗传结构的研究进展.pdf\n"
     ]
    },
    {
     "data": {
      "text/plain": [
       "97"
      ]
     },
     "execution_count": 4,
     "metadata": {},
     "output_type": "execute_result"
    }
   ],
   "source": [
    "# 设置pdf文件夹路径, 请将<1>替换为pdf文件夹路径, 文件夹名为RiceBlastData\n",
    "pdf_folder_path = 'RiceBlastData'\n",
    "base_docs = load_pdf_doucuments(pdf_folder_path)\n",
    "len(base_docs)"
   ]
  },
  {
   "cell_type": "code",
   "execution_count": null,
   "id": "02bdba3a-8d3d-445e-9df1-a83b6ba854d3",
   "metadata": {},
   "outputs": [],
   "source": [
    "for doc in base_docs:\n",
    "  print(doc.metadata)"
   ]
  },
  {
   "cell_type": "code",
   "execution_count": 9,
   "id": "102afd84-34f5-417e-bb41-e2d99bad5799",
   "metadata": {},
   "outputs": [],
   "source": [
    "from sentence_transformers import SentenceTransformer\n",
    "from langchain.embeddings import HuggingFaceEmbeddings, SentenceTransformerEmbeddings\n",
    "\n",
    "# bgm-m3路径位于$GEMINI_PRETRAIN下\n",
    "EMBEDDING_PATH = os.path.expandvars('$GEMINI_PRETRAIN/bge-m3')\n",
    "# 加载bge-m3模型\n",
    "embeddings = SentenceTransformerEmbeddings(model_name=EMBEDDING_PATH)"
   ]
  },
  {
   "cell_type": "code",
   "execution_count": 11,
   "id": "ba3721f1-92e8-4198-926c-4150653ac6fd",
   "metadata": {},
   "outputs": [],
   "source": [
    "from langchain.vectorstores import Chroma\n",
    "from langchain.embeddings import OpenAIEmbeddings\n",
    "from langchain.text_splitter import RecursiveCharacterTextSplitter\n",
    "\n",
    "# 补充创建一个RecursiveCharacterTextSplitter分割器，并且设定每个分块（chunk）的大小为1000，块间重叠部分的token数为100;\n",
    "text_splitter = RecursiveCharacterTextSplitter(chunk_size=1000, chunk_overlap=100)\n",
    "\n",
    "# 使用创建的分割器对base_docs里存的所有pdf文档进行分割，分割后的chunks保存在docs中；\n",
    "docs = text_splitter.split_documents(base_docs)\n",
    "\n",
    "# 将分割后的chunks，通过前面加载的embedding模型转换为向量，并存储在向量库vectorstore中。\n",
    "vectorstore = Chroma.from_documents(documents=docs, embedding=embeddings)"
   ]
  },
  {
   "cell_type": "code",
   "execution_count": 12,
   "id": "95ac0379-93c9-47f8-b8d1-d5a68c7f0f80",
   "metadata": {},
   "outputs": [],
   "source": [
    "len(docs)\n",
    "import csv\n",
    "\n",
    "with open(\"splited_docs.csv\", 'w', newline='', encoding='utf-8') as file:\n",
    "    writer = csv.writer(file)\n",
    "    # 遍历数据写入\n",
    "    for row in docs:\n",
    "        writer.writerow(row)"
   ]
  },
  {
   "cell_type": "code",
   "execution_count": 13,
   "id": "850419a8-2c5c-49f1-a332-1432e1e086aa",
   "metadata": {},
   "outputs": [
    {
     "name": "stdout",
     "output_type": "stream",
     "text": [
      "1000\n"
     ]
    }
   ],
   "source": [
    "print(max([len(chunk.page_content) for chunk in docs]))"
   ]
  },
  {
   "cell_type": "code",
   "execution_count": 14,
   "id": "983933f3-bc53-4233-9f1c-24a5aef77e8e",
   "metadata": {},
   "outputs": [
    {
     "name": "stderr",
     "output_type": "stream",
     "text": [
      "/root/miniconda3/lib/python3.10/site-packages/langchain_core/_api/deprecation.py:141: LangChainDeprecationWarning: The method `BaseRetriever.get_relevant_documents` was deprecated in langchain-core 0.1.46 and will be removed in 1.0. Use invoke instead.\n",
      "  warn_deprecated(\n"
     ]
    }
   ],
   "source": [
    "# 使用vectorstore.as_retriever方法创建检索器，注意设定参数为检索最相关的Top2文本块。\n",
    "base_retriever = vectorstore.as_retriever(top_k=2)\n",
    "\n",
    "relevant_docs = base_retriever.get_relevant_documents(\"什么是稻瘟病?\")"
   ]
  },
  {
   "cell_type": "code",
   "execution_count": 15,
   "id": "54c55bd3-4540-4c0d-8e66-8a8ba9e7194c",
   "metadata": {},
   "outputs": [
    {
     "name": "stdout",
     "output_type": "stream",
     "text": [
      "[Document(metadata={'page': 0, 'source': 'RiceBlastData/稻瘟病-百度百科.pdf'}, page_content='稻瘟病  稻瘟病⼜名稻热病、⽕烧瘟、叩头瘟等，是由稻瘟病原菌引起的、发⽣在⽔稻的⼀种病害。稻瘟病在⽔稻整个⽣育期中都可发⽣，为害秧苗、叶⽚、穗、节等，分别称为苗瘟、叶瘟、穗瘟和节瘟。 稻瘟病分布遍及世界稻区，是稻作⽣产中的主要病害，其中以亚洲、⾮洲稻区发病为重。在中国地区⼀般⼭区重于平原，粳、糯重于籼稻，除华南稻区早稻重于晚稻外，其他稻区晚稻重于早稻。流⾏年份，⼀般减产10-20%，重的达40-50%，局部⽥块甚⾄颗粒⽆收。 稻瘟病的防治⽅法主要有选⽤抗病品种， 培育优质秧苗、 肥⽔管理技术措施、 加强⽥间管理、落实防治措施、化学药剂控制等。在稻瘟病流⾏以后，要切实掌握稻瘟病的发病症状、发病规律和发病原因， 结合种植情况， 采取科学可⾏的稻瘟病防治技术措施， 树⽴起良好的预防理念，降低稻瘟病发⽣的可能性，避免给稻⾕产量和质量造成损失。 2023年3⽉7⽇，被农业农村部列⼊《⼀类农作物病⾍害名录（2023年） 》 。  病原特征 稻瘟病原菌属于半知菌类丛梗孢科、梨形孢属 [1]。稻瘟病病原菌⽆性阶段（⾃然条件下）为灰梨孢菌（学名：Pyricularia oryzae Cav.）， 属 半 知 菌 类 梨 形 孢 属 ； 有 性 阶 段 （ 在 ⼈ ⼯ 培 养基上经⽤不同菌株交配后形成的有性世代） 为灰⾊⼤⻆间座壳菌 （学名：Magnaporthe grisea Barr. ）， 属 ⼦ 囊 菌 ⼴ ⼤ ⻆ 间 座 壳 属 [4]。  形态特征 菌丝：⽆⾊透明，丝状，有隔膜 [1]。 分⽣孢⼦梗：3-5根丛⽣成束，有时多达10根，从⽓孔或病部表⽪伸出，线状不分⽀，⼤⼩为112（-456）微⽶×3（-4）微⽶，有2-8隔膜，基部稍膨⼤，略带褐⾊，越⾄上部⾊越淡， 其顶端可产⽣分⽣孢⼦5-6个， 多的达9-20余个， 顶端屈曲处有分⽣孢⼦脱落的痕迹。 分⽣孢⼦：⽆⾊透明，鸭梨形或慈姑形。成熟孢⼦通常有2个隔膜，顶端尖，基部钝圆，有⼩突起，⼤⼩为17（-33）微⽶×6.5（-11）微⽶，萌发时两端细胞产⽣芽管，芽管的顶端，产⽣附者胞，呈球形或椭圆形，深褐⾊，壁厚，直径8-12微⽶，能紧紧贴附于寄主体上，产⽣侵⼊丝， ⼊侵寄主组织。 病菌分⽣孢⼦的⼤⼩常因不同菌株和培养条件⽽有⼀定的差异。  ⽣理特性 稻瘟病原菌菌丝发育的温度范围为8-37℃，以26-28℃为最适宜。'), Document(metadata={'page': 1, 'source': 'RiceBlastData/BP20230400000_87846733.pdf'}, page_content='邓欢 \\n \\n \\nDOI: 10.12677/bp.2023.134024  171 生物过程  \\n Copyright © 202 3 by author(s ) and Hans Publishers  Inc. \\nThis work is licensed under the Creative Commons Attribution International License (CC BY  4.0).  \\nhttp://creativecommons.org/licenses/by/4.0/  \\n  \\n \\n1. 引言  \\n水稻是我国最重要的粮食作物之一，其种植面积约占中国粮食作物播种面积的 25%，在农业生产中\\n发挥着极其重要的作用 [1] [2]。稻瘟病作为水稻三大病害之一，严重影响水稻产量[3]。稻瘟病由真菌稻\\n梨孢菌( Magnaporthe  oryzae )侵染引起，已知稻瘟病菌多达十几种，当条件适宜时，稻草秸秆里留存的病\\n菌会不断产生孢子，借风力传播到水稻上，使植株染病，然后继续产生孢子，再次侵染水稻，使水稻 从\\n发芽到收获期间 都有可能受到稻瘟病菌的侵害，稻瘟病的发生部位不同，会引起水稻 不同程度减产，严\\n重时减产 40%~50%，甚至导致绝收[4]。防治稻瘟病显得尤为重要。本文主要阐述了稻瘟病病原菌及水稻\\n稻瘟病的症状，综述了防治稻瘟病的研究进展，为我国防治稻瘟病及水稻高产提供参考。  \\n2. 稻瘟病病原菌  \\n稻瘟病病原菌根据其生活史可以分为有性态和无性态，在自然界中引起稻瘟病的是无性态[5]。在无\\n性态下病菌为灰梨孢，半知菌亚门真菌[6]。病原菌的分生孢子和菌丝体存在于留田的稻草秸秆里，也有\\n一些存在于谷粒上，播种后随种子一起进入土壤中，成为病菌来源[7]。 \\n3. 水稻稻瘟病症状  \\n稻瘟病在水稻生长的各个时期均会发生，根据发生部位的不同，稻瘟病又可分为苗瘟、叶瘟、节瘟、\\n穗颈瘟和 谷粒瘟。  \\n苗瘟在水稻苗期发生，发生时水稻秧苗会逐渐枯黄，基部变为黑褐色，最后整株苗死亡。  \\n叶瘟主要在水稻抽穗期的叶片上发生，当水稻感染叶瘟时，主要产生两种类型的 病斑：急性型病斑\\n和慢性型病斑。急性型病斑在气象有利时产生，在水稻叶片 上形成椭圆形的褪绿色病斑，病斑正反面均'), Document(metadata={'page': 0, 'source': 'RiceBlastData/稻瘟病菌.pdf'}, page_content='稻瘟病菌 稻热病菌（学名：Magnaporthe grisea、Magnaporthe oryzae）， ⼜ 称 稻 瘟 病 菌 ， 是 属 于 ⼦ 囊菌⻔粪壳菌纲的植物病原菌，能对⽔稻造成严重的感染，也能感染⼩⻨、裸⻨、⼤⻨与御⾕等作物。稻热病每年均造成严重的经济损失，据统计，这种感染每年摧毁了可供超过6000万⼈⻝⽤的⽔稻，⽬前已知85个国家有稻热病发⽣[1]。 现接受名为⽔稻稻瘟病菌（Pyricularia grisea Cooke ex Sacc., 1880）。  分类 稻热病菌最早于1880年从⻢唐分离，当时被命名为“Pyricularia grisea”，1892年⼜从⽔稻中分离此菌， 命名为“Pyricularia oryzae”，两 者 虽 有 ⼀ 些 形 态 差 异 ，但 当 时 被 认 为 是 同 种 ，故 两学名为同物异名[2]。近 年 分 ⼦ 种 系 发 ⽣ 学 的 研 究 显 示 稻 热 病 菌 为 ⼀ 复 合 种 ，⾄ 少 包 含 两 种 不能互相杂交的物种[3] ，其中从⻢唐属植物中分离出来的物种是较狭义的M. grisea，从⽔稻等其他植物中分离者则被新命名为M. oryzae[2]。其种加词“oryzae ”意为“⽔稻的”。  症状 稻热病菌可感染M-201、M-202、M-204、M-205、M-103、M-104、S-102、L-204与Calmochi-101等品系的⽔稻，其中以M-201最容易被感染[4]。其感染的初始症状为叶上⽩⾊⾄灰绿⾊、边缘较深的病斑，病斑变⼤后形状会渐呈椭圆形或纺锤形，并可能与周围病斑接合，使整⽚叶⼦枯萎， 被感染的植物全株地上部位皆可能有症状[5]，节 的 感 染 会 造 成 秆 的 断 裂[6]，花序基部的感染为颈腐病（neck rot）， 可 能 使 整 个 花 序 坏 死 ⽽ 不 能 产 ⽣ 种 ⼦ ， 造 成 植 株 产 ⽣的种⼦数量减少，叶圈（leaf collar，叶⽚与叶鞘的相连处）的感染为领腐病（collar rot），可能使整⽚叶坏死[1]。  感染 稻热病菌透过分⽣孢⼦散播， 其分⽣孢⼦在植株上萌发后， 可形成特化的构造附着器以穿透植物组织， 菌丝可经原⽣质丝在组织间⽣⻓蔓延[7]，并 再度产⽣ 分 ⽣ 孢⼦ ，在空⽓中 以 ⽓流传播[8]。在环境良好的 条件下，⼀ 次⽣'), Document(metadata={'page': 0, 'source': 'RiceBlastData/水稻稻瘟病-百度百科.pdf'}, page_content='⽔稻稻瘟病  稻瘟病是⽔稻重要病害之⼀，可引起⼤幅度减产，严重时减产40%～50%，甚⾄颗粒⽆收。世界各稻区均匀发⽣。本病在各地均有发⽣，其中以叶部、节部发⽣为多，发⽣后可造成不同程度减产，尤其穗颈瘟或节瘟发⽣早⽽重，可造成⽩穗以致绝产。近年来，⼴东稻瘟病年发⽣⾯积不少于50万亩，⽽且出现逐年增加趋势，局部⼤爆发并不少⻅，稻瘟病可能发⽣在省域内的任何年头、任何季节。   植物简介 我国各⽔稻产区均有发⽣。流⾏年份—般减产10%—20%，严重时减产40%—50%，甚⾄颗粒⽆收。主要危害叶⽚、茎秆、穗部。根据为害时期、部位不同分为苗瘟、叶瘟、节瘟、穗颈瘟、⾕粒瘟。   症状 苗瘟：发⽣于三叶前，由种⼦带菌所致。病苗基部灰⿊，上部变褐，卷缩⽽死，湿度较⼤时病部产⽣⼤量灰⿊⾊霉层。 叶瘟：分蘖⾄拔节期为害较重。慢性型病斑：开始在叶上产⽣暗绿⾊⼩斑，逐渐扩⼤为梭形斑，常有延伸的褐⾊坏死线。病斑中央灰⽩⾊，边缘褐⾊，外有淡⻩⾊晕圈，潮湿时叶背有灰⾊霉层，病斑较多时连⽚形成不规则⼤斑。 急性型病斑：在叶⽚上形成暗绿⾊近圆形或椭圆形病斑．叶⽚两⾯都产⽣褐⾊霉层。 ⽩点型病斑：嫩叶发病后．产⽣⽩⾊近圆形⼩斑，不产⽣孢⼦。 褐点型病斑：多在⽼叶上产⽣针尖⼤⼩的褐点．只产⽣于叶脉间，产⽣少量孢⼦。 节瘟：常在抽穗后发⽣，初在稻节上产⽣褐⾊⼩点，后渐绕节扩展，使病部变⿊，易折断。穗颈瘟：初形成褐⾊⼩点，发展后使穗颈部变褐，也造成枯⽩穗。 ⾕粒瘟：产⽣褐⾊椭圆形或不规则斑，可使稻⾕变⿊。有的颖壳⽆症状，护颖受害变褐，使种⼦带菌。    病原 Phyricularia grisea (Cooke) Sacc.称灰梨孢=Pyricularia oryae Cav.称稻梨孢，属半知菌亚⻔真菌。有性态为Magnaporthe grisea 9Hebert Barrnov.属⼦囊菌亚⻔真菌。⾃然条件下尚未发现。分⽣孢⼦梗不分枝，3-5根丛⽣， 从寄主表⽪或⽓孔伸出， ⼤⼩80-160×4-6(μm)，具2-8个隔膜， 基部稍膨⼤， 淡褐⾊， 向上⾊淡， 顶端曲状， 上⽣分⽣孢⼦。')]\n"
     ]
    }
   ],
   "source": [
    "len(relevant_docs)\n",
    "print(relevant_docs)"
   ]
  },
  {
   "cell_type": "code",
   "execution_count": 17,
   "id": "2d5392e1-a30a-473f-8820-def1832c44ec",
   "metadata": {},
   "outputs": [],
   "source": [
    "from langchain.prompts import ChatPromptTemplate\n",
    "\n",
    "template = \"\"\"请基于以下提供的上下文信息，回答如下问题。如果你认为根据提供的信息无法回答该问题，请回答'我不知道':\n",
    "\n",
    "### 上下文信息\n",
    "{context}\n",
    "\n",
    "### 问题\n",
    "问题: {question}\n",
    "\"\"\"\n",
    "\n",
    "# 调用ChatPromptTemplate的合适方法生成提问模板。\n",
    "prompt = ChatPromptTemplate.from_template(template)"
   ]
  },
  {
   "cell_type": "code",
   "execution_count": 21,
   "id": "4b53ff72-136d-495e-91e5-0b6f831fcc2e",
   "metadata": {},
   "outputs": [],
   "source": [
    "from langchain.llms.base import LLM\n",
    "from typing import Any, List, Optional\n",
    "from langchain.callbacks.manager import CallbackManagerForLLMRun\n",
    "from transformers import AutoTokenizer, AutoModelForCausalLM\n",
    "import torch\n",
    "\n",
    "class ChatGLM3_LLM(LLM):\n",
    "    # 基于本地 ChatGLM3 自定义 LLM 类\n",
    "    tokenizer : AutoTokenizer = None\n",
    "    model: AutoModelForCausalLM = None\n",
    "\n",
    "    def __init__(self, model_path :str):\n",
    "        # model_path: ChatGLM3 模型路径\n",
    "        # 从本地初始化模型\n",
    "        super().__init__()\n",
    "        print(\"正在从本地加载模型...\")\n",
    "        # 从本地加载一个预训练的分词器（tokenizer）\n",
    "        self.tokenizer = AutoTokenizer.from_pretrained(model_path, trust_remote_code=True)\n",
    "        # 从本地加载一个预训练的生成式语言模型\n",
    "        self.model = AutoModelForCausalLM.from_pretrained(model_path, trust_remote_code=True).half().cuda()\n",
    "        # 将模型设置为评估模式\n",
    "        self.model = self.model.eval()\n",
    "        print(\"完成本地模型的加载\")\n",
    "\n",
    "    def _call(self, prompt : str, stop: Optional[List[str]] = None,\n",
    "                run_manager: Optional[CallbackManagerForLLMRun] = None,\n",
    "                **kwargs: Any):\n",
    "        # 重写调用函数\n",
    "        response, history = self.model.chat(self.tokenizer, prompt , history=[])\n",
    "        return response\n",
    "        \n",
    "    @property\n",
    "    def _llm_type(self) -> str:\n",
    "        return \"ChatGLM3-6B\""
   ]
  },
  {
   "cell_type": "code",
   "execution_count": 23,
   "id": "2bb5d528-321e-4cae-8d2f-3285fb92ae49",
   "metadata": {},
   "outputs": [
    {
     "name": "stdout",
     "output_type": "stream",
     "text": [
      "正在从本地加载模型...\n"
     ]
    },
    {
     "name": "stderr",
     "output_type": "stream",
     "text": [
      "Loading checkpoint shards: 100%|██████████| 7/7 [02:11<00:00, 18.79s/it]\n"
     ]
    },
    {
     "name": "stdout",
     "output_type": "stream",
     "text": [
      "完成本地模型的加载\n"
     ]
    }
   ],
   "source": [
    "from operator import itemgetter\n",
    "from langchain.chat_models import ChatOpenAI\n",
    "from langchain.schema.output_parser import StrOutputParser\n",
    "from langchain.schema.runnable import RunnableLambda, RunnablePassthrough\n",
    "from langchain.chains import LLMChain\n",
    "from langchain.schema.messages import AIMessage\n",
    "from langchain_community.llms.chatglm3 import ChatGLM3\n",
    "from langchain_core.prompts import PromptTemplate\n",
    "\n",
    "# 设定chatglm3-6b模型的地址\n",
    "model_path = os.path.expandvars(\"$GEMINI_PRETRAIN2/chatglm3-6b\")\n",
    "\n",
    "# 初始化一个ChatGLM3_LLM的实例\n",
    "primary_qa_llm = ChatGLM3_LLM(model_path)\n",
    "\n",
    "retrieval_augmented_qa_chain = (\n",
    "    {\n",
    "        \"context\": itemgetter(\"question\") | base_retriever, \n",
    "        \"question\": itemgetter(\"question\")\n",
    "    } \n",
    "    | RunnablePassthrough.assign(context=itemgetter(\"context\"))\n",
    "    | {\n",
    "        \"response\": prompt | primary_qa_llm | StrOutputParser(), \n",
    "        \"context\": itemgetter(\"context\")\n",
    "    }\n",
    ")"
   ]
  },
  {
   "cell_type": "code",
   "execution_count": 24,
   "id": "e9b0cfaf-efba-40dd-a070-9dbd806f234b",
   "metadata": {},
   "outputs": [
    {
     "name": "stdout",
     "output_type": "stream",
     "text": [
      "{'response': '抗稻瘟病的品种有宜恢 80（携带稻瘟病抗性基因 Pi9）、旗 3优 386（辽稻 20A 与携带 Pi-ta 基因的水稻配组选育而成）、川农优 538（携带 Pi-ta 基因的水稻与蜀恢 538 配组，选育出了抗病性强、稳产性好、米质优等特點的水稻新品种）以及宜恢 80（与携带 Pi-ta 基因的水稻连粳 05-45 杂交，培育出了携带 Pi-ta 和 Pi-2 基因组合的水稻）。', 'context': [Document(metadata={'page': 2, 'source': 'RiceBlastData/BP20230400000_87846733.pdf'}, page_content='治效果，发现将链霉菌 Ahn75和解淀粉芽孢杆菌 CWJ2菌株组合后对水稻叶瘟盆栽防效为 65.07%，对穗\\n颈瘟的盆栽和田间防效分别为 63.00%、52.16% ，显著高于单一菌株[24] 。夏木凤等研究表明施用复合微\\n生物菌剂有利于水稻生长发育，提高水稻产量[ 25]。 \\n4.3. 种植抗病品种  \\n随着生物技术的发展 ，种植抗稻瘟病品种是防治稻瘟病最根本、有效的方法。开发抗稻瘟病的水稻\\n新品种、聚合两个或多个稻瘟病抗性基因，创制高产、高抗的优质水稻已成为水稻育种的重要目标[26] 。\\n目前已发掘了 100余个稻瘟病抗性基因，已有 39个基因被克隆[27] 。以辐恢 838为受体亲本选育而成的\\n恢复系宜恢 80，携带稻瘟病抗性基因 Pi9 [28]，是一个优良恢复系，可与不同来源的不育系杂交选育抗\\n性品种。不育系旗 3A与恢复系福恢 386配组选育成的水稻新品种旗 3优386，中抗稻瘟病，同时具有株\\n型适中、米质较优、抗倒伏等特点[29] 。高抗稻瘟病杂交水稻深两优 326由不育系深 08S与恢复系 R326\\n配组选育而成[30] ；不育系川农 6A与恢复系蜀恢 538配组，选育出了抗病性强、稳产性好、米质优等特\\n点的水稻新品种川农优 538 [31]，均为生产上提供了稳产的抗病新品种。 将携带 Pi-ta基因的水稻连粳\\n05-45与携带 Pi-2基因的水稻 H401杂交配组，培育出了携带 Pi-ta和Pi-2基因组合的水稻，表现出较强\\n的抗病水平[32] 。 \\n参考文献  \\n[1] Ainsworth , E.A. (2008 ) Rice Production in a Changing Climate : A Meta -Analysis of Responses to Elevated Carbon \\nDioxide and Elevated Ozone Concentration . Global Change Biology , 14, 1642 -1650 .  \\nhttps://doi.org/10.1111/j.1365- 2486.2008.01594.x'), Document(metadata={'page': 2, 'source': 'RiceBlastData/art00022.pdf'}, page_content='］\\n。\\n2.3\\n黑龙江稻区主栽品种抗性\\n1996-2008\\n年\\n，\\n空育\\n131\\n年是黑龙江推广面积最\\n大的品种\\n，\\n种植比例占适宜区域的\\n60%\\n。\\n然而\\n，\\n空育\\n131\\n对稻瘟病的抗性较差\\n，\\n易造成稻瘟病的大流行\\n。\\n2006-2008\\n年育成的水稻新品种只有龙粳\\n20\\n号\\n、\\n龙育\\n03-1804\\n、\\n垦稻\\n12\\n以及空育\\n131\\n稻瘟病发病较重\\n，\\n而龙\\n粳\\n24\\n号\\n、\\n垦粳\\n1\\n号\\n、\\n建\\nA182\\n、\\n龙粳\\n21\\n号\\n、\\n绥粳\\n10\\n号稻\\n瘟病发病较轻\\n，\\n抗性较好\\n［\\n20\\n］\\n;\\n在黑龙江省空育\\n131\\n、\\n龙\\n粳\\n14\\n、\\n龙盾\\n104\\n等\\n13\\n个主栽品种中\\n，\\n从品种对整个黑\\n龙江省稻瘟病菌株的抗性来看\\n，\\n抗性最好的是龙粳\\n14\\n和龙盾\\n104\\n，\\n从品种对适宜积温带稻瘟病菌株的抗\\n性来看\\n，\\n第\\n2\\n积温带的绥粳\\n7\\n和第\\n3\\n积温带的龙盾\\n104\\n分别是抗瘟性最好的品种\\n［\\n21\\n］\\n。\\n近些年来\\n，\\n秋光\\n、\\n超产\\n、\\n辽盐\\n、\\n辽粳\\n、\\n丹粳\\n、\\n沈农和营\\n8433\\n等系列品种分布于东北各地区\\n，\\n随着地区种植品\\n种的多样化\\n，\\n稻瘟病菌群体与水稻品种互作体系保持\\n相对稳定\\n，\\n减轻了东北稻区稻瘟病大发生的威胁\\n。\\n3\\n已知稻瘟病抗性基因在东北地区的\\n利用价值\\n迄今\\n，\\n通过广泛的遗传分析\\n，\\n已定位了\\n85\\n个稻\\n541'), Document(metadata={'page': 2, 'source': 'RiceBlastData/art00022.pdf'}, page_content='近年来国家北方水稻区试品种\\n的抗性呈现上升趋势\\n。\\n其中九\\n9632\\n、\\n辽粳\\n92-34\\n、\\n沈稻\\n8\\n号等\\n20\\n多个品种抗性水平均达到中抗以上\\n［\\n14\\n］\\n。\\n2.1\\n辽宁稻区主栽品种抗性\\n当前辽宁省主栽品种中花粳\\n15\\n、\\n盐\\n21\\n、\\n开\\n9725\\n、\\n沈农\\n606\\n、\\n沈\\n98-20\\n、\\n97～122\\n、\\n东研\\n2\\n号等\\n7\\n个\\n品种在其种植地区表现较好的抗性\\n，\\n而盐粳\\n36\\n、\\n雨\\n田\\n6\\n号\\n、\\n港辐\\n5\\n号\\n、\\n辽农\\n996\\n、\\n新\\n95-1\\n、\\n辽东\\n5\\n号较易\\n感病\\n［\\n15\\n］\\n。\\n近年来\\n，\\n辽宁省以优质\\n、\\n高产\\n、\\n抗病为目标\\n，\\n选育\\n和引进了一批优良水稻品种\\n，\\n如用屉锦\\nA\\n和粳型特异\\n亲和恢复系\\nC418\\n配组选育高抗穗颈瘟品种屉优\\n418\\n，\\n已在生产上累计推广种植\\n6.6\\n万\\nhm\\n2\\n以上\\n［\\n16\\n］\\n;\\n辽\\n20A\\n与米质优良\\n、\\n高抗稻瘟病的\\nC2106\\n配组育成的高抗稻\\n瘟病杂交粳稻新组合\\n，\\n已被大面积示范种植\\n［\\n17\\n］\\n。\\n总体看来\\n，\\n辽宁省种植的水稻品种抗性在逐步\\n增强\\n，\\n但是对于抗病品种的抗性遗传基础和抗谱尚\\n不清楚\\n。\\n2.2\\n吉林稻区水稻品种抗性\\n吉粳\\n88\\n是以日本高产优质品种奥羽\\n346\\n为母\\n本\\n、\\n长白\\n9\\n号为父本选育的超级稻品种\\n，\\n对稻瘟病抗\\n性较强\\n，\\n2006\\n年在吉林省种植面积已达\\n30\\n万\\nhm\\n2\\n，\\n占水田面积的\\n40%\\n。\\n超级稻单一品种大面积种植\\n，\\n稻瘟病暴发流行的病害风险较大\\n。\\n1996-1998\\n年参加吉林省区域试验的\\n35\\n个水稻\\n新品种中\\n，\\n抗性较好的品种有组培\\n11\\n、\\n九\\n9432\\n、\\n通\\n124\\n等\\n9\\n个品种\\n，\\n可以在全省种植\\n，\\n其他\\n26\\n个品种\\n可以根据在不同地区的抗性表现\\n，\\n合理搭配种\\n植\\n［\\n18\\n］\\n;\\n2001-2003\\n年吉林省区域试验的\\n23\\n个水稻新\\n品种均对苗瘟和叶瘟的抗性较好\\n，\\n但是无高抗穗瘟\\n的品种\\n，\\n参试品种中仅通育\\n217\\n和通系\\n150\\n对穗瘟\\n抗性稍好\\n，\\n表现为中等感病\\n［\\n19\\n］\\n。\\n2.3\\n黑龙江稻区主栽品种抗性\\n1996-2008\\n年\\n，\\n空育\\n131\\n年是黑龙江推广面积最\\n大的品种\\n，\\n种植比例占适宜区域的\\n60%\\n。\\n然而\\n，\\n空育\\n131\\n对稻瘟病的抗性较差\\n，'), Document(metadata={'page': 5, 'source': 'RiceBlastData/稻瘟病-百度百科.pdf'}, page_content='[2]。 加强⽥间管理， 结合⽥情采取有效的防治措施。 如果稻穗未成熟时出现稻瘟病情况， 则可以在灭菌上先使⽤强氧化剂， 接着为了做好后期保护⼯作使⽤富⼠⼀号加强巩固， 从⽽提⾼治理的安全可靠性，切实做到诊断准确、⽤药恰当、对症下药的科学防治 [2]。 五、化学药剂控制 使⽤化学药剂控制稻瘟病是最常⻅和最有效的⽅式， 主要的药剂包括苯菌灵、 三环唑、 异丙硫脲和抗⽣素（如杀稻瘟菌素和春雷霉素） 。这些农药中含有植物活化剂、胆碱⽣物合成抑制剂和⿊⾊素⽣物合成抑制剂， 持续多年的使⽤表明， 保留不同类别的化学物质以⼲扰稻瘟菌的抗性，对防治稻瘟病有很好的效果 [5]。 2024年2⽉，南京农业⼤学张正光教授团队与上海师范⼤学邢维满教授团队合作，发现稻瘟病菌特有的⼀种毒性效应⼦， 在此基础上开发了⼀种新型杀菌剂。 团队根据效应⼦MoErs1的晶体结构开发了⼀种⼆苯醚酯类化合物，它能够与MoErs1结合，抑制病菌侵染。 [7] 分级标准 播报 编辑 ⼀、苗叶瘟，以株为单位。 0级：⽆病；1级：每株病斑5个以下；2级：每株病斑5个以上；3级：病斑满布，叶⽚枯萎 [1]。 ⼆、叶瘟，以叶⽚为单位。')]}\n"
     ]
    }
   ],
   "source": [
    "question = \"抗稻瘟病的品种有哪些？\"\n",
    "\n",
    "result = retrieval_augmented_qa_chain.invoke({\"question\" : question})\n",
    "\n",
    "print(result)"
   ]
  },
  {
   "cell_type": "code",
   "execution_count": 25,
   "id": "63dc7fc4-b27c-4965-9aca-7a0df4017c92",
   "metadata": {},
   "outputs": [
    {
     "name": "stdout",
     "output_type": "stream",
     "text": [
      "{'response': '稻瘟病是由稻瘟病原菌引起的、发生在水稻的一種病害。它會对水稻的秧苗、叶片、穗部等造成不同程度的影响，导致水稻产量降低。稻瘟病分布遍及世界稻区，是稻作產产中的主要病害，其中以亚洲、非洲稻区发病为重。在中国地区，一般山区重于平原，粳、糯重于籼稻，除华南稻区早稻重于晚稻外，其他稻区晚稻重于早稻。稻瘟病的防治方法主要有选用抗病品种，培育优质秧苗、肥水管理技术措施、加强田间管理、落实防治措施、化学药剂控制等。', 'context': [Document(metadata={'page': 0, 'source': 'RiceBlastData/稻瘟病-百度百科.pdf'}, page_content='稻瘟病  稻瘟病⼜名稻热病、⽕烧瘟、叩头瘟等，是由稻瘟病原菌引起的、发⽣在⽔稻的⼀种病害。稻瘟病在⽔稻整个⽣育期中都可发⽣，为害秧苗、叶⽚、穗、节等，分别称为苗瘟、叶瘟、穗瘟和节瘟。 稻瘟病分布遍及世界稻区，是稻作⽣产中的主要病害，其中以亚洲、⾮洲稻区发病为重。在中国地区⼀般⼭区重于平原，粳、糯重于籼稻，除华南稻区早稻重于晚稻外，其他稻区晚稻重于早稻。流⾏年份，⼀般减产10-20%，重的达40-50%，局部⽥块甚⾄颗粒⽆收。 稻瘟病的防治⽅法主要有选⽤抗病品种， 培育优质秧苗、 肥⽔管理技术措施、 加强⽥间管理、落实防治措施、化学药剂控制等。在稻瘟病流⾏以后，要切实掌握稻瘟病的发病症状、发病规律和发病原因， 结合种植情况， 采取科学可⾏的稻瘟病防治技术措施， 树⽴起良好的预防理念，降低稻瘟病发⽣的可能性，避免给稻⾕产量和质量造成损失。 2023年3⽉7⽇，被农业农村部列⼊《⼀类农作物病⾍害名录（2023年） 》 。  病原特征 稻瘟病原菌属于半知菌类丛梗孢科、梨形孢属 [1]。稻瘟病病原菌⽆性阶段（⾃然条件下）为灰梨孢菌（学名：Pyricularia oryzae Cav.）， 属 半 知 菌 类 梨 形 孢 属 ； 有 性 阶 段 （ 在 ⼈ ⼯ 培 养基上经⽤不同菌株交配后形成的有性世代） 为灰⾊⼤⻆间座壳菌 （学名：Magnaporthe grisea Barr. ）， 属 ⼦ 囊 菌 ⼴ ⼤ ⻆ 间 座 壳 属 [4]。  形态特征 菌丝：⽆⾊透明，丝状，有隔膜 [1]。 分⽣孢⼦梗：3-5根丛⽣成束，有时多达10根，从⽓孔或病部表⽪伸出，线状不分⽀，⼤⼩为112（-456）微⽶×3（-4）微⽶，有2-8隔膜，基部稍膨⼤，略带褐⾊，越⾄上部⾊越淡， 其顶端可产⽣分⽣孢⼦5-6个， 多的达9-20余个， 顶端屈曲处有分⽣孢⼦脱落的痕迹。 分⽣孢⼦：⽆⾊透明，鸭梨形或慈姑形。成熟孢⼦通常有2个隔膜，顶端尖，基部钝圆，有⼩突起，⼤⼩为17（-33）微⽶×6.5（-11）微⽶，萌发时两端细胞产⽣芽管，芽管的顶端，产⽣附者胞，呈球形或椭圆形，深褐⾊，壁厚，直径8-12微⽶，能紧紧贴附于寄主体上，产⽣侵⼊丝， ⼊侵寄主组织。 病菌分⽣孢⼦的⼤⼩常因不同菌株和培养条件⽽有⼀定的差异。  ⽣理特性 稻瘟病原菌菌丝发育的温度范围为8-37℃，以26-28℃为最适宜。'), Document(metadata={'page': 1, 'source': 'RiceBlastData/BP20230400000_87846733.pdf'}, page_content='邓欢 \\n \\n \\nDOI: 10.12677/bp.2023.134024  171 生物过程  \\n Copyright © 202 3 by author(s ) and Hans Publishers  Inc. \\nThis work is licensed under the Creative Commons Attribution International License (CC BY  4.0).  \\nhttp://creativecommons.org/licenses/by/4.0/  \\n  \\n \\n1. 引言  \\n水稻是我国最重要的粮食作物之一，其种植面积约占中国粮食作物播种面积的 25%，在农业生产中\\n发挥着极其重要的作用 [1] [2]。稻瘟病作为水稻三大病害之一，严重影响水稻产量[3]。稻瘟病由真菌稻\\n梨孢菌( Magnaporthe  oryzae )侵染引起，已知稻瘟病菌多达十几种，当条件适宜时，稻草秸秆里留存的病\\n菌会不断产生孢子，借风力传播到水稻上，使植株染病，然后继续产生孢子，再次侵染水稻，使水稻 从\\n发芽到收获期间 都有可能受到稻瘟病菌的侵害，稻瘟病的发生部位不同，会引起水稻 不同程度减产，严\\n重时减产 40%~50%，甚至导致绝收[4]。防治稻瘟病显得尤为重要。本文主要阐述了稻瘟病病原菌及水稻\\n稻瘟病的症状，综述了防治稻瘟病的研究进展，为我国防治稻瘟病及水稻高产提供参考。  \\n2. 稻瘟病病原菌  \\n稻瘟病病原菌根据其生活史可以分为有性态和无性态，在自然界中引起稻瘟病的是无性态[5]。在无\\n性态下病菌为灰梨孢，半知菌亚门真菌[6]。病原菌的分生孢子和菌丝体存在于留田的稻草秸秆里，也有\\n一些存在于谷粒上，播种后随种子一起进入土壤中，成为病菌来源[7]。 \\n3. 水稻稻瘟病症状  \\n稻瘟病在水稻生长的各个时期均会发生，根据发生部位的不同，稻瘟病又可分为苗瘟、叶瘟、节瘟、\\n穗颈瘟和 谷粒瘟。  \\n苗瘟在水稻苗期发生，发生时水稻秧苗会逐渐枯黄，基部变为黑褐色，最后整株苗死亡。  \\n叶瘟主要在水稻抽穗期的叶片上发生，当水稻感染叶瘟时，主要产生两种类型的 病斑：急性型病斑\\n和慢性型病斑。急性型病斑在气象有利时产生，在水稻叶片 上形成椭圆形的褪绿色病斑，病斑正反面均'), Document(metadata={'page': 0, 'source': 'RiceBlastData/稻瘟病菌.pdf'}, page_content='稻瘟病菌 稻热病菌（学名：Magnaporthe grisea、Magnaporthe oryzae）， ⼜ 称 稻 瘟 病 菌 ， 是 属 于 ⼦ 囊菌⻔粪壳菌纲的植物病原菌，能对⽔稻造成严重的感染，也能感染⼩⻨、裸⻨、⼤⻨与御⾕等作物。稻热病每年均造成严重的经济损失，据统计，这种感染每年摧毁了可供超过6000万⼈⻝⽤的⽔稻，⽬前已知85个国家有稻热病发⽣[1]。 现接受名为⽔稻稻瘟病菌（Pyricularia grisea Cooke ex Sacc., 1880）。  分类 稻热病菌最早于1880年从⻢唐分离，当时被命名为“Pyricularia grisea”，1892年⼜从⽔稻中分离此菌， 命名为“Pyricularia oryzae”，两 者 虽 有 ⼀ 些 形 态 差 异 ，但 当 时 被 认 为 是 同 种 ，故 两学名为同物异名[2]。近 年 分 ⼦ 种 系 发 ⽣ 学 的 研 究 显 示 稻 热 病 菌 为 ⼀ 复 合 种 ，⾄ 少 包 含 两 种 不能互相杂交的物种[3] ，其中从⻢唐属植物中分离出来的物种是较狭义的M. grisea，从⽔稻等其他植物中分离者则被新命名为M. oryzae[2]。其种加词“oryzae ”意为“⽔稻的”。  症状 稻热病菌可感染M-201、M-202、M-204、M-205、M-103、M-104、S-102、L-204与Calmochi-101等品系的⽔稻，其中以M-201最容易被感染[4]。其感染的初始症状为叶上⽩⾊⾄灰绿⾊、边缘较深的病斑，病斑变⼤后形状会渐呈椭圆形或纺锤形，并可能与周围病斑接合，使整⽚叶⼦枯萎， 被感染的植物全株地上部位皆可能有症状[5]，节 的 感 染 会 造 成 秆 的 断 裂[6]，花序基部的感染为颈腐病（neck rot）， 可 能 使 整 个 花 序 坏 死 ⽽ 不 能 产 ⽣ 种 ⼦ ， 造 成 植 株 产 ⽣的种⼦数量减少，叶圈（leaf collar，叶⽚与叶鞘的相连处）的感染为领腐病（collar rot），可能使整⽚叶坏死[1]。  感染 稻热病菌透过分⽣孢⼦散播， 其分⽣孢⼦在植株上萌发后， 可形成特化的构造附着器以穿透植物组织， 菌丝可经原⽣质丝在组织间⽣⻓蔓延[7]，并 再度产⽣ 分 ⽣ 孢⼦ ，在空⽓中 以 ⽓流传播[8]。在环境良好的 条件下，⼀ 次⽣'), Document(metadata={'page': 0, 'source': 'RiceBlastData/水稻稻瘟病-百度百科.pdf'}, page_content='⽔稻稻瘟病  稻瘟病是⽔稻重要病害之⼀，可引起⼤幅度减产，严重时减产40%～50%，甚⾄颗粒⽆收。世界各稻区均匀发⽣。本病在各地均有发⽣，其中以叶部、节部发⽣为多，发⽣后可造成不同程度减产，尤其穗颈瘟或节瘟发⽣早⽽重，可造成⽩穗以致绝产。近年来，⼴东稻瘟病年发⽣⾯积不少于50万亩，⽽且出现逐年增加趋势，局部⼤爆发并不少⻅，稻瘟病可能发⽣在省域内的任何年头、任何季节。   植物简介 我国各⽔稻产区均有发⽣。流⾏年份—般减产10%—20%，严重时减产40%—50%，甚⾄颗粒⽆收。主要危害叶⽚、茎秆、穗部。根据为害时期、部位不同分为苗瘟、叶瘟、节瘟、穗颈瘟、⾕粒瘟。   症状 苗瘟：发⽣于三叶前，由种⼦带菌所致。病苗基部灰⿊，上部变褐，卷缩⽽死，湿度较⼤时病部产⽣⼤量灰⿊⾊霉层。 叶瘟：分蘖⾄拔节期为害较重。慢性型病斑：开始在叶上产⽣暗绿⾊⼩斑，逐渐扩⼤为梭形斑，常有延伸的褐⾊坏死线。病斑中央灰⽩⾊，边缘褐⾊，外有淡⻩⾊晕圈，潮湿时叶背有灰⾊霉层，病斑较多时连⽚形成不规则⼤斑。 急性型病斑：在叶⽚上形成暗绿⾊近圆形或椭圆形病斑．叶⽚两⾯都产⽣褐⾊霉层。 ⽩点型病斑：嫩叶发病后．产⽣⽩⾊近圆形⼩斑，不产⽣孢⼦。 褐点型病斑：多在⽼叶上产⽣针尖⼤⼩的褐点．只产⽣于叶脉间，产⽣少量孢⼦。 节瘟：常在抽穗后发⽣，初在稻节上产⽣褐⾊⼩点，后渐绕节扩展，使病部变⿊，易折断。穗颈瘟：初形成褐⾊⼩点，发展后使穗颈部变褐，也造成枯⽩穗。 ⾕粒瘟：产⽣褐⾊椭圆形或不规则斑，可使稻⾕变⿊。有的颖壳⽆症状，护颖受害变褐，使种⼦带菌。    病原 Phyricularia grisea (Cooke) Sacc.称灰梨孢=Pyricularia oryae Cav.称稻梨孢，属半知菌亚⻔真菌。有性态为Magnaporthe grisea 9Hebert Barrnov.属⼦囊菌亚⻔真菌。⾃然条件下尚未发现。分⽣孢⼦梗不分枝，3-5根丛⽣， 从寄主表⽪或⽓孔伸出， ⼤⼩80-160×4-6(μm)，具2-8个隔膜， 基部稍膨⼤， 淡褐⾊， 向上⾊淡， 顶端曲状， 上⽣分⽣孢⼦。')]}\n"
     ]
    }
   ],
   "source": [
    "question = \"什么是稻瘟病？\"\n",
    "\n",
    "result = retrieval_augmented_qa_chain.invoke({\"question\" : question})\n",
    "\n",
    "print(result)"
   ]
  },
  {
   "cell_type": "code",
   "execution_count": 29,
   "id": "6574695e-c4a5-4c31-9752-52c5aaa31e3e",
   "metadata": {},
   "outputs": [
    {
     "name": "stdout",
     "output_type": "stream",
     "text": [
      "{'response': '一个半小时不是三个半小时。一个半小时是指1小时30分钟，而三个半小时是指2小时15分钟。', 'context': [Document(metadata={'page': 3, 'source': 'RiceBlastData/2021-null.pdf'}, page_content='/G3E/G3F/G45/G21/G22/G27/G28/G2E/G2F/G30/G46/G47/G48/G49/G4A/G2D/G2C/G3A/G3B/G3C/G3D/G3E/G3F/G4B/G2E\\n/G2F/G21/G22/G28/G29/G28/G23/G4C/G4D/G4E/G4F/G30/G37/G38 /G50/G2C/G3A/G3B/G3C/G3D/G26/G27/G32/G29/G2A\\n/G2B/G2C/G51/G52/G2D/G2C/G3A/G3B/G3C/G3D/G3E/G3F/G36\\n/G24/G53/G54/G55/G56/G54\\n/G2C/G3A/G3B/G57/G58/G59/G5A/G5B/G5C/G2D/G5D/G2C/G3B/G59/G5E/G5F/G30/G60/G61/G45/G37\\n/G62/G3C/G3B/G63/G64/G57/G65/G66/G5A/G67/G68/G2D/G69/G6A/G6B/G6C/G36/G6D/G43/G2C/G3A/G3B/G6E/G6F/G70/G71/G72/G73/G74/G30/G75/G76/G77/G3C/G3B/G63/G64/G2D/G3C/G3D/G78/G79/G7A/G7B/G7C/G7D/G7E/G2D/G7F/G32/G31/G80/G81/G82/G83/G84/G85/G86/G87\\n/G2B/G28/G2A/G2C/G36/G3F/G44/G30/G88/G89/G4D/G8A/G8B\\n/G8C/G22/G8D/G8E/G8F/G2D/G3C/G3B/G63/G64/G90/G91/G37/G62/G4B/G92/G93/G3C/G42/G7B/G7C/G43/G51/G26/G2D/G2C/G3A/G3B/G3C/G3D/G61/G64/G23/G36/G46/G47/G94/G6B/G95/G96/G3C/G2C/G3A/G3B/G97/G98\\n/G2D/G27/G99/G9A/G9B/G9C/G9D/G2B/G2C/G63/G64 /G33/G9E/G35/G2D/G3C/G3D/G5D/G9F/G90/G91/GA0/GA1/GA2'), Document(metadata={'page': 4, 'source': 'RiceBlastData/2021-null.pdf'}, page_content='/G3B/G3C/G26/G2F/G2D/G2C/G2E/G2F/G44 /G49/G32/G25 /G2E/G4A/G25/G38/G2E/G28/G25 /G2E/G27/G27/G3A/G2E/G2F /G28/G38/G34/G4B/G33/G32 /G38/G2E/G33/G25 /G34/G26 /G38/G30/G36/G25 /G2E/G38/G25/G2E/G3B /G4C/G30/G25/G2F/G4D /G4E/G25/G38 /G3A/G27/G30/G33 /G2E/G38/G25/G2E /G2E/G27/G4D /G33/G34/G33/G2E/G2F /G4C/G30/G25/G2F/G4D /G4E/G25/G38 /G3A/G27/G30/G33 /G2E/G38/G25/G2E /G30/G27/G36/G38/G25/G2E/G37/G25/G4D /G4F/G4C /G40/G47/G41/G50/G51/G3B /G43/G47/G41/G52/G51\\n/G2E/G27/G4D /G53/G47/G3E/G3E/G51/G3B /G38/G25/G37/G4E/G25/G36/G33/G30/G4A/G25/G2F/G4C/G3B /G2E/G36/G36/G34/G38/G4D/G30/G27/G28 /G33/G34 /G33/G32/G25 /G2E/G27/G2E/G2F/G4C/G37/G30/G37 /G34/G26 /G28/G2F/G34/G4F/G2E/G2F /G38/G30/G36/G25 /G4E/G38/G34 /G4D/G3A/G36/G33/G30/G34/G27 /G26/G38/G34/G48 /G43/G54/G41/G43 /G33/G34 /G53/G40/G43/G55/G47 /G56/G30/G36/G25 /G30/G37 /G36/G3A/G2F/G33/G30/G4A/G2E/G33/G25/G4D /G30/G27 /G33/G32/G25 /G36/G34/G27/G33/G30/G27/G25/G27/G33/G37 /G34/G26'), Document(metadata={'page': 3, 'source': 'RiceBlastData/2021-null.pdf'}, page_content='/G41/G43/G3D/G5F/G3E/G3D/G48/G2B/G32/G2C/G31/G29/G38/G2A/G3C/G23/G39/G3A/G22 /G39 /G23/G29/G28/G29/G39 /G28/G2A/G2F/G33/G35/G35/G53 /G27/G23/G2E/G33/G27/G2E/G29/G31\\n/G2B/G28/G27/G2C /G5D/G38/G3A/G2D/G62 /G59/G39 /G62/G63/G22/G38/G55 /G5B/G39 /G5D/G37/G36/G38 /G3C/G39 /G3E/G47 /G43/G3F/G31 /G37 /G48/G3E/G47 /G46/G49 /G42/G3E/G43/G3D/G33/G40/G48/G46/G4B/G3E/G42/G40/G4E /G3F/G40/G42/G3E/G48 /G49/G46/G3D\\n/G50/G3F/G43/G48/G47 /G3D/G3E/G48/G40/G48/G47/G43/G42/G4E/G3E /G4B/G3E/G42/G3E/G48 /G4C/G40/G47/G4F /G43/G42 /G22/G3C/G4B/G22/G3A/G2A /G33/G47/G44/G45/G3E /G3D/G43/G40/G42/G49/G3E/G4D /G3F/G46/G4C/G3F/G43/G42/G4D /G3E/G3F/G40/G47/G3E /G3D/G40/G4E/G3E\\n/G33/G3B/G2D/G2E/G2F/G2A/G27/G2A/G23/G22/G30/G2A /G5B/G31/G35/G4B/G3E/G42/G3E/G47/G40/G4E /G50/G43/G4E/G5F/G4B/G3D/G46/G52/G42/G4D /G2B/G32/G2C/G31 /G4D/G22/G32/G38/G4B/G4E/G2D/G2C/G44/G3F/G32/G27 /G39 /G23/G29/G28/G28/G39 /G28/G23/G2E/G21/G22/G23/G24/G25/G26/G27/G28/G29/G2A/G2B/G2C/G2D/G2E/G2F/G30'), Document(metadata={'page': 6, 'source': 'RiceBlastData/art00017.pdf'}, page_content='elongation ≥0.3, the disease level was grade 3. If 0<elongation<0.3, it was above grade 3. A disease level more \\nthan grade 4 was classified according to the area occupi ed by the infestation area on a whole leaf. The testing \\nresult showed that 160 samples could be accurately classified in the 166 test sa mples at different levels of rice leaf \\nblast and the overall classification accuracy was 96.39%. Clas sification as Grades 0, 1 or 2 and grade 3 are based \\non discrete characteristic data, while ab ove grade 4 is based on continuous characteristic data. Utilizing infection \\nrate as an evaluation criteria to  artificially classify into grade 4~9, the re sult of the classification was affected by \\nthe characteristics of the test samples and the distribution of data. The linear regression methods were developed to analyze the correction between the me asured and predicted values of the infestation rates within the disease')]}\n"
     ]
    }
   ],
   "source": [
    "question = \"一个半小时是三个半小时吗？\"\n",
    "\n",
    "result = retrieval_augmented_qa_chain.invoke({\"question\" : question})\n",
    "\n",
    "print(result)"
   ]
  },
  {
   "cell_type": "code",
   "execution_count": null,
   "id": "2f03a0b9-8d40-480b-8a36-e83ef87fe98f",
   "metadata": {},
   "outputs": [],
   "source": []
  }
 ],
 "metadata": {
  "kernelspec": {
   "display_name": "Python 3 (ipykernel)",
   "language": "python",
   "name": "python3"
  },
  "language_info": {
   "codemirror_mode": {
    "name": "ipython",
    "version": 3
   },
   "file_extension": ".py",
   "mimetype": "text/x-python",
   "name": "python",
   "nbconvert_exporter": "python",
   "pygments_lexer": "ipython3",
   "version": "3.10.13"
  }
 },
 "nbformat": 4,
 "nbformat_minor": 5
}
