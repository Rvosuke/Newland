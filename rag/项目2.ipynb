{
 "cells": [
  {
   "cell_type": "code",
   "execution_count": null,
   "id": "c11925d9-a61d-4e5e-8438-5436351c4256",
   "metadata": {},
   "outputs": [],
   "source": [
    "!pip install -U langchain==0.2.11 openai==1.37.0 ragas==0.1.11 arxiv==2.1.3 pymupdf==1.24.9 chromadb==0.5.5 wandb==0.17.5 tiktoken==0.7.0 pypdf==4.3.1 sentence_transformers==2.7.0\n",
    "!pip install rank_bm25"
   ]
  },
  {
   "cell_type": "markdown",
   "id": "a92b597d",
   "metadata": {},
   "source": [
    "### 项目二、作业\n",
    "\n",
    "请在完成项目二学习任务的前提下，完成以下任务：\n",
    "\n",
    "\n",
    "#### 1. 设计RAG应用场景并收集语料数据：\n",
    "开发基于私有知识库的垂直大语言模型应用能有效解决通用大语言模型在更新不及时、对特定领域知识不足的问题，RAG技术是当前构建垂直大语言模型的主流技术，请根据你对大语言模型、RAG技术的理解，设想一个典型应用场景，自行搜集相关语料数据资源，并统一保存在一个文件夹中。\n",
    "\n",
    "应用场景选择： 应用场景的选择综合考虑应用价值和语料数据来源可获得性，本作业将作为本次培训项目汇报的选题之一，请认真考虑选择的应用场景，在进行项目汇报时需重点说明本项目的应用价值或商用价值。\n",
    "\n",
    "语料数据集要求：语料数据集的来源可以是网页、论文、文章、公共数据集等，不同来源的语料建议统一转换成一种格式（如pdf或txt格式等），尽可能手工去除文档中杂乱无意义的文本或内容（如论文中的页面页脚、网页中的广告等）。来自同一篇独立的文档的语料，请用单独的1份文档保存，不要把不同文档的内容合并到一个文档中。搜集的文档数量不少于10份。\n",
    "\n",
    "#### 2. 针对语料数据采用不同检索器和参数构建RAG系统\n",
    "\n",
    "基于你搜集的语料数据，分别采用三种不同检索器（base_retriver、PDR、EM），使用项目二教程中所采用的模型和RAG流程获得检索得到的文档以及最终结果。\n",
    "\n",
    "设计10个以上的提问，分别执行三种RAG流程，将检索得到的文档以及最终结果保存在“rag-result.csv”文件中。\n",
    "\n",
    "该文件包含的列包括：\n",
    "\n",
    "\n",
    "| 列名      | 描述 |\n",
    "| ----------- | ----------- |\n",
    "| index      | 序号       |\n",
    "| question   | 提问内容        |\n",
    "| ground_truth_answer   | 最贴切的回答，可以是你人工分析文案后手工撰写的回答，也可以是你综合三种RAG给出的结果选择最贴近的回答再补充你认为需要调整或补充的内容；        |\n",
    "| base_retriever_chunks_size1000_overlap100_k2   | 使用base_retriever检索得到的文本块（chunks），设置参数chunk_size为1000，chunk_overlap为100，k为2；        |\n",
    "| base_retriever_answer_size1000_overlap100_k2   | 使用base_retriever获得的最终回答，设置参数chunk_size为1000，chunk_overlap为100，k为2；        |\n",
    "| PDR_chunks_psize1500_csize200   | 使用parent_document_retriever检索得到的文本块（chunks），设置父文本块chunk_size为1500，子文本块的chunk_size为200；        |\n",
    "| PDR_answer_psize1500_csize200   | 使用parent_document_retriever获得的最终回答，设置父文本块chunk_size为1500，子文本块的chunk_size为200；       |\n",
    "| ER_chunks_size1000_overlap100_k3_w75   | 使用ensemble_retriever检索得到的文本块（chunks），设置参数chunk_size为1000，chunk_overlap为100，k为3，bm25_retriever的权重是0.75；        |\n",
    "| ER_answer_size1000_overlap100_k3_w75   | 使用ensemble_retriever获得的最终回答，设置参数chunk_size为1000，chunk_overlap为100，k为3，bm25_retriever的权重是0.75；      |\n",
    "\n",
    "\n",
    "#### 3. 完成结果文件提交\n",
    "\n",
    "完成本作业后，请找任课老师现场验收完成结果，再将数据集文件夹、代码文件（本Notebook文件）、rag-result.csv文件，共同打包命名为“项目二作业-(姓名)-(学号).tar”提交。"
   ]
  },
  {
   "cell_type": "code",
   "execution_count": 2,
   "id": "6d141463-2fc2-4ba1-95e9-6ad094bdb6c0",
   "metadata": {},
   "outputs": [],
   "source": [
    "from langchain.document_loaders import DirectoryLoader\n",
    "from langchain.text_splitter import RecursiveCharacterTextSplitter\n",
    "from langchain.embeddings import HuggingFaceEmbeddings, SentenceTransformerEmbeddings\n",
    "from langchain.vectorstores import Chroma\n",
    "from langchain.retrievers import ParentDocumentRetriever, BM25Retriever, EnsembleRetriever\n",
    "from langchain.storage import InMemoryStore\n",
    "from langchain.llms import ChatGLM\n",
    "from langchain.chains import RetrievalQA\n",
    "import pandas as pd"
   ]
  },
  {
   "cell_type": "code",
   "execution_count": 3,
   "id": "b8d75243-9c60-4f8b-90f4-9626c443ca81",
   "metadata": {},
   "outputs": [],
   "source": [
    "import os\n",
    "from langchain.document_loaders import pdf, PyPDFLoader\n",
    "\n",
    "def load_pdf_doucuments(pdf_folder_path: str) -> list:\n",
    "    base_docs = []\n",
    "    \n",
    "    if not os.path.exists(pdf_folder_path):\n",
    "        raise FileNotFoundError(f\"The folder '{pdf_folder_path}' does not exist.\")\n",
    "\n",
    "    for file in os.listdir(pdf_folder_path):\n",
    "        if file.endswith('.pdf'):\n",
    "            pdf_path = os.path.join(pdf_folder_path, file)\n",
    "            print(f\"Processing: {pdf_path}\")\n",
    "            try:\n",
    "                loader = PyPDFLoader(pdf_path)\n",
    "                pages = loader.load()\n",
    "                base_docs.extend(pages)\n",
    "            except Exception as e:\n",
    "                print(f\"Error processing {pdf_path}: {str(e)}\")\n",
    "\n",
    "    return base_docs"
   ]
  },
  {
   "cell_type": "code",
   "execution_count": 5,
   "id": "82641e3c-2800-4a24-a44a-afb3c31caee6",
   "metadata": {},
   "outputs": [
    {
     "name": "stderr",
     "output_type": "stream",
     "text": [
      "/root/miniconda3/lib/python3.10/site-packages/tqdm/auto.py:21: TqdmWarning: IProgress not found. Please update jupyter and ipywidgets. See https://ipywidgets.readthedocs.io/en/stable/user_install.html\n",
      "  from .autonotebook import tqdm as notebook_tqdm\n"
     ]
    }
   ],
   "source": [
    "from langchain.llms.base import LLM\n",
    "from typing import Any, List, Optional\n",
    "from langchain.callbacks.manager import CallbackManagerForLLMRun\n",
    "from transformers import AutoTokenizer, AutoModelForCausalLM\n",
    "import torch\n",
    "\n",
    "class ChatGLM3_LLM(LLM):\n",
    "    # 基于本地 ChatGLM3 自定义 LLM 类\n",
    "    tokenizer : AutoTokenizer = None\n",
    "    model: AutoModelForCausalLM = None\n",
    "\n",
    "    def __init__(self, model_path :str):\n",
    "        # model_path: ChatGLM3 模型路径\n",
    "        # 从本地初始化模型\n",
    "        super().__init__()\n",
    "        print(\"正在从本地加载模型...\")\n",
    "        # 从本地加载一个预训练的分词器（tokenizer）\n",
    "        self.tokenizer = AutoTokenizer.from_pretrained(model_path, trust_remote_code=True)\n",
    "        # 从本地加载一个预训练的生成式语言模型\n",
    "        self.model = AutoModelForCausalLM.from_pretrained(model_path, trust_remote_code=True).half().cuda()\n",
    "        # 将模型设置为评估模式\n",
    "        self.model = self.model.eval()\n",
    "        print(\"完成本地模型的加载\")\n",
    "\n",
    "    def _call(self, prompt : str, stop: Optional[List[str]] = None,\n",
    "                run_manager: Optional[CallbackManagerForLLMRun] = None,\n",
    "                **kwargs: Any):\n",
    "        # 重写调用函数\n",
    "        response, history = self.model.chat(self.tokenizer, prompt , history=[])\n",
    "        return response\n",
    "        \n",
    "    @property\n",
    "    def _llm_type(self) -> str:\n",
    "        return \"ChatGLM3-6B\""
   ]
  },
  {
   "cell_type": "code",
   "execution_count": 4,
   "id": "df668198-6bbb-4db0-894c-1b32c100ff67",
   "metadata": {},
   "outputs": [
    {
     "name": "stdout",
     "output_type": "stream",
     "text": [
      "Processing: 3DGS/2106.12372v2.pdf\n",
      "Processing: 3DGS/2308.04079v1.pdf\n",
      "Processing: 3DGS/2310.08529v3.pdf\n",
      "Processing: 3DGS/2401.00834v2.pdf\n",
      "Processing: 3DGS/2407.11343v1.pdf\n",
      "Processing: 3DGS/3503250.pdf\n",
      "Processing: 3DGS/3528223.3530127.pdf\n",
      "Processing: 3DGS/Barron_Mip-NeRF_A_Multiscale_Representation_for_Anti-Aliasing_Neural_Radiance_Fields_ICCV_2021_paper.pdf\n",
      "Processing: 3DGS/Jiang_GaussianShader_3D_Gaussian_Splatting_with_Shading_Functions_for_Reflective_Surfaces_CVPR_2024_paper.pdf\n",
      "Processing: 3DGS/Wu_4D_Gaussian_Splatting_for_Real-Time_Dynamic_Scene_Rendering_CVPR_2024_paper.pdf\n"
     ]
    },
    {
     "data": {
      "text/plain": [
       "135"
      ]
     },
     "execution_count": 4,
     "metadata": {},
     "output_type": "execute_result"
    }
   ],
   "source": [
    "pdf_folder_path = '3DGS'\n",
    "base_docs = load_pdf_doucuments(pdf_folder_path)\n",
    "len(base_docs)"
   ]
  },
  {
   "cell_type": "code",
   "execution_count": 7,
   "id": "7ecafa8c-1f1c-494a-889b-8b26d8343ca9",
   "metadata": {},
   "outputs": [
    {
     "name": "stdout",
     "output_type": "stream",
     "text": [
      "正在从本地加载模型...\n"
     ]
    },
    {
     "name": "stderr",
     "output_type": "stream",
     "text": [
      "Loading checkpoint shards: 100%|██████████| 7/7 [01:52<00:00, 16.06s/it]\n"
     ]
    },
    {
     "name": "stdout",
     "output_type": "stream",
     "text": [
      "完成本地模型的加载\n"
     ]
    }
   ],
   "source": [
    "# 初始化语言模型\n",
    "model_path = os.path.expandvars(\"$GEMINI_PRETRAIN2/chatglm3-6b\")\n",
    "primary_qa_llm = ChatGLM3_LLM(model_path)"
   ]
  },
  {
   "cell_type": "code",
   "execution_count": 8,
   "id": "88c5095b-8d5c-410f-bb2b-b05468b62b60",
   "metadata": {},
   "outputs": [
    {
     "name": "stderr",
     "output_type": "stream",
     "text": [
      "/root/miniconda3/lib/python3.10/site-packages/langchain_core/_api/deprecation.py:141: LangChainDeprecationWarning: The class `HuggingFaceEmbeddings` was deprecated in LangChain 0.2.2 and will be removed in 0.3.0. An updated version of the class exists in the langchain-huggingface package and should be used instead. To use it run `pip install -U langchain-huggingface` and import as `from langchain_huggingface import HuggingFaceEmbeddings`.\n",
      "  warn_deprecated(\n"
     ]
    }
   ],
   "source": [
    "# 初始化嵌入模型\n",
    "EMBEDDING_PATH = os.path.expandvars('$GEMINI_PRETRAIN/bge-m3')\n",
    "embeddings = SentenceTransformerEmbeddings(model_name=EMBEDDING_PATH)"
   ]
  },
  {
   "cell_type": "code",
   "execution_count": 15,
   "id": "4292de22-f17f-49e2-92ba-4c7f6f923936",
   "metadata": {},
   "outputs": [],
   "source": [
    "base_splitter = RecursiveCharacterTextSplitter(chunk_size=1000, chunk_overlap=100)\n",
    "parent_splitter = RecursiveCharacterTextSplitter(chunk_size=1500)\n",
    "child_splitter = RecursiveCharacterTextSplitter(chunk_size=200)"
   ]
  },
  {
   "cell_type": "code",
   "execution_count": 16,
   "id": "88e1993d-8aeb-415d-b909-75b69b43e6e1",
   "metadata": {},
   "outputs": [
    {
     "name": "stderr",
     "output_type": "stream",
     "text": [
      "Exception occurred invoking consumer for subscription f16d3be1f7bb4110a5811abd0c788908to topic persistent://default/default/c1f96998-9aed-4825-bd5f-2b3d62b8bce8 'utf-8' codec can't encode characters in position 757-758: surrogates not allowed\n"
     ]
    }
   ],
   "source": [
    "# 1. Base Retriever\n",
    "base_docs_split = base_splitter.split_documents(base_docs)\n",
    "base_vectorstore = Chroma.from_documents(base_docs_split, embeddings)\n",
    "base_retriever = base_vectorstore.as_retriever(search_kwargs={\"k\": 2})"
   ]
  },
  {
   "cell_type": "code",
   "execution_count": 17,
   "id": "81c742cf-f411-4e90-a7e6-fbd11c3bab10",
   "metadata": {},
   "outputs": [
    {
     "name": "stderr",
     "output_type": "stream",
     "text": [
      "Exception occurred invoking consumer for subscription acb3d08a818848a597eb684198ad66a5to topic persistent://default/default/a10dcdea-5a51-41ac-a3d3-af1aeba800de 'utf-8' codec can't encode characters in position 191-192: surrogates not allowed\n"
     ]
    }
   ],
   "source": [
    "# 2. Parent Document Retriever (PDR)\n",
    "vectorstore = Chroma(collection_name=\"split_parents\", embedding_function=embeddings)\n",
    "store = InMemoryStore()\n",
    "pdr = ParentDocumentRetriever(\n",
    "    vectorstore=vectorstore,\n",
    "    docstore=store,\n",
    "    child_splitter=child_splitter,\n",
    "    parent_splitter=parent_splitter,\n",
    ")\n",
    "pdr.add_documents(base_docs)"
   ]
  },
  {
   "cell_type": "code",
   "execution_count": 18,
   "id": "9a343ca7-e999-4df0-9c5c-8c80112886c0",
   "metadata": {},
   "outputs": [],
   "source": [
    "# 3. Ensemble Retriever (ER)\n",
    "bm25_retriever = BM25Retriever.from_documents(base_docs_split)\n",
    "bm25_retriever.k = 3\n",
    "chroma_retriever = base_vectorstore.as_retriever(search_kwargs={\"k\": 3})\n",
    "er = EnsembleRetriever(\n",
    "    retrievers=[bm25_retriever, chroma_retriever],\n",
    "    weights=[0.75, 0.25]\n",
    ")"
   ]
  },
  {
   "cell_type": "code",
   "execution_count": 19,
   "id": "37cac931-6efb-46c7-964d-ea78d54c28a3",
   "metadata": {},
   "outputs": [],
   "source": [
    "# Create QA chains\n",
    "template = \"\"\"Please answer the following question based on the provided context information. If you think the question cannot be answered based on the provided information, please answer 'I don't know':\n",
    "\n",
    "### Context Information\n",
    "{context}\n",
    "\n",
    "### Question\n",
    "Question: {question}\n",
    "\"\"\"\n",
    "prompt = ChatPromptTemplate.from_template(template)"
   ]
  },
  {
   "cell_type": "code",
   "execution_count": 20,
   "id": "dfaf7b46-8c25-40a2-a6f2-48e4c59ec53a",
   "metadata": {},
   "outputs": [],
   "source": [
    "def create_qa_chain(retriever):\n",
    "    return (\n",
    "        {\"context\": itemgetter(\"question\") | retriever,\n",
    "         \"question\": itemgetter(\"question\")\n",
    "        }\n",
    "        | RunnablePassthrough.assign(\n",
    "            context=itemgetter(\"context\")\n",
    "          )\n",
    "        | {\n",
    "             \"response\": prompt | primary_qa_llm,\n",
    "             \"context\": itemgetter(\"context\"),\n",
    "          }\n",
    "    )\n",
    "\n",
    "base_qa = create_qa_chain(base_retriever)\n",
    "pdr_qa = create_qa_chain(pdr)\n",
    "er_qa = create_qa_chain(er)"
   ]
  },
  {
   "cell_type": "code",
   "execution_count": 21,
   "id": "75480fa4-0ef6-42af-9443-f52cdde868c5",
   "metadata": {},
   "outputs": [],
   "source": [
    "# Prepare the list of questions and ground truth answers\n",
    "questions_and_answers = [\n",
    "    {\n",
    "        \"question\": \"What is 3D Gaussian Splatting?\",\n",
    "        \"ground_truth\": \"3D Gaussian Splatting is an emerging technique for 3D scene representation and rendering. It uses 3D Gaussian functions to represent points in a scene, each with its own position, scale, orientation, and color attributes. This method efficiently represents and renders complex 3D scenes, particularly excelling in handling scenes reconstructed from multi-view images.\"\n",
    "    },\n",
    "    {\n",
    "        \"question\": \"How does 3D Gaussian Splatting differ from traditional point cloud rendering methods?\",\n",
    "        \"ground_truth\": \"3D Gaussian Splatting differs from traditional point cloud rendering in several ways: 1) Representation: It uses 3D Gaussian functions instead of simple points. 2) Rendering quality: It produces smoother, more continuous surfaces, reducing the 'holes' common in point cloud rendering. 3) Efficiency: It typically requires fewer points to achieve the same rendering quality, thus having an advantage in rendering speed. 4) Multi-scale representation: Gaussian functions can represent details at different scales, better capturing the multi-scale nature of scenes.\"\n",
    "    },\n",
    "    {\n",
    "        \"question\": \"What are the main advantages of 3D Gaussian Splatting?\",\n",
    "        \"ground_truth\": \"The main advantages of 3D Gaussian Splatting include: 1) High-quality rendering: Produces smooth, continuous surfaces with fewer artifacts. 2) Rendering efficiency: Usually requires fewer points than traditional methods to represent scenes of similar quality. 3) Fast training: Trains faster compared to methods like NeRF. 4) Editability: Gaussian points can be directly edited, facilitating scene modification. 5) Multi-view consistency: Maintains good consistency across different viewpoints. 6) Adaptability: Can represent various complex geometric shapes and materials.\"\n",
    "    },\n",
    "    {\n",
    "        \"question\": \"How does 3D Gaussian Splatting handle occlusion?\",\n",
    "        \"ground_truth\": \"3D Gaussian Splatting handles occlusion through: 1) Depth sorting: Gaussian points are sorted by depth during rendering, ensuring correct occlusion of points. 2) Alpha compositing: Uses alpha compositing techniques to blend overlapping Gaussian points, simulating semi-transparent effects. 3) Adaptive opacity: The opacity of Gaussian points can be dynamically adjusted based on viewpoint and occlusion conditions. 4) Multi-scale representation: Gaussian points at different scales help provide finer representation at occlusion boundaries.\"\n",
    "    },\n",
    "    {\n",
    "        \"question\": \"How are Gaussian point parameters optimized during the training process of 3D Gaussian Splatting?\",\n",
    "        \"ground_truth\": \"In 3D Gaussian Splatting, Gaussian point parameters are optimized during training through: 1) Gradient descent: Using backpropagation and gradient descent to optimize the position, scale, orientation, and color of each Gaussian point. 2) Density adaptation: Dynamically adding or removing Gaussian points based on reconstruction error. 3) Hierarchical optimization: Optimizing large-scale structures first, then gradually optimizing details. 4) Regularization: Using regularization terms to prevent overfitting and maintain reasonable point distribution. 5) View consistency constraints: Ensuring consistent rendering results across different viewpoints.\"\n",
    "    },\n",
    "    {\n",
    "        \"question\": \"How does 3D Gaussian Splatting handle dynamic scenes?\",\n",
    "        \"ground_truth\": \"3D Gaussian Splatting handles dynamic scenes through methods such as: 1) Time-dependent Gaussian points: Adding a time dimension to each Gaussian point, allowing its attributes to change over time. 2) Deformation fields: Using additional deformation fields to describe dynamic changes in the scene. 3) Keyframe interpolation: Interpolating Gaussian point attributes between keyframes. 4) Dynamic point clouds: Generating independent sets of Gaussian points for each time step. 5) Spatio-temporal consistency constraints: Incorporating temporal continuity constraints in the optimization process.\"\n",
    "    },\n",
    "    {\n",
    "        \"question\": \"What advantages does 3D Gaussian Splatting have over Neural Radiance Fields (NeRF)?\",\n",
    "        \"ground_truth\": \"3D Gaussian Splatting has several advantages over NeRF: 1) Faster training: 3DGS typically takes minutes to hours, while NeRF can take days. 2) Faster rendering: 3DGS can achieve real-time rendering, while NeRF is usually slower. 3) Better memory efficiency: 3DGS uses explicit scene representation, requiring less memory. 4) Better editability: Gaussian points can be directly edited, while NeRF's implicit representation is harder to edit. 5) Better geometric representation: 3DGS can better capture sharp edges and details.\"\n",
    "    },\n",
    "    {\n",
    "        \"question\": \"What are the potential applications of 3D Gaussian Splatting in computer vision tasks?\",\n",
    "        \"ground_truth\": \"Potential applications of 3D Gaussian Splatting in computer vision include: 1) 3D reconstruction: High-quality 3D model reconstruction from multi-view images. 2) Novel view synthesis: Generating images from arbitrary new viewpoints. 3) Augmented reality: Providing high-quality, real-time 3D scene rendering. 4) Virtual reality: Creating immersive 3D environments. 5) 3D object recognition and segmentation: Using 3DGS representations for 3D object analysis. 6) Motion capture: Representing and analyzing dynamic human actions. 7) Cultural heritage digitization: High-precision recording and display of artifacts and historical sites.\"\n",
    "    },\n",
    "    {\n",
    "        \"question\": \"What challenges does 3D Gaussian Splatting face when dealing with large-scale outdoor scenes?\",\n",
    "        \"ground_truth\": \"Challenges faced by 3D Gaussian Splatting in large-scale outdoor scenes include: 1) Computational complexity: Large numbers of Gaussian points can lead to increased computational and memory demands. 2) Scale variations: Outdoor scenes have large scale differences between near and far objects, requiring multi-scale representation. 3) Lighting variations: Complex outdoor lighting conditions require consideration of global illumination effects. 4) Dynamic elements: Moving vehicles, pedestrians, etc., need special handling. 5) Sparse area representation: Efficient representation of large uniform areas like the sky. 6) Data acquisition: Requires a large number of high-quality multi-view images.\"\n",
    "    },\n",
    "    {\n",
    "        \"question\": \"How does 3D Gaussian Splatting handle specular reflections and transparent objects?\",\n",
    "        \"ground_truth\": \"3D Gaussian Splatting handles specular reflections and transparent objects through: 1) View-dependent color: Allowing Gaussian point colors to vary with viewpoint. 2) Multi-layer representation: Using multiple layers of Gaussian points to model transparency. 3) Environment mapping: Incorporating environment maps to simulate reflection effects. 4) Ray tracing: Integrating simplified ray tracing for reflections and refractions. 5) Material parameters: Adding extra material parameters like refractive index and reflectivity to Gaussian points. 6) Post-processing: Applying screen-space reflection techniques after rendering.\"\n",
    "    },\n",
    "    {\n",
    "        \"question\": \"What are the characteristics of 3D Gaussian Splatting in representing and rendering thin structures like hair or grass?\",\n",
    "        \"ground_truth\": \"3D Gaussian Splatting's characteristics in representing thin structures include: 1) Flat Gaussians: Using highly anisotropic Gaussian functions to represent thin structures. 2) Density adjustment: Increasing the density of Gaussian points in areas with thin structures. 3) Orientation optimization: Precisely optimizing the orientation of Gaussian points to align with thin structures. 4) Multi-scale representation: Combining Gaussian points at different scales to capture details. 5) Special rendering techniques: May require special alpha blending or shadowing techniques. 6) Procedural generation: Can be combined with procedural generation techniques for repetitive structures like grass.\"\n",
    "    },\n",
    "    {\n",
    "        \"question\": \"How can 3D Gaussian Splatting be combined with other 3D reconstruction or rendering techniques?\",\n",
    "        \"ground_truth\": \"3D Gaussian Splatting can be combined with other techniques to enhance performance: 1) Integration with SLAM: For real-time 3D reconstruction and localization. 2) Combination with traditional geometric reconstruction: Using Gaussian points to refine results from traditional reconstruction. 3) Integration with neural rendering: Such as NeRF, for handling complex lighting effects. 4) Combination with point cloud processing techniques: For efficient rendering of large-scale point clouds. 5) Integration with deep learning: For improving parameter initialization and optimization. 6) Combination with physical simulation: For creating interactive dynamic 3D scenes.\"\n",
    "    }\n",
    "]"
   ]
  },
  {
   "cell_type": "code",
   "execution_count": 24,
   "id": "171835f5-fd10-4030-b813-c424e07a0abb",
   "metadata": {},
   "outputs": [
    {
     "name": "stderr",
     "output_type": "stream",
     "text": [
      "INFO:__main__:Processing question 1: What is 3D Gaussian Splatting?\n",
      "INFO:__main__:Completed processing question 1\n",
      "INFO:__main__:Processing question 2: How does 3D Gaussian Splatting differ from traditional point cloud rendering methods?\n",
      "ERROR:__main__:Error retrieving chunks for question 'How does 3D Gaussian Splatting differ from traditional point cloud rendering methods?': 1 validation error for Document\n",
      "page_content\n",
      "  none is not an allowed value (type=type_error.none.not_allowed)\n",
      "ERROR:__main__:Error in QA chain for question 'How does 3D Gaussian Splatting differ from traditional point cloud rendering methods?': 1 validation error for Document\n",
      "page_content\n",
      "  none is not an allowed value (type=type_error.none.not_allowed)\n",
      "INFO:__main__:Completed processing question 2\n",
      "INFO:__main__:Processing question 3: What are the main advantages of 3D Gaussian Splatting?\n",
      "INFO:__main__:Completed processing question 3\n",
      "INFO:__main__:Processing question 4: How does 3D Gaussian Splatting handle occlusion?\n",
      "INFO:__main__:Completed processing question 4\n",
      "INFO:__main__:Processing question 5: How are Gaussian point parameters optimized during the training process of 3D Gaussian Splatting?\n",
      "INFO:__main__:Completed processing question 5\n",
      "INFO:__main__:Processing question 6: How does 3D Gaussian Splatting handle dynamic scenes?\n",
      "ERROR:__main__:Error retrieving chunks for question 'How does 3D Gaussian Splatting handle dynamic scenes?': 1 validation error for Document\n",
      "page_content\n",
      "  none is not an allowed value (type=type_error.none.not_allowed)\n",
      "ERROR:__main__:Error in QA chain for question 'How does 3D Gaussian Splatting handle dynamic scenes?': 1 validation error for Document\n",
      "page_content\n",
      "  none is not an allowed value (type=type_error.none.not_allowed)\n",
      "ERROR:__main__:Error retrieving chunks for question 'How does 3D Gaussian Splatting handle dynamic scenes?': 1 validation error for Document\n",
      "page_content\n",
      "  none is not an allowed value (type=type_error.none.not_allowed)\n",
      "ERROR:__main__:Error in QA chain for question 'How does 3D Gaussian Splatting handle dynamic scenes?': 1 validation error for Document\n",
      "page_content\n",
      "  none is not an allowed value (type=type_error.none.not_allowed)\n",
      "ERROR:__main__:Error retrieving chunks for question 'How does 3D Gaussian Splatting handle dynamic scenes?': 1 validation error for Document\n",
      "page_content\n",
      "  none is not an allowed value (type=type_error.none.not_allowed)\n",
      "ERROR:__main__:Error in QA chain for question 'How does 3D Gaussian Splatting handle dynamic scenes?': 1 validation error for Document\n",
      "page_content\n",
      "  none is not an allowed value (type=type_error.none.not_allowed)\n",
      "INFO:__main__:Completed processing question 6\n",
      "INFO:__main__:Processing question 7: What advantages does 3D Gaussian Splatting have over Neural Radiance Fields (NeRF)?\n",
      "ERROR:__main__:Error retrieving chunks for question 'What advantages does 3D Gaussian Splatting have over Neural Radiance Fields (NeRF)?': 1 validation error for Document\n",
      "page_content\n",
      "  none is not an allowed value (type=type_error.none.not_allowed)\n",
      "ERROR:__main__:Error in QA chain for question 'What advantages does 3D Gaussian Splatting have over Neural Radiance Fields (NeRF)?': 1 validation error for Document\n",
      "page_content\n",
      "  none is not an allowed value (type=type_error.none.not_allowed)\n",
      "INFO:__main__:Completed processing question 7\n",
      "INFO:__main__:Processing question 8: What are the potential applications of 3D Gaussian Splatting in computer vision tasks?\n",
      "INFO:__main__:Completed processing question 8\n",
      "INFO:__main__:Processing question 9: What challenges does 3D Gaussian Splatting face when dealing with large-scale outdoor scenes?\n",
      "ERROR:__main__:Error retrieving chunks for question 'What challenges does 3D Gaussian Splatting face when dealing with large-scale outdoor scenes?': 1 validation error for Document\n",
      "page_content\n",
      "  none is not an allowed value (type=type_error.none.not_allowed)\n",
      "ERROR:__main__:Error in QA chain for question 'What challenges does 3D Gaussian Splatting face when dealing with large-scale outdoor scenes?': 1 validation error for Document\n",
      "page_content\n",
      "  none is not an allowed value (type=type_error.none.not_allowed)\n",
      "ERROR:__main__:Error retrieving chunks for question 'What challenges does 3D Gaussian Splatting face when dealing with large-scale outdoor scenes?': 1 validation error for Document\n",
      "page_content\n",
      "  none is not an allowed value (type=type_error.none.not_allowed)\n",
      "ERROR:__main__:Error in QA chain for question 'What challenges does 3D Gaussian Splatting face when dealing with large-scale outdoor scenes?': 1 validation error for Document\n",
      "page_content\n",
      "  none is not an allowed value (type=type_error.none.not_allowed)\n",
      "INFO:__main__:Completed processing question 9\n",
      "INFO:__main__:Processing question 10: How does 3D Gaussian Splatting handle specular reflections and transparent objects?\n",
      "INFO:__main__:Completed processing question 10\n",
      "INFO:__main__:Processing question 11: What are the characteristics of 3D Gaussian Splatting in representing and rendering thin structures like hair or grass?\n",
      "INFO:__main__:Completed processing question 11\n",
      "INFO:__main__:Processing question 12: How can 3D Gaussian Splatting be combined with other 3D reconstruction or rendering techniques?\n",
      "INFO:__main__:Completed processing question 12\n",
      "INFO:__main__:Results saved to rag-result.csv\n"
     ]
    }
   ],
   "source": [
    "import logging\n",
    "\n",
    "# Set up logging\n",
    "logging.basicConfig(level=logging.INFO)\n",
    "logger = logging.getLogger(__name__)\n",
    "\n",
    "# Helper function to safely get chunks\n",
    "def safe_get_chunks(retriever, question):\n",
    "    try:\n",
    "        chunks = retriever.invoke(question)\n",
    "        if not chunks:\n",
    "            logger.warning(f\"No chunks returned for question: {question}\")\n",
    "            return []\n",
    "        return chunks\n",
    "    except Exception as e:\n",
    "        logger.error(f\"Error retrieving chunks for question '{question}': {str(e)}\")\n",
    "        return []\n",
    "\n",
    "# Helper function to safely execute QA\n",
    "def safe_qa_invoke(qa_chain, question):\n",
    "    try:\n",
    "        result = qa_chain.invoke({\"question\": question})\n",
    "        return result.get(\"response\", \"No response generated\")\n",
    "    except Exception as e:\n",
    "        logger.error(f\"Error in QA chain for question '{question}': {str(e)}\")\n",
    "        return \"Error in generating response\"\n",
    "\n",
    "# Execute queries and save results\n",
    "results = []\n",
    "for idx, qa in enumerate(questions_and_answers, 1):\n",
    "    question = qa[\"question\"]\n",
    "    ground_truth = qa[\"ground_truth\"]\n",
    "    \n",
    "    logger.info(f\"Processing question {idx}: {question}\")\n",
    "\n",
    "    # For base_retriever\n",
    "    base_chunks = safe_get_chunks(base_retriever, question)\n",
    "    base_result = safe_qa_invoke(base_qa, question)\n",
    "    \n",
    "    # For PDR\n",
    "    pdr_chunks = safe_get_chunks(pdr, question)\n",
    "    pdr_result = safe_qa_invoke(pdr_qa, question)\n",
    "    \n",
    "    # For ER\n",
    "    er_chunks = safe_get_chunks(er, question)\n",
    "    er_result = safe_qa_invoke(er_qa, question)\n",
    "    \n",
    "    results.append({\n",
    "        \"index\": idx,\n",
    "        \"question\": question,\n",
    "        \"ground_truth_answer\": ground_truth,\n",
    "        \"base_retriever_chunks_size1000_overlap100_k2\": str(base_chunks),\n",
    "        \"base_retriever_answer_size1000_overlap100_k2\": base_result,\n",
    "        \"PDR_chunks_psize1500_csize200\": str(pdr_chunks),\n",
    "        \"PDR_answer_psize1500_csize200\": pdr_result,\n",
    "        \"ER_chunks_size1000_overlap100_k3_w75\": str(er_chunks),\n",
    "        \"ER_answer_size1000_overlap100_k3_w75\": er_result,\n",
    "    })\n",
    "\n",
    "    logger.info(f\"Completed processing question {idx}\")\n",
    "\n",
    "# Save results to CSV\n",
    "df = pd.DataFrame(results)\n",
    "df.to_csv(\"rag-result.csv\", index=False)\n",
    "logger.info(\"Results saved to rag-result.csv\")"
   ]
  },
  {
   "cell_type": "code",
   "execution_count": null,
   "id": "146be492-cf7b-4995-9991-26f3304be125",
   "metadata": {},
   "outputs": [],
   "source": []
  }
 ],
 "metadata": {
  "kernelspec": {
   "display_name": "Python 3 (ipykernel)",
   "language": "python",
   "name": "python3"
  },
  "language_info": {
   "codemirror_mode": {
    "name": "ipython",
    "version": 3
   },
   "file_extension": ".py",
   "mimetype": "text/x-python",
   "name": "python",
   "nbconvert_exporter": "python",
   "pygments_lexer": "ipython3",
   "version": "3.10.13"
  }
 },
 "nbformat": 4,
 "nbformat_minor": 5
}
