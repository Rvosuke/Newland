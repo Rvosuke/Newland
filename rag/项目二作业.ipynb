{
 "cells": [
  {
   "attachments": {},
   "cell_type": "markdown",
   "id": "86b5fcf8-c2f1-4bf0-9698-4dec208f98d9",
   "metadata": {},
   "source": [
    "### 项目二、作业\n",
    "\n",
    "请在完成项目二学习任务的前提下，完成以下任务：\n",
    "\n",
    "\n",
    "#### 1. 设计RAG应用场景并收集语料数据：\n",
    "开发基于私有知识库的垂直大语言模型应用能有效解决通用大语言模型在更新不及时、对特定领域知识不足的问题，RAG技术是当前构建垂直大语言模型的主流技术，请根据你对大语言模型、RAG技术的理解，设想一个典型应用场景，自行搜集相关语料数据资源，并统一保存在一个文件夹中。\n",
    "\n",
    "应用场景选择： 应用场景的选择综合考虑应用价值和语料数据来源可获得性，本作业将作为本次培训项目汇报的选题之一，请认真考虑选择的应用场景，在进行项目汇报时需重点说明本项目的应用价值或商用价值。\n",
    "\n",
    "语料数据集要求：语料数据集的来源可以是网页、论文、文章、公共数据集等，不同来源的语料建议统一转换成一种格式（如pdf或txt格式等），尽可能手工去除文档中杂乱无意义的文本或内容（如论文中的页面页脚、网页中的广告等）。来自同一篇独立的文档的语料，请用单独的1份文档保存，不要把不同文档的内容合并到一个文档中。搜集的文档数量不少于10份。\n",
    "\n",
    "#### 2. 针对语料数据采用不同检索器和参数构建RAG系统\n",
    "\n",
    "基于你搜集的语料数据，分别采用三种不同检索器（base_retriver、PDR、EM），使用项目二教程中所采用的模型和RAG流程获得检索得到的文档以及最终结果。\n",
    "\n",
    "设计10个以上的提问，分别执行三种RAG流程，将检索得到的文档以及最终结果保存在“rag-result.csv”文件中。\n",
    "\n",
    "该文件包含的列包括：\n",
    "\n",
    "\n",
    "| 列名      | 描述 |\n",
    "| ----------- | ----------- |\n",
    "| index      | 序号       |\n",
    "| question   | 提问内容        |\n",
    "| ground_truth_answer   | 最贴切的回答，可以是你人工分析文案后手工撰写的回答，也可以是你综合三种RAG给出的结果选择最贴近的回答再补充你认为需要调整或补充的内容；        |\n",
    "| base_retriever_chunks_size1000_overlap100_k2   | 使用base_retriever检索得到的文本块（chunks），设置参数chunk_size为1000，chunk_overlap为100，k为2；        |\n",
    "| base_retriever_answer_size1000_overlap100_k2   | 使用base_retriever获得的最终回答，设置参数chunk_size为1000，chunk_overlap为100，k为2；        |\n",
    "| PDR_chunks_psize1500_csize200   | 使用parent_document_retriever检索得到的文本块（chunks），设置父文本块chunk_size为1500，子文本块的chunk_size为200；        |\n",
    "| PDR_answer_psize1500_csize200   | 使用parent_document_retriever获得的最终回答，设置父文本块chunk_size为1500，子文本块的chunk_size为200；       |\n",
    "| ER_chunks_size1000_overlap100_k3_w75   | 使用ensemble_retriever检索得到的文本块（chunks），设置参数chunk_size为1000，chunk_overlap为100，k为3，bm25_retriever的权重是0.75；        |\n",
    "| ER_answer_size1000_overlap100_k3_w75   | 使用ensemble_retriever获得的最终回答，设置参数chunk_size为1000，chunk_overlap为100，k为3，bm25_retriever的权重是0.75；      |\n",
    "\n",
    "\n",
    "#### 3. 完成结果文件提交\n",
    "\n",
    "完成本作业后，请找任课老师现场验收完成结果，再将数据集文件夹、代码文件（本Notebook文件）、rag-result.csv文件，共同打包命名为“项目二作业-(姓名)-(学号).tar”提交。"
   ]
  },
  {
   "cell_type": "code",
   "execution_count": null,
   "id": "d922bd43-28e1-49de-88cd-c67e9a7029e3",
   "metadata": {},
   "outputs": [],
   "source": [
    "### 请在此处完成你的代码\n",
    "\n",
    "\n",
    "\n"
   ]
  }
 ],
 "metadata": {
  "kernelspec": {
   "display_name": "Python 3 (ipykernel)",
   "language": "python",
   "name": "python3"
  },
  "language_info": {
   "codemirror_mode": {
    "name": "ipython",
    "version": 3
   },
   "file_extension": ".py",
   "mimetype": "text/x-python",
   "name": "python",
   "nbconvert_exporter": "python",
   "pygments_lexer": "ipython3",
   "version": "3.10.13"
  }
 },
 "nbformat": 4,
 "nbformat_minor": 5
}
