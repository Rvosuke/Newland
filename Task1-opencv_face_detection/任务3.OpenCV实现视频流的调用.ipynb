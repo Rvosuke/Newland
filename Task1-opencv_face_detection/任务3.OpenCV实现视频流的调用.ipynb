{
 "cells": [
  {
   "cell_type": "markdown",
   "id": "48b5f160",
   "metadata": {},
   "source": [
    "# 任务3 OpenCV实现视频流的调用"
   ]
  },
  {
   "cell_type": "markdown",
   "id": "51106521-1a08-4bb1-9ea8-f0a4a448807e",
   "metadata": {},
   "source": [
    "## 职业能力目标\n",
    "\n",
    "- 能够使用线程的方式完成视频流调用。"
   ]
  },
  {
   "cell_type": "markdown",
   "id": "97dfa28e-606d-4af5-80a3-90e59822e7ce",
   "metadata": {},
   "source": [
    "## 任务描述\n",
    "\n",
    "本实验将实现在触摸屏实时显示USB摄像头采集的画面。"
   ]
  },
  {
   "cell_type": "markdown",
   "id": "5338abd8-5736-42ba-967a-338d4023284f",
   "metadata": {},
   "source": [
    "## 任务要求\n",
    "\n",
    "- 使用线程实现视频的实时采集与显示。"
   ]
  },
  {
   "cell_type": "markdown",
   "id": "e1ecd2c1-552a-45f1-b12d-ac8230c3faae",
   "metadata": {},
   "source": [
    "## 任务实施"
   ]
  },
  {
   "cell_type": "markdown",
   "id": "f37dd892-7031-49ab-a7b6-9390565688ab",
   "metadata": {},
   "source": [
    "## 1. 回顾图像的读取与保存\n",
    "\n",
    "详细代码解释这里不再赘述，如有遗忘，可以查看[任务1.OpenCV实现图像的读取与保存](./任务1.OpenCV实现图像的读取与保存.ipynb)重新回顾"
   ]
  },
  {
   "cell_type": "code",
   "execution_count": null,
   "id": "4c920481-a4be-48ea-a2d9-55eadb84c7b5",
   "metadata": {},
   "outputs": [],
   "source": [
    "import cv2 # 引入opencv库函数\n",
    "import time\n",
    "\n",
    "# 打开摄像头\n",
    "cap = cv2.VideoCapture(0)\n",
    "print(\"摄像头是否已经打开 ？ {}\".format(cap.isOpened()))\n",
    "\n",
    "# 画面宽度设定为 1920  高度度设定为 1080\n",
    "cap.set(cv2.CAP_PROP_FRAME_WIDTH, 1920)\n",
    "cap.set(cv2.CAP_PROP_FRAME_HEIGHT, 1080)\n",
    "\n",
    "#构建视频的窗口\n",
    "cv2.namedWindow('image_win', flags=cv2.WINDOW_NORMAL | cv2.WINDOW_KEEPRATIO)\n",
    "cv2.setWindowProperty('image_win', cv2.WND_PROP_FULLSCREEN, cv2.WINDOW_FULLSCREEN) # 全屏展示\n",
    "#读取摄像头图像\n",
    "ret, frame = cap.read()\n",
    "\n",
    "#更新窗口“image_win”中的图片\n",
    "cv2.imshow('image_win', frame)\n",
    "#等待按键事件发生 等待5000ms\n",
    "cv2.waitKey(5000)\n",
    "\n",
    "#保存图片\n",
    "cv2.imwrite(\"./exp/img_3.1.png\", frame)\n",
    "\n",
    "#释放VideoCapture\n",
    "cap.release()\n",
    "#销毁所有的窗口\n",
    "cv2.destroyAllWindows()"
   ]
  },
  {
   "cell_type": "markdown",
   "id": "5641ed0d-1961-43d1-bb42-cbb189b137d8",
   "metadata": {},
   "source": [
    "## 2. 回顾线程的调用\n",
    "\n",
    "详细代码解释这里不再赘述，如有遗忘，可以查看[任务2.线程的调用](./任务2.线程的调用.ipynb)重新回顾"
   ]
  },
  {
   "cell_type": "code",
   "execution_count": null,
   "id": "6efe33df-00ba-43f5-a06f-c965047c8edb",
   "metadata": {},
   "outputs": [],
   "source": [
    "import threading\n",
    "import time\n",
    "class videoThread(threading.Thread):\n",
    "    def __init__(self):\n",
    "        super(videoThread, self).__init__()\n",
    "        self.working = True  # 循环标志位\n",
    "        \n",
    "    def run(self):  # start()后运行run函数\n",
    "        while self.working:\n",
    "            print(\"这是一个线程\")\n",
    "            time.sleep(2)\n",
    "        \n",
    "    def stop(self):\n",
    "        self.working = False\n",
    "        print(\"退出线程\")"
   ]
  },
  {
   "cell_type": "markdown",
   "id": "decb7750-8d02-4deb-b52c-c6b94298f3ce",
   "metadata": {},
   "source": [
    "实例化一个`videoThread()`线程类，实例化对象为`a`\n",
    "\n",
    "线程对象`a`调用`start()`方法, 开始执行`videoThread()`线程类中的`run()`函数。"
   ]
  },
  {
   "cell_type": "code",
   "execution_count": null,
   "id": "9350a4fc-8f1f-4271-8ea8-40b66eb7957e",
   "metadata": {},
   "outputs": [],
   "source": [
    "a = videoThread()\n",
    "a.start()"
   ]
  },
  {
   "cell_type": "markdown",
   "id": "b88604b8-39fe-45af-b9aa-a034078b22c2",
   "metadata": {},
   "source": [
    "线程对象`a`调用`videoThread()`线程类中的`stop()`函数，来退出线程"
   ]
  },
  {
   "cell_type": "code",
   "execution_count": null,
   "id": "ca5fea08-a3fe-4a3f-90d0-84365dbd2fe2",
   "metadata": {},
   "outputs": [],
   "source": [
    "a.stop()"
   ]
  },
  {
   "cell_type": "markdown",
   "id": "abcb0086",
   "metadata": {},
   "source": [
    "## 3.OpenCV读入USB摄像头拍摄的画面显示至开发板\n",
    "\n",
    "通过结合任务1和任务2中的内容，使用OpenCV从USB摄像头读取视频流，并在开发板中显示出来。\n",
    "\n",
    "OpenCV读取usb摄像头的视频流，需要用到`VideoCapture`类。如果你在操作过程中，摄像头读取失败， 可以查看[排查手册](./doc/摄像头排查手册.txt)。\n"
   ]
  },
  {
   "cell_type": "markdown",
   "id": "eb92f798",
   "metadata": {},
   "source": [
    "### 3.1 视频流的图像显示与退出\n",
    "\n",
    "1. 在`init`函数中定义`标志位变量`、`打开摄像头`、`设置像素宽高`\n",
    "2. 使用上一份实验**2.6 读取图像和2.7 显示图片的代码**结合循环，通过循环的方式反复读取再显示画面，就能够形成视频流图像\n",
    "3. 在`run`函数中`构建视频窗口`、循环体中`读取摄像头图像`、`更新显示图片`、`图像显示的时长`\n",
    "4. 在`stop`函数中定义`标志位变量`、`摄像头释放`、`窗口释放`\n",
    "5. 将视频流图像封装成线程类，用线程的方式运行函数\n",
    "6. 再对视频流的图像显示与退出\n"
   ]
  },
  {
   "cell_type": "markdown",
   "id": "87175abb-642f-463a-85d2-00b33fcf77fb",
   "metadata": {},
   "source": [
    "<font color=red size=3>动手练习1</font>\n",
    "\n",
    "1. 在`<1>`处，使用`cv2.VideoCapture()`函数读取编号为`0`的默认摄像头，赋值给`self.cap`。\n",
    "2. 在`<2>`处，请用`self.cap.set()`函数使用`cv2.CAP_PROP_FRAME_WIDTH`设定画面宽度为`1920`。\n",
    "3. 在`<3>`处，请用`self.cap.set()`函数使用`cv2.CAP_PROP_FRAME_HEIGHT`设定画面宽度为`1080`。\n",
    "4. 在`<4>`处，请用`cv2.namedWindow()`函数设置名为`image_win`的窗口，设置窗口属性为可调整大小`cv2.WINDOW_NORMAL`，保持图像比例`cv2.WINDOW_KEEPRATIO`，绘制窗口`cv2.WINDOW_GUI_EXPANDED`。\n",
    "5. 在`<5>`处，请用`self.cap.release()`函数在退出线程时释放摄像头VideoCapture。\n",
    "6. 在`<6>`处，请用`cv2.destroyAllWindows()`函数在退出线程时销毁所有的窗口。"
   ]
  },
  {
   "cell_type": "markdown",
   "id": "7d85b56a-a612-4d98-a562-a32f6a8f1aa9",
   "metadata": {},
   "source": [
    "**填写完成后执行后续代码，能够正常打印`摄像头已打开`并且能够将摄像头视频流显示至显示屏，说明填写正确。**\n",
    "\n",
    "```python\n",
    "a = videoThread()\n",
    "a.start()\n",
    "```\n",
    "```markdown\n",
    "摄像头已打开\n",
    "```\n",
    "---\n",
    "```python\n",
    "a.stop()\n",
    "```\n",
    "```markdown\n",
    "退出线程\n",
    "```"
   ]
  },
  {
   "cell_type": "code",
   "execution_count": null,
   "id": "1bd8e644-7487-477a-8e43-53030c0f3951",
   "metadata": {},
   "outputs": [],
   "source": [
    "import threading\n",
    "import cv2 # 引入opencv库函数\n",
    "\n",
    "class videoThread(threading.Thread):\n",
    "    def __init__(self):\n",
    "        super(videoThread, self).__init__()\n",
    "        self.working = True  # 循环标志位\n",
    "        <1>  # 打开摄像头\n",
    "        if not self.cap.isOpened():\n",
    "            print(\"Cannot open camera\")\n",
    "        else:\n",
    "            print('摄像头已打开')\n",
    "        # 画面宽度设定为 1920   高度度设定为 1080\n",
    "        <2>\n",
    "        <3>\n",
    "        \n",
    "    def run(self):\n",
    "        # 构建视频的窗口\n",
    "        <4>\n",
    "        \n",
    "        while self.working:\n",
    "            # 读取摄像头图像\n",
    "            ret, frame = self.cap.read()\n",
    "            if ret: # 若摄像头已开启\n",
    "                # 更新窗口“image_win”中的图片\n",
    "                cv2.imshow('image_win',frame)\n",
    "                # 等待按键事件发生 等待1ms\n",
    "                cv2.waitKey(1)\n",
    "        \n",
    "    def stop(self):\n",
    "        if self.working:\n",
    "            self.working = False\n",
    "            # 释放VideoCapture\n",
    "            <5>\n",
    "            # 销毁所有的窗口\n",
    "            <6>\n",
    "            print(\"退出线程\")"
   ]
  },
  {
   "cell_type": "markdown",
   "id": "bdf55bdc",
   "metadata": {},
   "source": [
    "实例化一个`videoThread()`线程类，实例化对象为`a`\n",
    "\n",
    "线程对象`a`调用`start()`方法, 开始执行`videoThread()`线程类中的`run()`函数。"
   ]
  },
  {
   "cell_type": "code",
   "execution_count": null,
   "id": "e7560811",
   "metadata": {},
   "outputs": [],
   "source": [
    "a = videoThread()\n",
    "a.start()"
   ]
  },
  {
   "cell_type": "markdown",
   "id": "613a4b01",
   "metadata": {},
   "source": [
    "实例化对象`a`调用`videoThread()`线程类中的`stop()`函数，来退出线程"
   ]
  },
  {
   "cell_type": "code",
   "execution_count": null,
   "id": "ad9f0be4",
   "metadata": {},
   "outputs": [],
   "source": [
    "a.stop()"
   ]
  },
  {
   "cell_type": "markdown",
   "id": "3552eb9e-7dfb-4846-b80d-2ba8936b5cf7",
   "metadata": {},
   "source": [
    "<details>\n",
    "<summary><font color=red size=3>点击查看动手练习1答案</font></summary>\n",
    "<pre><code>\n",
    "\n",
    "```python\n",
    "import threading\n",
    "import cv2 # 引入opencv库函数\n",
    "class videoThread(threading.Thread):\n",
    "    def __init__(self):\n",
    "        super(videoThread, self).__init__()\n",
    "        self.working = True  # 循环标志位\n",
    "        self.cap = cv2.VideoCapture(0)  # 打开摄像头\n",
    "        if not self.cap.isOpened():\n",
    "            print(\"Cannot open camera\")\n",
    "        else:\n",
    "            print('摄像头已打开')\n",
    "        # 画面宽度设定为 1920   高度度设定为 1080\n",
    "        self.cap.set(cv2.CAP_PROP_FRAME_WIDTH, 1920)\n",
    "        self.cap.set(cv2.CAP_PROP_FRAME_HEIGHT, 1080)\n",
    "        \n",
    "    def run(self):\n",
    "        # 构建视频的窗口\n",
    "        cv2.namedWindow('image_win',flags=cv2.WINDOW_NORMAL | cv2.WINDOW_KEEPRATIO )\n",
    "        cv2.setWindowProperty('image_win', cv2.WND_PROP_FULLSCREEN, cv2.WINDOW_FULLSCREEN) # 全屏展示\n",
    "        \n",
    "        while self.working:\n",
    "            # 读取摄像头图像\n",
    "            ret, frame = self.cap.read()\n",
    "            if ret: # 若摄像头已开启\n",
    "                # 更新窗口“image_win”中的图片\n",
    "                cv2.imshow('image_win',frame)\n",
    "                # 等待按键事件发生 等待1ms\n",
    "                cv2.waitKey(1)\n",
    "        \n",
    "    def stop(self):\n",
    "        self.working = False\n",
    "        # 释放VideoCapture\n",
    "        self.cap.release()\n",
    "        # 销毁所有的窗口\n",
    "        cv2.destroyAllWindows()\n",
    "        print(\"退出线程\")\n",
    "```\n",
    "\n",
    "</code></pre>\n",
    "</details>"
   ]
  },
  {
   "cell_type": "markdown",
   "id": "60a7a22d",
   "metadata": {},
   "source": [
    "### <font color=red>动手实验</font>\n",
    "\n",
    "理解线程类，实现视频流拍照功能\n",
    "\n",
    "按照以下要求完成实验：\n",
    "1. 在`<1>`处，实例化一个`VideoCapture`对象赋值给`cap`\n",
    "2. 在`<2>`处，使用`cap.set`设置显示画面像素，宽度为`1920`，高度为`1080`\n",
    "3. 在`<3>`处，通过`__init__`定义的`self.cap`对象，使用`read()`读取图像将返回值赋值给`ret`和`self.frame`\n",
    "4. 在`<4>`处，使用`cv2.imshow`在窗口`image_win`中显示图像`self.frame`\n",
    "5. 在`<5>`处，增加一个图像保存函数`savePh(self)`,使用`cv2.imwrite`保存`self.frame`图像，命名为`图像保存2.png`\n",
    "\n",
    "    修改以下代码中`<?>`处，补全代码后，重启内核再运行以下代码\n",
    "    \n",
    "    <img src='./src/restart_kernel.png' width=400 height=300>"
   ]
  },
  {
   "cell_type": "markdown",
   "id": "fbda8ae4-773f-4272-9590-b84a54fa8b27",
   "metadata": {},
   "source": [
    "**能够正常执行后续流程，则表示实验完成。**"
   ]
  },
  {
   "cell_type": "code",
   "execution_count": null,
   "id": "722ceeb1",
   "metadata": {},
   "outputs": [],
   "source": [
    "import threading\n",
    "import cv2"
   ]
  },
  {
   "cell_type": "markdown",
   "id": "d151d59f-e481-4457-9ae1-2d5150d78b7f",
   "metadata": {},
   "source": [
    "修改以下代码中`<?>`处，完成实验。"
   ]
  },
  {
   "cell_type": "code",
   "execution_count": null,
   "id": "cb4b372f",
   "metadata": {},
   "outputs": [],
   "source": [
    "class videoThread(threading.Thread):\n",
    "    def __init__(self):\n",
    "        super(videoThread, self).__init__()\n",
    "        self.working = True  # 循环标志位\n",
    "        <1>\n",
    "        self.frame = None\n",
    "        if not self.cap.isOpened():\n",
    "            print(\"Cannot open camera\")\n",
    "        else:\n",
    "            print('摄像头已打开')\n",
    "        # 画面宽度设定为 1920   高度度设定为 1080\n",
    "        <2>\n",
    "        \n",
    "    def run(self):\n",
    "        # 构建视频的窗口\n",
    "        cv2.namedWindow('image_win',flags=cv2.WINDOW_NORMAL | cv2.WINDOW_KEEPRATIO | cv2.WINDOW_GUI_EXPANDED)\n",
    "        cv2.setWindowProperty('image_win', cv2.WND_PROP_FULLSCREEN, cv2.WINDOW_FULLSCREEN) # 全屏展示\n",
    "        while self.working:\n",
    "            # 读取摄像头图像\n",
    "            <3>\n",
    "            if not ret:\n",
    "                print(\"图像获取失败，请按照说明进行问题排查\")\n",
    "                break\n",
    "                \n",
    "            # 更新窗口“image_win”中的图片\n",
    "            <4>\n",
    "            # 等待按键事件发生 等待1ms\n",
    "            key = cv2.waitKey(1)\n",
    "        \n",
    "    def savePh(self):\n",
    "        #补全以下代码\n",
    "        <5>\n",
    "        \n",
    "    def stop(self):\n",
    "        if self.working:\n",
    "            self.working = False\n",
    "            # 释放VideoCapture\n",
    "            self.cap.release()\n",
    "            # 销毁所有的窗口\n",
    "            cv2.destroyAllWindows()\n",
    "            print(\"退出线程\")"
   ]
  },
  {
   "cell_type": "markdown",
   "id": "33107d7d",
   "metadata": {},
   "source": [
    "<details>\n",
    "<summary><font color=red size=3>点击查看答案</font></summary>\n",
    "<pre><code>\n",
    "\n",
    "```python\n",
    "import threading\n",
    "import cv2\n",
    "\n",
    "class videoThread(threading.Thread):\n",
    "    def __init__(self):\n",
    "        super(videoThread, self).__init__()\n",
    "        self.working = True  # 循环标志位\n",
    "        self.cap = cv2.VideoCapture(0)  # 打开摄像头\n",
    "        self.frame = None\n",
    "        if not self.cap.isOpened():\n",
    "            print(\"Cannot open camera\")\n",
    "        else:\n",
    "            print('摄像头已打开')\n",
    "        # 画面宽度设定为 1920   高度度设定为 1080\n",
    "        self.cap.set(cv2.CAP_PROP_FRAME_WIDTH, 1920)\n",
    "        self.cap.set(cv2.CAP_PROP_FRAME_HEIGHT, 1080)\n",
    "        \n",
    "    def run(self):\n",
    "        # 构建视频的窗口\n",
    "        cv2.namedWindow('image_win',flags=cv2.WINDOW_NORMAL | cv2.WINDOW_KEEPRATIO | cv2.WINDOW_GUI_EXPANDED)\n",
    "        cv2.setWindowProperty('image_win', cv2.WND_PROP_FULLSCREEN, cv2.WINDOW_FULLSCREEN) # 全屏展示\n",
    "        while self.working:\n",
    "            # 读取摄像头图像\n",
    "            ret, self.frame = self.cap.read()\n",
    "            if not ret:\n",
    "                print(\"图像获取失败，请按照说明进行问题排查\")\n",
    "                break\n",
    "                \n",
    "            # 更新窗口“image_win”中的图片\n",
    "            cv2.imshow('image_win',self.frame)\n",
    "            # 等待按键事件发生 等待1ms\n",
    "            key = cv2.waitKey(1)\n",
    "        \n",
    "    def savePh(self):\n",
    "        #补全以下代码\n",
    "        if self.frame is not None:\n",
    "            cv2.imwrite(\"./exp/img_3.2.png\", self.frame)\n",
    "        \n",
    "    def stop(self):\n",
    "        self.working = False\n",
    "        # 释放VideoCapture\n",
    "        self.cap.release()\n",
    "        # 销毁所有的窗口\n",
    "        cv2.destroyAllWindows()\n",
    "        print(\"退出线程\")\n",
    "```\n",
    "            \n",
    "</code></pre>\n",
    "</details>"
   ]
  },
  {
   "cell_type": "markdown",
   "id": "bddfdc9c-66c4-4d6f-8dfb-52fca58e9ab8",
   "metadata": {},
   "source": [
    "实例化一个`videoThread()`线程类，实例化对象为`a`\n",
    "\n",
    "线程对象`a`调用`start()`方法, 开始执行`videoThread()`线程类中的`run()`函数。"
   ]
  },
  {
   "cell_type": "code",
   "execution_count": null,
   "id": "ac29f3fa-7460-4433-8fca-05ce6d15025b",
   "metadata": {},
   "outputs": [],
   "source": [
    "a = videoThread()\n",
    "a.start()"
   ]
  },
  {
   "cell_type": "markdown",
   "id": "b8d56ff6",
   "metadata": {},
   "source": [
    "实例化对象`a`调用线程类中的`savePh()`函数，来保存图像，形成拍照效果。"
   ]
  },
  {
   "cell_type": "code",
   "execution_count": null,
   "id": "d29778bc",
   "metadata": {},
   "outputs": [],
   "source": [
    "a.savePh()"
   ]
  },
  {
   "cell_type": "markdown",
   "id": "33c1d33b",
   "metadata": {},
   "source": [
    "可以通过输入命令`!ls`来查看生成的图片"
   ]
  },
  {
   "cell_type": "code",
   "execution_count": null,
   "id": "f690b91b-97cd-4fc9-a123-ec0651840428",
   "metadata": {},
   "outputs": [],
   "source": [
    "!ls ./exp/img_3.*.png"
   ]
  },
  {
   "cell_type": "markdown",
   "id": "bfedc8fb",
   "metadata": {},
   "source": [
    "实例化对象`a`调用线程类中的`stop()`函数，来退出线程。\n",
    "\n",
    "注意：请在本实验结束时，务必退出线程，否则可能由于该线程占用摄像头导致其它实验无法正常进行。"
   ]
  },
  {
   "cell_type": "code",
   "execution_count": null,
   "id": "f2f6cb43",
   "metadata": {},
   "outputs": [],
   "source": [
    "a.stop()"
   ]
  },
  {
   "cell_type": "markdown",
   "id": "dae2f939-c282-49e5-b188-f9b7b3772c09",
   "metadata": {},
   "source": [
    "## 任务小结\n",
    "\n",
    "本次实验的收获：\n",
    "\n",
    "- 学会了使用线程实现视频的实时采集与显示"
   ]
  }
 ],
 "metadata": {
  "kernelspec": {
   "display_name": "Python 3",
   "language": "python",
   "name": "python3"
  },
  "language_info": {
   "codemirror_mode": {
    "name": "ipython",
    "version": 3
   },
   "file_extension": ".py",
   "mimetype": "text/x-python",
   "name": "python",
   "nbconvert_exporter": "python",
   "pygments_lexer": "ipython3",
   "version": "3.7.3"
  }
 },
 "nbformat": 4,
 "nbformat_minor": 5
}
