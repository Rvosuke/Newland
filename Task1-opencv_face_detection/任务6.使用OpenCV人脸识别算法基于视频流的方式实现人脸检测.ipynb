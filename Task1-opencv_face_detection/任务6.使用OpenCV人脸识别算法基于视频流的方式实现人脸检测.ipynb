{
 "cells": [
  {
   "cell_type": "markdown",
   "id": "7e4f64e3",
   "metadata": {},
   "source": [
    "# 任务6 OpenCV人脸识别算法基于视频流的方式实现人脸检测"
   ]
  },
  {
   "cell_type": "markdown",
   "id": "45f3ee1c-b1b6-4b2d-aee8-2a8f16b851cf",
   "metadata": {},
   "source": [
    "## 职业能力目标\n",
    "\n",
    "- 能够使用线程的方式完成实时人脸检测。"
   ]
  },
  {
   "cell_type": "markdown",
   "id": "a44a2fed-80cb-4857-8b1c-5939dc8b593f",
   "metadata": {},
   "source": [
    "## 任务描述\n",
    "\n",
    "本实验将实现用opencv自带的人脸库对USB摄像头实时采集并显示在触摸屏的画面进行人脸检测并标注人脸框。"
   ]
  },
  {
   "cell_type": "markdown",
   "id": "06a38814-2976-4bb0-97a6-37a038fdc1cb",
   "metadata": {},
   "source": [
    "## 任务要求\n",
    "\n",
    "- 使用线程实现人脸实时检测。"
   ]
  },
  {
   "cell_type": "markdown",
   "id": "148cc1b5-c889-4eb5-8f8b-1c0414df8d73",
   "metadata": {},
   "source": [
    "## 任务实施"
   ]
  },
  {
   "cell_type": "markdown",
   "id": "2b398d9e",
   "metadata": {},
   "source": [
    "## 1. 回顾图像人脸检测\n",
    "\n",
    "详细代码解释这里不再赘述，如有遗忘，可以查看[任务5.图像人脸检测](./任务5.图像人脸检测.ipynb)重新回顾"
   ]
  },
  {
   "cell_type": "code",
   "execution_count": null,
   "id": "c30e32f6",
   "metadata": {},
   "outputs": [],
   "source": [
    "import cv2\n",
    "\n",
    "#设置图片路径\n",
    "img_path = './img/face1.jpg'\n",
    "#载入带有人脸的图片\n",
    "img = cv2.imread(img_path)\n",
    "\n",
    "#将彩色图片转换为灰度图\n",
    "gray = cv2.cvtColor(img, cv2.COLOR_BGR2GRAY)\n",
    "\n",
    "#载入人脸检测的Cascade模型\n",
    "FaceCascade = cv2.CascadeClassifier('./haar/haarcascade_frontalface_default.xml')\n",
    "\n",
    "#检测画面中的人脸\n",
    "faces = FaceCascade.detectMultiScale(gray, scaleFactor=1.1, minNeighbors=5)\n",
    "\n",
    "#遍历返回的face数组\n",
    "for face in faces:\n",
    "    #解析tuple类型的face位置数据\n",
    "    #(x, y): 左上角坐标值\n",
    "    #w: 人脸矩形区域的宽度\n",
    "    #h: 人脸矩形区域的高度\n",
    "    (x, y, w, h) = face\n",
    "    #在原彩图上绘制矩形\n",
    "    cv2.rectangle(img, (x, y), (x+w, y+h), (0, 255, 0), 4)\n",
    "    \n",
    "#创建一个窗口 名字叫做Face\n",
    "cv2.namedWindow('Face',flags=cv2.WINDOW_NORMAL | cv2.WINDOW_KEEPRATIO | cv2.WINDOW_GUI_EXPANDED)\n",
    "cv2.setWindowProperty('Face', cv2.WND_PROP_FULLSCREEN, cv2.WINDOW_FULLSCREEN) # 全屏展示\n",
    "\n",
    "#在窗口Face上面展示图片img\n",
    "cv2.imshow('Face', img)\n",
    "#等待任意按键按下\n",
    "cv2.waitKey(5000)"
   ]
  },
  {
   "cell_type": "markdown",
   "id": "9d4e87e5",
   "metadata": {},
   "source": [
    "## 2. 视频流人脸检测\n",
    "通过将[任务5.图像人脸检测](./任务5.图像人脸检测.ipynb)的代码结合循环，循环对每一帧图像进行人脸检测，就能实现视频流实时人脸检测。\n",
    "\n",
    "OpenCV读取usb摄像头的视频流，需要用到`VideoCapture`类。如果你在操作过程中，摄像头读取失败， 我们还为你提供了问题[排查手册](./doc/摄像头排查手册.txt)。"
   ]
  },
  {
   "cell_type": "markdown",
   "id": "f9d6cc34",
   "metadata": {},
   "source": [
    "### 2.1 导入相应的模块\n",
    "\n",
    "- `cv2`：实现图像处理和计算机视觉方面的很多通用算法。\n",
    "- `threading`：threading模块提供了管理多个线程执行的API。"
   ]
  },
  {
   "cell_type": "code",
   "execution_count": null,
   "id": "55b47269",
   "metadata": {},
   "outputs": [],
   "source": [
    "import threading\n",
    "import cv2 # 引入opencv库函数"
   ]
  },
  {
   "cell_type": "markdown",
   "id": "73b3afde",
   "metadata": {},
   "source": [
    "### 2.2 视频流人脸检测类\n",
    "\n",
    "线程编写和视频流显示实验参考[项目1：使用OpenCV实现人脸检测中的2_opencv实现视频流的调用](../../项目1：使用OpenCV实现人脸检测/2_opencv实现视频流的调用/实验2opencv实现视频流的调用.ipynb)，这里不再赘述\n",
    "\n",
    "1. 通过上一份实验**3.1 视频流的图像显示与退出**实验改写线程视频流类，来实现人脸检测功能\n",
    "2. 在`init`函数中传入定义`标志位变量`、`打开摄像头`、`载入人脸检测的Cascade模型`\n",
    "3. 将`灰度图转换`、`人脸检测`、`绘制矩形框`结合循环，通过循环的方式反复的将摄像头读取到的每一帧进行这3步操作，就能够进行视频流人脸检测。\n",
    "3. 在`run`函数中`构建视频窗口`\n",
    "    - 循环体里`读取摄像头图像`、`灰度图转换`、`人脸检测`、`绘制矩形框`、`更新显示图片`、`图像显示的时长`\n",
    "4. 在`stop`函数中定义`标志位变量`、`摄像头释放`、`窗口释放`\n",
    "5. 用线程的方式运行函数，再对视频进行人脸检测\n"
   ]
  },
  {
   "cell_type": "code",
   "execution_count": null,
   "id": "1ff52470",
   "metadata": {},
   "outputs": [],
   "source": [
    "class FaceDetectionThread(threading.Thread):\n",
    "    def __init__(self):\n",
    "        super(FaceDetectionThread, self).__init__()\n",
    "        self.working = True  # 循环标志位\n",
    "        self.cap = cv2.VideoCapture(0)  # 打开摄像头      \n",
    "        self.FaceCascade = cv2.CascadeClassifier('./haar/haarcascade_frontalface_default.xml')#载入人脸检测的Cascade模型        \n",
    "    def run(self):\n",
    "        # 构建视频的窗口\n",
    "        cv2.namedWindow('Face',flags=cv2.WINDOW_NORMAL | cv2.WINDOW_KEEPRATIO | cv2.WINDOW_GUI_EXPANDED)\n",
    "        cv2.setWindowProperty('Face', cv2.WND_PROP_FULLSCREEN, cv2.WINDOW_FULLSCREEN) # 全屏展示\n",
    "        while self.working:\n",
    "            ret, frame = self.cap.read()# 读取摄像头图像\n",
    "            if ret:\n",
    "                gray = cv2.cvtColor(frame, cv2.COLOR_BGR2GRAY)#将彩色图片转换为灰度图 \n",
    "                faces = self.FaceCascade.detectMultiScale(gray,scaleFactor=1.1,minNeighbors=5)# 检测图像中的人脸并返回绘制矩形框的值\n",
    "                for face in faces:\n",
    "                    (x, y, w, h) = face\n",
    "                    cv2.rectangle(frame, (x, y), (x + w, y + h), (0, 255, 0), 4)#在原彩图上绘制矩形\n",
    "                cv2.imshow('Face',frame)# 更新窗口“Face”中的图片\n",
    "                cv2.waitKey(1)# 等待按键事件发生 等待1ms\n",
    "    def stop(self):\n",
    "        self.working = False\n",
    "        self.cap.release()# 释放VideoCapture\n",
    "        cv2.destroyAllWindows()# 销毁所有的窗口\n",
    "        print(\"退出线程\")"
   ]
  },
  {
   "cell_type": "markdown",
   "id": "f9005644",
   "metadata": {},
   "source": [
    "实例化一个`FaceDetectionThread()`线程类，实例化对象为`a`\n",
    "\n",
    "线程对象`a`调用`start()`方法, 开始执行`FaceDetectionThread()`线程类中的`run()`函数。"
   ]
  },
  {
   "cell_type": "code",
   "execution_count": null,
   "id": "a9654203",
   "metadata": {},
   "outputs": [],
   "source": [
    "a = FaceDetectionThread()\n",
    "a.start()"
   ]
  },
  {
   "cell_type": "markdown",
   "id": "51286ea1",
   "metadata": {},
   "source": [
    "实例化对象`a`调用线程类中的`stop()`函数，来退出线程。"
   ]
  },
  {
   "cell_type": "code",
   "execution_count": null,
   "id": "81e9074f",
   "metadata": {},
   "outputs": [],
   "source": [
    "a.stop()"
   ]
  },
  {
   "cell_type": "markdown",
   "id": "a276f3c5",
   "metadata": {},
   "source": [
    "### <font color=red>动手实验</font>\n",
    "\n",
    "仿照上述代码，自行完成视频流人脸检测代码\n",
    "\n",
    "按照以下要求完成实验：\n",
    "1. 在`<1>`处，定义一个线程类命名为`FaceTest`\n",
    "2. 在`__init__`函数中：\n",
    "    - 在`<2>`处，定义循环标志位`self.working`赋值为`True`\n",
    "    - 在`<3>`处，使用`cv2.VideoCapture(0)`打开摄像头赋值给`self.cap`对象\n",
    "    - 在`<4>`处，使用`cv2.CascadeClassifier`载入`haarcascade_frontalface_default.xml`人脸检测模型赋值给`self.FaceCascade`\n",
    "    \n",
    "3. 在`run`函数中：\n",
    "\n",
    "  - 在`<5>`处，使用`cv2.namedWindow`创建显示窗口命名为`FaceTest`,属性设置为`可调整大小`，`保持图像比例` \n",
    "  \n",
    "    循环中：\n",
    "    - 在`<6>`处，使用`self.cap.read()`读取图像将返回值赋值给`ret`和`frame`\n",
    "    - 在`<7>`处，使用`cv2.cvtColor`将`frame`中的彩色图像通过`cv2.COLOR_BGR2GRAY`转换成灰度图，并且返回给变量`gray`\n",
    "    - 在`<8>`处，使用`self.FaceCascade.detectMultiScale`得到矩形框返回值`faces`，参数定义：输入图像为`gray`、图像缩小的比例为`1.1`、匹配成功所需要的周围矩形框的数目为`4`\n",
    "    - 在`<9>`处，通过循环遍历`faces`，使用`cv2.rectangle`对图像进行矩形框绘制，颜色为`(255, 0, 0)`，矩形框线粗为`3`\n",
    "    - 在`<10>`处，使用`cv2.imshow`在窗口`FaceTest`中显示图像`frame`，设置`cv2.waitKey()`为1毫秒\n",
    "\n",
    "4. 在`stop`函数中：\n",
    "    - 在`<11>`处，将`self.working`赋值为`False`退出循环\n",
    "    - 在`<12>`处，使用`self.cap.release()`和`cv2.destroyAllWindows()`来释放`VideoCapture`和销毁所有的窗口"
   ]
  },
  {
   "cell_type": "markdown",
   "id": "3f64b335-9a27-4cdf-b288-c7c25af692bf",
   "metadata": {},
   "source": [
    "**能够成功开启线程并在显示屏进行视频流人脸检测，退出线程有`退出线程`输出，则表示实验完成。**"
   ]
  },
  {
   "cell_type": "code",
   "execution_count": null,
   "id": "d3529822-f09f-4b75-9cbe-253da6e64ce2",
   "metadata": {},
   "outputs": [],
   "source": [
    "import threading\n",
    "import cv2 # 引入opencv库函数\n",
    "\n",
    "class FaceTest(threading.Thread):\n",
    "    def __init__(self):\n",
    "        super(FaceTest, self).__init__()\n",
    "        self.working = True  # 循环标志位\n",
    "        self.cap = cv2.VideoCapture(0)  # 打开摄像头\n",
    "        if not self.cap.isOpened():\n",
    "            print(\"Cannot open camera\")           \n",
    "        #载入人脸检测的Cascade模型\n",
    "        self.FaceCascade = cv2.CascadeClassifier('./haar/haarcascade_frontalface_default.xml')\n",
    "        \n",
    "    def run(self):\n",
    "        # 构建视频的窗口\n",
    "        cv2.namedWindow('FaceTest',flags=cv2.WINDOW_NORMAL | cv2.WINDOW_KEEPRATIO)\n",
    "        cv2.setWindowProperty('FaceTest', cv2.WND_PROP_FULLSCREEN, cv2.WINDOW_FULLSCREEN) # 全屏展示\n",
    "        while self.working:\n",
    "            # 读取摄像头图像\n",
    "            ret, frame = self.cap.read()\n",
    "            if ret:\n",
    "                #将彩色图片转换为灰度图\n",
    "                gray = cv2.cvtColor(frame, cv2.COLOR_BGR2GRAY)\n",
    "                # 检测图像中的人脸并返回绘制矩形框的值\n",
    "                faces = self.FaceCascade.detectMultiScale(\n",
    "                    gray,\n",
    "                    scaleFactor=1.1,\n",
    "                    minNeighbors=5\n",
    "                )\n",
    "\n",
    "                #遍历返回的face数组\n",
    "                for face in faces:\n",
    "                    #解析tuple类型的face位置数据\n",
    "                    #(x, y): 左上角坐标值\n",
    "                    #w: 人脸矩形区域的宽度\n",
    "                    #h: 人脸矩形区域的高度\n",
    "                    (x, y, w, h) = face\n",
    "                    #在原彩图上绘制矩形\n",
    "                    cv2.rectangle(frame, (x, y), (x+w, y+h), (255, 0, 0), 3)\n",
    "\n",
    "                # 更新窗口“image_win”中的图片\n",
    "                cv2.imshow('FaceTest', frame)\n",
    "                # 等待按键事件发生 等待1ms\n",
    "                cv2.waitKey(1)\n",
    "\n",
    "    def stop(self):\n",
    "        self.working = False\n",
    "        # 释放VideoCapture\n",
    "        self.cap.release()\n",
    "        # 销毁所有的窗口\n",
    "        cv2.destroyAllWindows()\n",
    "        print(\"退出线程\")"
   ]
  },
  {
   "cell_type": "markdown",
   "id": "5c31bfed",
   "metadata": {
    "tags": []
   },
   "source": [
    "<details>\n",
    "<summary><font color=red size=3>点击查看答案</font></summary>\n",
    "<pre><code>\n",
    "\n",
    "```python\n",
    "import threading\n",
    "import cv2 # 引入opencv库函数\n",
    "\n",
    "class FaceTest(threading.Thread):\n",
    "    def __init__(self):\n",
    "        super(FaceTest, self).__init__()\n",
    "        self.working = True  # 循环标志位\n",
    "        self.cap = cv2.VideoCapture(0)  # 打开摄像头\n",
    "        if not self.cap.isOpened():\n",
    "            print(\"Cannot open camera\")           \n",
    "        #载入人脸检测的Cascade模型\n",
    "        self.FaceCascade = cv2.CascadeClassifier('./haar/haarcascade_frontalface_default.xml')\n",
    "        \n",
    "    def run(self):\n",
    "        # 构建视频的窗口\n",
    "        cv2.namedWindow('FaceTest',flags=cv2.WINDOW_NORMAL | cv2.WINDOW_KEEPRATIO)\n",
    "        cv2.setWindowProperty('FaceTest', cv2.WND_PROP_FULLSCREEN, cv2.WINDOW_FULLSCREEN) # 全屏展示\n",
    "        while self.working:\n",
    "            # 读取摄像头图像\n",
    "            ret, frame = self.cap.read()\n",
    "            if ret:\n",
    "                #将彩色图片转换为灰度图\n",
    "                gray = cv2.cvtColor(frame, cv2.COLOR_BGR2GRAY)\n",
    "                # 检测图像中的人脸并返回绘制矩形框的值\n",
    "                faces = self.FaceCascade.detectMultiScale(\n",
    "                    gray,\n",
    "                    scaleFactor=1.1,\n",
    "                    minNeighbors=5\n",
    "                )\n",
    "\n",
    "                #遍历返回的face数组\n",
    "                for face in faces:\n",
    "                    #解析tuple类型的face位置数据\n",
    "                    #(x, y): 左上角坐标值\n",
    "                    #w: 人脸矩形区域的宽度\n",
    "                    #h: 人脸矩形区域的高度\n",
    "                    (x, y, w, h) = face\n",
    "                    #在原彩图上绘制矩形\n",
    "                    cv2.rectangle(frame, (x, y), (x+w, y+h), (255, 0, 0), 3)\n",
    "\n",
    "                # 更新窗口“image_win”中的图片\n",
    "                cv2.imshow('FaceTest', frame)\n",
    "                # 等待按键事件发生 等待1ms\n",
    "                cv2.waitKey(1)\n",
    "\n",
    "    def stop(self):\n",
    "        self.working = False\n",
    "        # 释放VideoCapture\n",
    "        self.cap.release()\n",
    "        # 销毁所有的窗口\n",
    "        cv2.destroyAllWindows()\n",
    "        print(\"退出线程\")\n",
    "```\n",
    "\n",
    "</code></pre>\n",
    "</details>"
   ]
  },
  {
   "cell_type": "markdown",
   "id": "e36d03c3",
   "metadata": {},
   "source": [
    "实例化一个`FaceTest()`线程类，实例化对象为`a`\n",
    "\n",
    "线程对象`a`调用`start()`方法, 开始执行`FaceTest()`线程类中的`run()`函数。"
   ]
  },
  {
   "cell_type": "code",
   "execution_count": null,
   "id": "451c0735",
   "metadata": {},
   "outputs": [],
   "source": [
    "a = FaceTest()\n",
    "a.start()"
   ]
  },
  {
   "cell_type": "markdown",
   "id": "6a370898",
   "metadata": {},
   "source": [
    "实例化对象`a`调用线程类中的`stop()`函数，来退出线程。\n",
    "\n",
    "注意：请在本实验结束时，务必退出线程，否则可能由于该线程占用摄像头导致其它实验无法正常进行。"
   ]
  },
  {
   "cell_type": "code",
   "execution_count": null,
   "id": "ba1fd6a7",
   "metadata": {},
   "outputs": [],
   "source": [
    "a.stop()"
   ]
  },
  {
   "cell_type": "markdown",
   "id": "cb8f8cfd-f844-4503-9993-fa95fcd46f64",
   "metadata": {},
   "source": [
    "## 任务小结\n",
    "\n",
    "本次实验的收获：\n",
    "\n",
    "- 学会了使用线程实现人脸实时检测"
   ]
  }
 ],
 "metadata": {
  "kernelspec": {
   "display_name": "Python 3",
   "language": "python",
   "name": "python3"
  },
  "language_info": {
   "codemirror_mode": {
    "name": "ipython",
    "version": 3
   },
   "file_extension": ".py",
   "mimetype": "text/x-python",
   "name": "python",
   "nbconvert_exporter": "python",
   "pygments_lexer": "ipython3",
   "version": "3.7.3"
  }
 },
 "nbformat": 4,
 "nbformat_minor": 5
}
