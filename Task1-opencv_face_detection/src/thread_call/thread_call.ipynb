{
 "cells": [
  {
   "cell_type": "code",
   "id": "initial_id",
   "metadata": {
    "collapsed": true,
    "ExecuteTime": {
     "end_time": "2024-08-12T08:29:09.224728Z",
     "start_time": "2024-08-12T08:29:09.088121Z"
    }
   },
   "source": [
    "import threading\n",
    "import time\n",
    "import cv2"
   ],
   "outputs": [],
   "execution_count": 1
  },
  {
   "metadata": {},
   "cell_type": "code",
   "source": [
    "working = True\n",
    "def video():\n",
    "    while working:\n",
    "        print(\"This is a thread.\")\n",
    "        time.sleep(1)\n",
    "    print(\"Thread out.\")\n",
    "\n",
    "t = threading.Thread(target=video)\n",
    "t.start()\n",
    "working = False"
   ],
   "id": "52f435266a44171d",
   "outputs": [],
   "execution_count": null
  },
  {
   "metadata": {
    "ExecuteTime": {
     "end_time": "2024-08-12T08:29:10.910853Z",
     "start_time": "2024-08-12T08:29:10.894014Z"
    }
   },
   "cell_type": "code",
   "source": [
    "class VideoThread(threading.Thread):\n",
    "    def __init__(self):\n",
    "        super(VideoThread, self).__init__()\n",
    "        self.working = True\n",
    "        self.cap = cv2.VideoCapture(0)\n",
    "        self.cap.set(cv2.CAP_PROP_FRAME_WIDTH, 1920)\n",
    "        self.cap.set(cv2.CAP_PROP_FRAME_HEIGHT, 1080)\n",
    "        \n",
    "    def run(self):\n",
    "        cv2.namedWindow(\"image_win\", flags=cv2.WINDOW_NORMAL | cv2.WINDOW_KEEPRATIO)\n",
    "        cv2.resizeWindow(\"image_win\", 1920, 1080)\n",
    "        \n",
    "        while self.working:\n",
    "            ret, frame = self.cap.read()\n",
    "            if not ret:\n",
    "                print(\"Image capture failed, please check with the prompt.\")\n",
    "                break\n",
    "            cv2.imshow(\"image_win\", frame)\n",
    "            cv2.waitKey(1)\n",
    "    \n",
    "    def stop(self):\n",
    "        self.working = False\n",
    "        self.cap.release()\n",
    "        cv2.destroyAllWindows()\n",
    "        print(\"Thread out.\")"
   ],
   "id": "ae792854b6163da9",
   "outputs": [],
   "execution_count": 2
  },
  {
   "metadata": {
    "ExecuteTime": {
     "end_time": "2024-08-12T08:29:13.696135Z",
     "start_time": "2024-08-12T08:29:13.475922Z"
    }
   },
   "cell_type": "code",
   "source": "a = VideoThread()",
   "id": "64e872aa5360df82",
   "outputs": [],
   "execution_count": 3
  },
  {
   "metadata": {
    "ExecuteTime": {
     "end_time": "2024-08-12T08:29:14.817107Z",
     "start_time": "2024-08-12T08:29:14.813294Z"
    }
   },
   "cell_type": "code",
   "source": "a.start()",
   "id": "dbce30c606a335ce",
   "outputs": [],
   "execution_count": 4
  },
  {
   "metadata": {
    "ExecuteTime": {
     "end_time": "2024-08-12T08:29:45.368808Z",
     "start_time": "2024-08-12T08:29:45.104219Z"
    }
   },
   "cell_type": "code",
   "source": "a.stop()",
   "id": "2fdd159dcb14ee97",
   "outputs": [
    {
     "name": "stdout",
     "output_type": "stream",
     "text": [
      "Thread out.\n"
     ]
    }
   ],
   "execution_count": 5
  },
  {
   "metadata": {
    "ExecuteTime": {
     "end_time": "2024-08-12T08:34:38.288480Z",
     "start_time": "2024-08-12T08:34:38.283518Z"
    }
   },
   "cell_type": "code",
   "source": [
    "class CircleThread(threading.Thread):\n",
    "    def __init__(self, param):\n",
    "        super(CircleThread, self).__init__()\n",
    "        self.working = True\n",
    "        self.param = param\n",
    "        self.counter = 0\n",
    "        \n",
    "    def run(self):\n",
    "        while self.working:\n",
    "            print(f\"This is a {self.param} thread {self.counter}.\")\n",
    "            time.sleep(2)\n",
    "            self.counter += 1\n",
    "    \n",
    "    def stop(self):\n",
    "        self.working = False\n",
    "        print(f\"Thread {self.counter} out.\")\n",
    "        print(\"Thread out.\")"
   ],
   "id": "7a7f818491df41b5",
   "outputs": [],
   "execution_count": 10
  },
  {
   "metadata": {
    "ExecuteTime": {
     "end_time": "2024-08-12T08:34:39.548653Z",
     "start_time": "2024-08-12T08:34:39.544440Z"
    }
   },
   "cell_type": "code",
   "source": "c = CircleThread(\"circle\")",
   "id": "c2a84132df76c1a3",
   "outputs": [],
   "execution_count": 11
  },
  {
   "metadata": {
    "ExecuteTime": {
     "end_time": "2024-08-12T08:34:41.151032Z",
     "start_time": "2024-08-12T08:34:41.144887Z"
    }
   },
   "cell_type": "code",
   "source": "c.start()",
   "id": "7943e12e780caa00",
   "outputs": [
    {
     "name": "stdout",
     "output_type": "stream",
     "text": [
      "This is a circle thread 0.\n"
     ]
    }
   ],
   "execution_count": 12
  },
  {
   "metadata": {
    "ExecuteTime": {
     "end_time": "2024-08-12T08:34:51.795384Z",
     "start_time": "2024-08-12T08:34:51.791142Z"
    }
   },
   "cell_type": "code",
   "source": "c.stop()",
   "id": "5cb39819af5505b4",
   "outputs": [
    {
     "name": "stdout",
     "output_type": "stream",
     "text": [
      "Thread 5 out.\n",
      "Thread out.\n"
     ]
    }
   ],
   "execution_count": 13
  },
  {
   "metadata": {},
   "cell_type": "code",
   "outputs": [],
   "execution_count": null,
   "source": "",
   "id": "4f7f1ede6f58d84b"
  }
 ],
 "metadata": {
  "kernelspec": {
   "display_name": "Python 3",
   "language": "python",
   "name": "python3"
  },
  "language_info": {
   "codemirror_mode": {
    "name": "ipython",
    "version": 2
   },
   "file_extension": ".py",
   "mimetype": "text/x-python",
   "name": "python",
   "nbconvert_exporter": "python",
   "pygments_lexer": "ipython2",
   "version": "2.7.6"
  }
 },
 "nbformat": 4,
 "nbformat_minor": 5
}
