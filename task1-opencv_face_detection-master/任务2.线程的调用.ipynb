{
 "cells": [
  {
   "cell_type": "markdown",
   "id": "48b5f160",
   "metadata": {},
   "source": [
    "# 任务2 线程的调用"
   ]
  },
  {
   "cell_type": "markdown",
   "id": "05de9764-768b-4ae3-a72a-3e227f2782b0",
   "metadata": {},
   "source": [
    "## 职业能力目标\n",
    "\n",
    "- 理解进程与线程的概念；\n",
    "- 能够编写自定义线程类并进行调试。"
   ]
  },
  {
   "cell_type": "markdown",
   "id": "dca5d0ba-8e3f-46d5-b18a-9283337057e5",
   "metadata": {},
   "source": [
    "## 任务描述\n",
    "\n",
    "本实验将实现用线程类和继承线程类两种方式启动线程，并执行线程任务。"
   ]
  },
  {
   "cell_type": "markdown",
   "id": "0e551a87-3c8e-4eb9-b977-edee2a412584",
   "metadata": {},
   "source": [
    "## 任务要求\n",
    "\n",
    "- 使用Thread方法实例化线程；\n",
    "- 使用实例化线程的start方法启动线程；\n",
    "- 使用标志位退出线程；\n",
    "- 使用自定义类继承Thread实例化线程。"
   ]
  },
  {
   "cell_type": "markdown",
   "id": "2c10ec7c-83e8-4aef-b348-76b413494ec3",
   "metadata": {},
   "source": [
    "## 任务实施"
   ]
  },
  {
   "cell_type": "markdown",
   "id": "b3fe8d61",
   "metadata": {},
   "source": [
    "## 1. 初识线程\n",
    "\n",
    "进程是由若干线程组成的，一个进程至少有一个线程。\n",
    "\n",
    "多任务可以由多进程完成，也可以由一个进程内的多线程完成，每条线程并行执行不同的任务。\n",
    "\n",
    "由于线程是操作系统直接支持的执行单元，因此，高级语言通常都内置多线程的支持，Python也不例外，并且，Python的线程是真正的Posix Thread，而不是模拟出来的线程。\n",
    "\n",
    "Python的标准库提供了两个模块：`_thread`和`threading`，`_thread`是低级模块，`threading`是高级模块，对`_thread`进行了封装。绝大多数情况下，我们只需要使用`threading`这个高级模块。\n",
    "\n",
    "`threading`模块中最核心的内容是`Thread`这个类。\n",
    "\n",
    "创建`Thread`对象,然后执行线程，每个`Thread`对象代表一个线程，每个线程可以让程序处理不同的任务，这就是多线程编程。\n",
    "\n",
    "### 1.1 导入相应的包\n",
    "- `threading`：threading模块提供了管理多个线程执行的API。"
   ]
  },
  {
   "cell_type": "code",
   "execution_count": null,
   "id": "ab41f4c3",
   "metadata": {},
   "outputs": [],
   "source": [
    "import threading\n",
    "import time"
   ]
  },
  {
   "cell_type": "markdown",
   "id": "39928081-a7e3-4883-8083-1d72c5cebb5f",
   "metadata": {
    "tags": []
   },
   "source": [
    "### 2. 启动线程的第一种方式\n",
    "\n",
    "**第一种方式：** 创建线程要执行的函数，把这个函数传递进`Thread`对象里，让它来执行。即直接创建`Thread`对象。\n",
    "\n",
    "函数可以通过`threading.Thread(target)`方法传递进`Thread`对象里，进而启动线程。\n",
    "\n",
    "- `threading.Thread(target)`：用于创建线程\n",
    "\n",
    "  参数说明：\n",
    "  - `target`：是线程函数变量参数，用于传入函数参数\n"
   ]
  },
  {
   "cell_type": "markdown",
   "id": "3f663a94-832b-45f5-9cef-599f4a637461",
   "metadata": {},
   "source": [
    "### 2.1 创建自定义函数\n",
    "\n",
    "创建函数`Video()`"
   ]
  },
  {
   "cell_type": "code",
   "execution_count": null,
   "id": "2448b69c-81f2-4947-9ea0-a1ff092e2a4c",
   "metadata": {},
   "outputs": [],
   "source": [
    "def Video():\n",
    "    print(\"这是一个线程\")"
   ]
  },
  {
   "cell_type": "markdown",
   "id": "93b1c925-c0ed-4557-a9fa-b1db5dd3b8f7",
   "metadata": {},
   "source": [
    "<font color=red size=3>动手练习1</font>\n",
    "\n",
    "1. 在`<1>`处，将函数`Video()`作为参数传入`threading.Thread`中实例化一个`Thread`对象，赋值为`t`。"
   ]
  },
  {
   "cell_type": "markdown",
   "id": "764a3fbc-7453-4137-bb4c-21a3d21e19bd",
   "metadata": {},
   "source": [
    "**填写完成后执行`t.start()`，输出结果如下，说明填写正确。**\n",
    "\n",
    "```python\n",
    "t.start()\n",
    "```\n",
    "```markdown\n",
    "这是一个线程\n",
    "```"
   ]
  },
  {
   "cell_type": "code",
   "execution_count": null,
   "id": "6243195e",
   "metadata": {
    "tags": []
   },
   "outputs": [],
   "source": [
    "# <1> \n",
    "t = threading.Thread(target=Video)"
   ]
  },
  {
   "cell_type": "markdown",
   "id": "8f0a97d3-96c3-4e8e-868d-a96a051109f1",
   "metadata": {},
   "source": [
    "**启动线程：** 线程对象`t`调用`start()`方法，开始执行线程函数`Video()`。"
   ]
  },
  {
   "cell_type": "code",
   "execution_count": null,
   "id": "7dc13739-c76e-4166-a490-c5640c6efa42",
   "metadata": {},
   "outputs": [],
   "source": [
    "t.start()"
   ]
  },
  {
   "cell_type": "markdown",
   "id": "3c0e4973-e80e-4a7c-a46e-c37cdf37ca5f",
   "metadata": {},
   "source": [
    "线程在`Video()`函数运行结束后关闭。"
   ]
  },
  {
   "cell_type": "markdown",
   "id": "728c8e64-8edd-4059-b625-a83f37990b0b",
   "metadata": {},
   "source": [
    "<details>\n",
    "<summary><font color=red size=3>点击查看动手练习1答案</font></summary>\n",
    "<pre><code>\n",
    "\n",
    "```python\n",
    "t = threading.Thread(target=Video)\n",
    "```\n",
    "</code></pre>\n",
    "</details>"
   ]
  },
  {
   "cell_type": "markdown",
   "id": "3870f5f6",
   "metadata": {},
   "source": [
    "### 2.2 线程退出\n",
    "\n",
    "`threading`模块并没有提供停止线程的方法，一旦线程对象调用`start()`方法后，只能等到对应的方法函数运行完毕，线程才能停止。\n",
    "\n",
    " 如果线程中有循环的话，线程将会一直执行，直到循环结束，再运行循环后的语句。\n",
    " \n",
    " 因此如果需要提前退出线程，即要先退出循环，一般的方法就是循环地判断一个标志位`working`，一旦标志位到达到预定的值，就退出循环。 这样就能做到退出线程了。"
   ]
  },
  {
   "cell_type": "markdown",
   "id": "1be24690-ad24-415a-a77e-fe8033b0ad80",
   "metadata": {},
   "source": [
    "设置一个标志位变量`working`，初始值赋为`True`\n",
    "\n",
    "定义了函数`Video()`，当标志位`working`为`True`时，该函数将循环打印\n",
    "\n",
    "将函数`Video()`作为参数传入`threading.Thread`中实例化一个`Thread`对象，赋值为`t`"
   ]
  },
  {
   "cell_type": "markdown",
   "id": "b079d7ea-07f6-4cbb-a3b1-05e65044ae1d",
   "metadata": {},
   "source": [
    "<font color=red size=3>动手练习2</font>\n",
    "\n",
    "1. 在`<1>`处，定义标志位变量`working`赋值为`True`，作为循环条件。\n",
    "2. 在`<2>`处，请用`print`在循环内打印`这是一个线程`。\n",
    "3. 在`<3>`处，请用`time.sleep`在打印完后睡眠`2`秒时间。\n",
    "4. 在`<4>`处，请用`print`在循环外打印`线程已退出`。"
   ]
  },
  {
   "cell_type": "markdown",
   "id": "35063714-4b79-4bbd-a7bf-b760c5519c5e",
   "metadata": {},
   "source": [
    "**填写完成后执行后续代码，能够正常打印`这是一个线程`和`线程已退出`，说明填写正确。**\n",
    "\n",
    "```python\n",
    "t.start()\n",
    "```\n",
    "```markdown\n",
    "这是一个线程\n",
    "这是一个线程\n",
    ".\n",
    ".\n",
    ".\n",
    "```\n",
    "---\n",
    "```python\n",
    "working = False\n",
    "```\n",
    "```markdown\n",
    "线程已退出\n",
    "```"
   ]
  },
  {
   "cell_type": "code",
   "execution_count": null,
   "id": "bdbf8edb-618d-438e-96c8-6f218a45a3dd",
   "metadata": {},
   "outputs": [],
   "source": [
    "# 定义标志位变量\n",
    "<1>\n",
    "\n",
    "def Video():\n",
    "    while working:\n",
    "        <2>\n",
    "        <3>\n",
    "    <4>\n",
    "\n",
    "t = threading.Thread(target=Video)"
   ]
  },
  {
   "cell_type": "markdown",
   "id": "580c80d7",
   "metadata": {},
   "source": [
    "线程对象`t`调用`start()`方法，开始执行线程函数后会一直打印`这是一个线程`这句话\n",
    "\n",
    "主进程`t.start()`已经运行完毕，线程`Video()`还在后台继续运行，将会持续循环打印"
   ]
  },
  {
   "cell_type": "code",
   "execution_count": null,
   "id": "f8b8d442",
   "metadata": {
    "scrolled": true,
    "tags": []
   },
   "outputs": [],
   "source": [
    "t.start()"
   ]
  },
  {
   "cell_type": "markdown",
   "id": "1216b536",
   "metadata": {},
   "source": [
    "想要停止循环，需要改变`while`循环的循环条件，即标志位变量`working`的值，当循环条件`working`的值不满足于`while`循环条件时，就能够退出循环。"
   ]
  },
  {
   "cell_type": "code",
   "execution_count": null,
   "id": "c0902b9b",
   "metadata": {},
   "outputs": [],
   "source": [
    "working = False"
   ]
  },
  {
   "cell_type": "markdown",
   "id": "dcc9baf3",
   "metadata": {},
   "source": [
    "函数`Video()`在退出循环后，执行最后一句`print`语句，结束线程。"
   ]
  },
  {
   "cell_type": "markdown",
   "id": "ce372758-97e9-41b1-b3bf-6e5bc80320bf",
   "metadata": {},
   "source": [
    "<details>\n",
    "<summary><font color=red size=3>点击查看动手练习2答案</font></summary>\n",
    "<pre><code>\n",
    "\n",
    "```python\n",
    "# 定义标志位变量\n",
    "working = True\n",
    "\n",
    "def Video():\n",
    "    while working:\n",
    "        print(\"这是一个线程\")\n",
    "        time.sleep(2)    \n",
    "    print(\"线程已退出\")\n",
    "\n",
    "t = threading.Thread(target=Video)  \n",
    "```\n",
    "</code></pre>\n",
    "</details>"
   ]
  },
  {
   "cell_type": "markdown",
   "id": "ca0793b4",
   "metadata": {},
   "source": [
    "### 3. 启动线程的第二种方式\n",
    "\n",
    "**第二种方式：**直接从Thread继承，创建一个新的class，把线程执行的代码放到这个新的 class里。即编写一个自定义类继承`Thread`，然后复写`run()`方法，在`run()`方法中编写任务处理代码，然后创建这个`Thread`的子类。\n",
    "\n",
    "将函数封装成线程类，便于线程的调用与停止，大多用于这种方式来启动线程，属于面向对象编程。\n"
   ]
  },
  {
   "cell_type": "markdown",
   "id": "b83b5954-0a85-42fe-81c6-70da4c85ed1c",
   "metadata": {},
   "source": [
    "- `self`：Python中就规定，函数的第一个参数，就必须是实例对象本身，并且建议，约定俗成，把其名字写为`self`,以`self`为前缀的变量都可供类中的所有方法使用。\n",
    "- `def __init__(self)`：在实例化类时定义变量\n",
    "  - `super`：函数是用于调用父类(超类)的一个方法。这里表示继承线程类`threading.Thread`。\n",
    "- `def run(self)`：把要执行的代码写到run函数里面，线程在创建后，通过`.start()`会直接运行run函数\n",
    "**退出线程的方式：**在类中定义标志位，通过编写`stop`函数来控制标志位，达到退出循环。 这样就能做到退出线程了。 \n",
    "- `def stop(self)`：线程停止函数，用于控制标志位变量，从而达到控制线程"
   ]
  },
  {
   "cell_type": "markdown",
   "id": "dda0f7d8-8641-4fbd-8369-e8ad0a87e5db",
   "metadata": {},
   "source": [
    "<font color=red size=3>动手练习3</font>\n",
    "\n",
    "1. 在`<1>`处，从导入的`threading`库中继承`Thread`。\n",
    "2. 在`<2>`处，命名一个`stop`函数，用于退出线程。\n",
    "3. 在`<3>`处，将控制循环的变量赋值为`False`。"
   ]
  },
  {
   "cell_type": "markdown",
   "id": "a44002d9-60fb-4f02-9a29-7025756c0d79",
   "metadata": {},
   "source": [
    "**填写完成后执行以下代码，能够正常打印`这是一个线程`和`线程已退出`，说明填写正确。**\n",
    "\n",
    "```python\n",
    "a = videoThread()\n",
    "a.start()\n",
    "```\n",
    "```markdown\n",
    "这是一个线程\n",
    "这是一个线程\n",
    ".\n",
    ".\n",
    ".\n",
    "```\n",
    "---\n",
    "```python\n",
    "a.stop()\n",
    "```\n",
    "```markdown\n",
    "退出线程\n",
    "```\n"
   ]
  },
  {
   "cell_type": "code",
   "execution_count": null,
   "id": "99f71727",
   "metadata": {},
   "outputs": [],
   "source": [
    "class videoThread(<1>):\n",
    "    def __init__(self):\n",
    "        super(videoThread, self).__init__()\n",
    "        self.working = True  # 循环标志位\n",
    "        \n",
    "    def run(self):  # start()后运行run函数\n",
    "        while self.working:\n",
    "            print(\"这是一个线程\")\n",
    "            time.sleep(2)\n",
    "        \n",
    "    def <2>(self):\n",
    "        <3>\n",
    "        print(\"退出线程\")"
   ]
  },
  {
   "cell_type": "markdown",
   "id": "5f34195a",
   "metadata": {},
   "source": [
    "实例化一个`videoThread()`线程类，实例化对象为`a`"
   ]
  },
  {
   "cell_type": "code",
   "execution_count": null,
   "id": "d1567686",
   "metadata": {},
   "outputs": [],
   "source": [
    "a = videoThread()"
   ]
  },
  {
   "cell_type": "markdown",
   "id": "5990feef-c8a0-4ef3-b747-befdfd70ffa5",
   "metadata": {},
   "source": [
    "线程对象`a`调用`start()`方法, 开始执行`videoThread()`线程类中的`run()`函数。"
   ]
  },
  {
   "cell_type": "code",
   "execution_count": null,
   "id": "24ea0ac1-a41a-419a-b3e0-e5757c057813",
   "metadata": {},
   "outputs": [],
   "source": [
    "a.start()"
   ]
  },
  {
   "cell_type": "markdown",
   "id": "c3ed697b",
   "metadata": {},
   "source": [
    "线程对象`a`调用`videoThread()`线程类中的`stop()`函数，来退出线程"
   ]
  },
  {
   "cell_type": "code",
   "execution_count": null,
   "id": "036aa064",
   "metadata": {},
   "outputs": [],
   "source": [
    "a.stop()"
   ]
  },
  {
   "cell_type": "markdown",
   "id": "bbe1f94e-3c71-43cc-ae29-ed9a5d238add",
   "metadata": {},
   "source": [
    "<details>\n",
    "<summary><font color=red size=3>点击查看动手练习3答案</font></summary>\n",
    "<pre><code>\n",
    "\n",
    "```python\n",
    "class videoThread(threading.Thread):\n",
    "    def __init__(self):\n",
    "        super(videoThread, self).__init__()\n",
    "        self.working = True  # 循环标志位\n",
    "        \n",
    "    def run(self):  # start()后运行run函数\n",
    "        while self.working:\n",
    "            print(\"这是一个线程\")\n",
    "            time.sleep(2)\n",
    "        \n",
    "    def stop(self):\n",
    "        self.working = False\n",
    "        print(\"退出线程\")\n",
    "```\n",
    "</code></pre>\n",
    "</details>"
   ]
  },
  {
   "cell_type": "markdown",
   "id": "bc1f3e7d-0e0c-4b71-836f-c14d9e302b47",
   "metadata": {},
   "source": [
    "<font color=red size=3>动手练习4</font>\n",
    "\n",
    "理解线程类\n",
    "\n",
    "按照以下要求完成实验：\n",
    "1. 在`<1>`处，创建一个`class`类名为`TextThread`,继承`threading.Thread`\n",
    "2. 在`<2>`处，函数`__init__`中使用`super`调用父类，定义的`self.work_status`循环标志位，赋值为`True`\n",
    "3. 在`<3>`处，函数`run`执行循环语句，循环判断`self.work_status`，循环中执行`print`语句打印`动手实验`，睡眠时间为`1`秒\n",
    "4. 在`<4>`处，函数`stop`，使用`if`条件语句判断`self.work_status`循环标志位，若为真，则将`self.work_status`赋值为`False`，并打印`退出线程`\n",
    "5. 在`<5>`处，实例化线程类，启动线程\n",
    "6. 在`<6>`处，停止线程"
   ]
  },
  {
   "cell_type": "markdown",
   "id": "50ad3c07-432a-4ff1-ba4d-894e4b69f73e",
   "metadata": {},
   "source": [
    "**能够成功开启线程有`动手实验`输出，并且退出线程有`退出线程`输出，则表示实验完成。**"
   ]
  },
  {
   "cell_type": "code",
   "execution_count": null,
   "id": "dabdba85-cf02-43c7-a1a6-f6df3aef7efb",
   "metadata": {},
   "outputs": [],
   "source": [
    "# 补全代码\n",
    "class TextThread(threading.Thread):\n",
    "    def __init__(self):\n",
    "        super(TextThread, self).__init__()\n",
    "        self.work_status = True # 循环标志位\n",
    "        \n",
    "    def run(self):  # start()后运行run函数\n",
    "        while self.work_status:\n",
    "            print(\"动手实验\")\n",
    "            time.sleep(1)\n",
    "        \n",
    "    def stop(self):\n",
    "        if self.work_status:\n",
    "            self.work_status = False\n",
    "            print(\"退出线程\")\n"
   ]
  },
  {
   "cell_type": "markdown",
   "id": "9c3abdbe-9b69-4654-938a-79ff4e449487",
   "metadata": {},
   "source": [
    "<details>\n",
    "<summary><font color=red size=3>点击查看答案</font></summary>\n",
    "<pre><code>\n",
    "\n",
    "```python\n",
    "class TextThread(threading.Thread):\n",
    "    def __init__(self):\n",
    "        super(TextThread, self).__init__()\n",
    "        self.work_status = True  # 循环标志位\n",
    "        \n",
    "    def run(self):  # start()后运行run函数\n",
    "        while self.work_status:\n",
    "            print(\"动手实验\")\n",
    "            time.sleep(1)\n",
    "        \n",
    "    def stop(self):\n",
    "        self.work_status = False\n",
    "        print(\"退出线程\")\n",
    "```\n",
    "</code></pre>\n",
    "</details>"
   ]
  },
  {
   "cell_type": "code",
   "execution_count": null,
   "id": "0081efa9-ecf2-4d94-987c-9aefb6ef6bef",
   "metadata": {},
   "outputs": [],
   "source": [
    "# 补全代码\n",
    "# 实例化线程类，并调用start()方法启动\n",
    "t = TextThread()\n",
    "t.start()"
   ]
  },
  {
   "cell_type": "markdown",
   "id": "5acb88d4-9ce3-4362-8f66-e72ec0e7d167",
   "metadata": {},
   "source": [
    "<details>\n",
    "<summary><font color=red size=3>点击查看答案</font></summary>\n",
    "<pre><code>\n",
    "\n",
    "```python\n",
    "a = TextThread()\n",
    "a.start()\n",
    "```\n",
    "</code></pre>\n",
    "</details>"
   ]
  },
  {
   "cell_type": "code",
   "execution_count": null,
   "id": "5275c459-228d-4c4d-b134-5fb9b55bd3c4",
   "metadata": {},
   "outputs": [],
   "source": [
    "# 补全代码\n",
    "# 调用stop()方法，停止线程\n",
    "t.stop()"
   ]
  },
  {
   "cell_type": "markdown",
   "id": "fe54a0c2-71ed-49ef-9203-80cab8c8eb95",
   "metadata": {},
   "source": [
    "<details>\n",
    "<summary><font color=red size=3>点击查看答案</font></summary>\n",
    "<pre><code>\n",
    "\n",
    "```python\n",
    "a.stop()\n",
    "```\n",
    "</code></pre>\n",
    "</details>"
   ]
  },
  {
   "cell_type": "markdown",
   "id": "b0b4c8a0-f028-4a17-b5d9-4e028a39a995",
   "metadata": {},
   "source": [
    "## 任务小结\n",
    "\n",
    "本次实验的收获：\n",
    "\n",
    "- 通过threading.Thread(target)方法编写并启动线程\n",
    "- 学会编写继承Thread的自定义类"
   ]
  }
 ],
 "metadata": {
  "kernelspec": {
   "display_name": "Python 3",
   "language": "python",
   "name": "python3"
  },
  "language_info": {
   "codemirror_mode": {
    "name": "ipython",
    "version": 3
   },
   "file_extension": ".py",
   "mimetype": "text/x-python",
   "name": "python",
   "nbconvert_exporter": "python",
   "pygments_lexer": "ipython3",
   "version": "3.7.3"
  }
 },
 "nbformat": 4,
 "nbformat_minor": 5
}
