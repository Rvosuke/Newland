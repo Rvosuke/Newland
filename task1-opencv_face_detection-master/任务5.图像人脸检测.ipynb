{
 "cells": [
  {
   "cell_type": "markdown",
   "id": "f3c6b801",
   "metadata": {},
   "source": [
    "# 任务5 图像人脸检测"
   ]
  },
  {
   "cell_type": "markdown",
   "id": "5b605985-9597-46ae-8689-5259baf89a41",
   "metadata": {},
   "source": [
    "## 职业能力目标\n",
    "\n",
    "- 理解HaarCascade级联分类器的使用方法；\n",
    "- 理解ROI的定义；\n",
    "- 能够使用CascadeClassifier库完成人脸检测。"
   ]
  },
  {
   "cell_type": "markdown",
   "id": "55b748d4-1b39-46bb-b417-73ec0ae0a0ba",
   "metadata": {},
   "source": [
    "## 任务描述\n",
    "\n",
    "本实验将实现用opencv自带的人脸库对读取的图片进行人脸检测并标注人脸框。"
   ]
  },
  {
   "cell_type": "markdown",
   "id": "08f1fa76-8959-44b6-b276-2212c88c9580",
   "metadata": {},
   "source": [
    "## 任务要求\n",
    "\n",
    "- 使用imread方法读取图片；\n",
    "- 使用cvtColor方法转换图像色彩；\n",
    "- 使用CascadeClassifier方法加载HaarCascade模型检测图片人脸；\n",
    "- 使用rectangle方法绘制人脸矩形框。"
   ]
  },
  {
   "cell_type": "markdown",
   "id": "606af13e-6046-482b-94b5-9251b7985e86",
   "metadata": {},
   "source": [
    "## 任务实施"
   ]
  },
  {
   "cell_type": "markdown",
   "id": "8a592c16",
   "metadata": {},
   "source": [
    "## 1. 了解人脸检测\n",
    "人脸检测在日常生活中受到广泛的应用，人脸检测就是在一幅图像中找出所有人脸的位置。\n",
    "\n",
    "通过OpenCV内置的人脸检测模型，对画面中的人脸绘制出人脸所在位置。\n",
    "\n",
    "通过人脸检测后再进行人脸识别就可以实现日常生活中应用。例如：扫脸解锁手机，扫脸支付，扫脸开门。\n",
    "\n",
    "<img src = './src/人脸检测1.png' width = 600 height = 500>\n",
    "\n",
    "- 人脸变成了一个人非常重要的生物信息。\n"
   ]
  },
  {
   "cell_type": "markdown",
   "id": "c515869b",
   "metadata": {},
   "source": [
    "## 2. 图像人脸检测\n",
    "读入图片，检测人脸，并在图片中标识人脸所在的矩形区域。"
   ]
  },
  {
   "cell_type": "markdown",
   "id": "c4e2ba0f",
   "metadata": {},
   "source": [
    "### 2.1 导入cv2\n",
    "\n",
    "`python-opencv` 在python中的包名称叫做 cv2\n",
    "- `cv2`实现图像处理和计算机视觉方面的很多通用算法。"
   ]
  },
  {
   "cell_type": "code",
   "id": "00beb01b",
   "metadata": {
    "ExecuteTime": {
     "end_time": "2024-08-13T07:44:55.596128Z",
     "start_time": "2024-08-13T07:44:55.265081Z"
    }
   },
   "source": [
    "import cv2"
   ],
   "outputs": [],
   "execution_count": 1
  },
  {
   "cell_type": "markdown",
   "id": "017779ff",
   "metadata": {},
   "source": [
    "### 2.2 读入图片\n",
    "- `cv2.imread(filepath)`：读取彩色图像，图像是按照BGR像素存储\n",
    "\n",
    "  参数说明：\n",
    "    - `filepath`要读入图片的完整路径"
   ]
  },
  {
   "cell_type": "markdown",
   "id": "3e649ead",
   "metadata": {},
   "source": [
    "`img_path`变量定义图片路径，通过`cv2.imread`读取图片，将返回值赋值给`img`"
   ]
  },
  {
   "cell_type": "markdown",
   "id": "b9842e81",
   "metadata": {},
   "source": [
    "<font color=red size=3>动手练习1</font>\n",
    "\n",
    "在`<1>`处，请用`cv2.imread()`来读取`img_path`图片。"
   ]
  },
  {
   "cell_type": "markdown",
   "id": "095333a8-9c13-4f06-981c-075739688050",
   "metadata": {},
   "source": [
    "**填写完成后执行后续代码，`if`语句用于判断图片是否正确读入，若未正确读入图片则`print`输出，反之说明填写正确。**"
   ]
  },
  {
   "cell_type": "code",
   "id": "703b73ef",
   "metadata": {
    "ExecuteTime": {
     "end_time": "2024-08-13T07:45:29.658402Z",
     "start_time": "2024-08-13T07:45:29.652388Z"
    }
   },
   "source": [
    "img_path = './exp/face.jpg'\n",
    "img = cv2.imread(img_path)"
   ],
   "outputs": [],
   "execution_count": 2
  },
  {
   "cell_type": "code",
   "id": "76b77e89",
   "metadata": {
    "scrolled": true,
    "tags": [],
    "ExecuteTime": {
     "end_time": "2024-08-13T07:45:37.088760Z",
     "start_time": "2024-08-13T07:45:37.083080Z"
    }
   },
   "source": [
    "if img is None:\n",
    "    # 判断图片是否读入正确\n",
    "    print(\"ERROR：请检查图片路径\")\n",
    "else:\n",
    "    print(img)"
   ],
   "outputs": [
    {
     "name": "stdout",
     "output_type": "stream",
     "text": [
      "[[[176 177 181]\n",
      "  [176 177 181]\n",
      "  [176 177 181]\n",
      "  ...\n",
      "  [174 177 181]\n",
      "  [174 177 181]\n",
      "  [173 176 180]]\n",
      "\n",
      " [[176 177 181]\n",
      "  [176 177 181]\n",
      "  [176 177 181]\n",
      "  ...\n",
      "  [174 177 181]\n",
      "  [174 177 181]\n",
      "  [173 176 180]]\n",
      "\n",
      " [[176 177 181]\n",
      "  [176 177 181]\n",
      "  [176 177 181]\n",
      "  ...\n",
      "  [174 177 181]\n",
      "  [174 177 181]\n",
      "  [173 176 180]]\n",
      "\n",
      " ...\n",
      "\n",
      " [[180 180 180]\n",
      "  [182 182 182]\n",
      "  [184 184 184]\n",
      "  ...\n",
      "  [133 138 142]\n",
      "  [138 141 145]\n",
      "  [139 142 146]]\n",
      "\n",
      " [[183 183 183]\n",
      "  [184 184 184]\n",
      "  [186 186 186]\n",
      "  ...\n",
      "  [133 138 142]\n",
      "  [138 141 145]\n",
      "  [139 142 146]]\n",
      "\n",
      " [[183 183 183]\n",
      "  [184 184 184]\n",
      "  [186 186 186]\n",
      "  ...\n",
      "  [133 138 142]\n",
      "  [138 141 145]\n",
      "  [139 142 146]]]\n"
     ]
    }
   ],
   "execution_count": 3
  },
  {
   "cell_type": "markdown",
   "id": "092f8b00",
   "metadata": {},
   "source": [
    "<details>\n",
    "<summary><font color=red size=3>点击查看动手练习1答案</font></summary>\n",
    "<pre><code>\n",
    "\n",
    "```python\n",
    "# 设置图片路径\n",
    "img_path = './exp/face.jpg'\n",
    "img = cv2.imread(img_path)\n",
    "```\n",
    "</code></pre>\n",
    "</details>"
   ]
  },
  {
   "cell_type": "markdown",
   "id": "95fe0c4f",
   "metadata": {
    "tags": []
   },
   "source": [
    "### 2.3 图像转换\n",
    "把`BGR`彩色图像转换成`GRAY`灰度图需要使用`cvtColor`函数进行转换\n",
    "- `cv2.cvtColor(src, code)`：\n",
    "\n",
    "  参数说明：\n",
    "  - `src`：它是要更改其色彩空间的图像。\n",
    "  - `code`：它是色彩空间转换代码。"
   ]
  },
  {
   "cell_type": "markdown",
   "id": "195f7cec",
   "metadata": {},
   "source": [
    "<font color=red size=3>动手练习2</font>\n",
    "\n",
    "在`<1>`处，请用`cv2.cvtColor()`来将彩色图像`img`通过`cv2.COLOR_BGR2GRAY`转化成灰度图`gray`。"
   ]
  },
  {
   "cell_type": "markdown",
   "id": "33fc71d6-6935-469d-ab8b-58df1253ba08",
   "metadata": {},
   "source": [
    "**填写完成后执行代码，输出如下所示，说明填写正确。**\n",
    "\n",
    "```python\n",
    "gray\n",
    "```\n",
    "```\n",
    "array([[142, 142, 142, ..., 147, 147, 147],\n",
    "       [142, 142, 142, ..., 147, 147, 147],\n",
    "       [142, 142, 142, ..., 147, 147, 147],\n",
    "       ...,\n",
    "       [112, 112, 113, ..., 110, 110, 111],\n",
    "       [113, 113, 114, ..., 112, 112, 112],\n",
    "       [113, 113, 114, ..., 109, 109, 109]], dtype=uint8)\n",
    "\n",
    "```"
   ]
  },
  {
   "cell_type": "code",
   "id": "fb1723d5",
   "metadata": {
    "ExecuteTime": {
     "end_time": "2024-08-13T07:46:09.819398Z",
     "start_time": "2024-08-13T07:46:09.807453Z"
    }
   },
   "source": [
    "# 将彩色图片转换为灰度图\n",
    "gray = cv2.cvtColor(img, cv2.COLOR_BGR2GRAY)\n",
    "gray"
   ],
   "outputs": [
    {
     "data": {
      "text/plain": [
       "array([[178, 178, 178, ..., 178, 178, 177],\n",
       "       [178, 178, 178, ..., 178, 178, 177],\n",
       "       [178, 178, 178, ..., 178, 178, 177],\n",
       "       ...,\n",
       "       [180, 182, 184, ..., 139, 142, 143],\n",
       "       [183, 184, 186, ..., 139, 142, 143],\n",
       "       [183, 184, 186, ..., 139, 142, 143]], dtype=uint8)"
      ]
     },
     "execution_count": 4,
     "metadata": {},
     "output_type": "execute_result"
    }
   ],
   "execution_count": 4
  },
  {
   "cell_type": "markdown",
   "id": "2432f809",
   "metadata": {},
   "source": [
    "<details>\n",
    "<summary><font color=red size=3>点击查看动手练习2答案</font></summary>\n",
    "<pre><code>\n",
    "\n",
    "```python\n",
    "# 将彩色图片转换为灰度图\n",
    "gray = cv2.cvtColor(img, cv2.COLOR_BGR2GRAY)\n",
    "gray\n",
    "```\n",
    "</code></pre>\n",
    "</details>"
   ]
  },
  {
   "cell_type": "markdown",
   "id": "723e725f",
   "metadata": {},
   "source": [
    "### 2.4 载入人脸检测的Cascade模型\n",
    "`CascadeClassifier`**级联分类器的使用方法**\n",
    "\n",
    "通过`HaarCascade`模型，输入图片，就可以获取人脸所在区域的矩形位置。\n",
    "\n",
    "模型的使用方法简单，首先载入对应的`HaarCascade`文件，文件格式为xml。这里已经将文件下载到了`haar`文件夹下， 可以通过相对路径进行引用。\n",
    "```\n",
    "├── haar\n",
    "    └── haarcascade_frontalface_default.xml\n",
    "```   \n",
    "\n",
    "<img src = './src/人脸检测3.png'  width = 960></img>\n"
   ]
  },
  {
   "cell_type": "markdown",
   "id": "3081e48f",
   "metadata": {},
   "source": [
    "载入人脸检测的Cascade模型，就是在`cv2.CascadeClassifier()`中传入对应`HaarCascade`文件，即`haarcascade_frontalface_default.xml`\n",
    "\n",
    "`FaceCascade`为分类器对象，以供后续调用使用。"
   ]
  },
  {
   "cell_type": "markdown",
   "id": "b45ec0bc",
   "metadata": {},
   "source": [
    "<font color=red size=3>动手练习3</font>\n",
    "\n",
    "在`<1>`处，请用`cv2.CascadeClassifier`来载入`haar`目录下的`haarcascade_frontalface_default.xml` Cascade人脸检测模型。"
   ]
  },
  {
   "cell_type": "markdown",
   "id": "a01b5d2f-9234-4d53-8e35-4f3f5d55a617",
   "metadata": {},
   "source": [
    "**填写完成后执行以下代码，输出结果类似为`<CascadeClassifier 0x7f675be730>`的级联分类器实例对象，说明填写正确。**"
   ]
  },
  {
   "cell_type": "code",
   "id": "a24b7f51",
   "metadata": {
    "ExecuteTime": {
     "end_time": "2024-08-13T07:47:21.733146Z",
     "start_time": "2024-08-13T07:47:21.701441Z"
    }
   },
   "source": [
    "# 载入人脸检测的Cascade模型\n",
    "FaceCascade = cv2.CascadeClassifier('./haar/haarcascade_frontalface_default.xml')\n",
    "FaceCascade"
   ],
   "outputs": [
    {
     "data": {
      "text/plain": [
       "< cv2.CascadeClassifier 0000020868B72270>"
      ]
     },
     "execution_count": 5,
     "metadata": {},
     "output_type": "execute_result"
    }
   ],
   "execution_count": 5
  },
  {
   "cell_type": "markdown",
   "id": "c13b3f47",
   "metadata": {},
   "source": [
    "<details>\n",
    "<summary><font color=red size=3>点击查看动手练习3答案</font></summary>\n",
    "<pre><code>\n",
    "\n",
    "```python\n",
    "# 载入人脸检测的Cascade模型\n",
    "FaceCascade = cv2.CascadeClassifier('./haar/haarcascade_frontalface_default.xml')\n",
    "FaceCascade\n",
    "```\n",
    "</code></pre>\n",
    "</details>"
   ]
  },
  {
   "cell_type": "markdown",
   "id": "64d3936b",
   "metadata": {},
   "source": [
    "**知识补充**\n",
    "\n",
    "**关于HaarCascade**\n",
    "\n",
    "OpenCV中人脸识别是通过Haar特征的级联分类器实现，在这里暂不涉及太多底层算法原理部分的讲解。\n",
    "\n",
    "级联分类器原理说明参考：https://blog.csdn.net/wutao1530663/article/details/78294349\n",
    "\n",
    "OpenCV里面实际上有很多预先训练好的HaarCascade模型(XML文件) , 例如正脸检测， 眼睛检测， 全身检测，下半身检测等。\n",
    "\n",
    "<img src = './src/人脸检测2.png'  width = 960>\n",
    "\n",
    "在OpenCV的两个代码仓库里面都有。\n",
    "\n",
    "数据1:https://github.com/opencv/opencv/tree/master/data/haarcascades\n",
    "\n",
    "数据2:https://github.com/opencv/opencv_contrib/tree/246ea8f3bdf174a2aad6216c2601e3a93bf75c29/modules/face/data/cascades\n"
   ]
  },
  {
   "cell_type": "markdown",
   "id": "1a0ed8ae",
   "metadata": {},
   "source": [
    "### 2.5 检测画面中的人脸\n",
    "\n",
    "将图片的灰度图传入到这个`FaceCascade`模型中，进行人脸检测。\n",
    "\n",
    "- `FaceCascade.detectMultiScale(image, scaleFactor, minNeighbors)`：分类器对象调用参数调节\n",
    "\n",
    "  参数说明：\n",
    "  - `image`：输入图像\n",
    "  - `scaleFactor`：每次缩小图像的比例，默认是1.1\n",
    "  - `minNeighbors`：匹配成功所需要的周围矩形框的数目，每一个特征匹配到的区域都是一个矩形框，只有多个矩形框同时存在的时候，才认为是匹配成功，比如人脸匹配，默认值是3。\n"
   ]
  },
  {
   "cell_type": "markdown",
   "id": "41b61094",
   "metadata": {},
   "source": [
    "使用`FaceCascade.detectMultiScale`分类器调整参数，输入转换好要检测的灰度图，设置图像比例为1.1，需要有5个矩形框同在才认为匹配成功。"
   ]
  },
  {
   "cell_type": "markdown",
   "id": "e8a33051",
   "metadata": {},
   "source": [
    "<font color=red size=3>动手练习4</font>\n",
    "\n",
    "1. 在`<1>`处，请用`FaceCascade.detectMultiScale()`来检测画面中的人脸。传入的参数`image`为`gray`,scaleFactor为`1.1`，`minNeighbors`为5"
   ]
  },
  {
   "cell_type": "markdown",
   "id": "4aaf947a-de5f-4816-b6aa-540c0708ea0f",
   "metadata": {},
   "source": [
    "**填写完成后执行代码，输出结果类似为`array([[ 97, 141, 500, 500]], dtype=int32)`的人脸识别结果区域，说明填写正确。**"
   ]
  },
  {
   "cell_type": "code",
   "id": "af8c1089",
   "metadata": {
    "tags": [],
    "ExecuteTime": {
     "end_time": "2024-08-13T07:49:22.046085Z",
     "start_time": "2024-08-13T07:49:20.597783Z"
    }
   },
   "source": [
    "# 检测图像中的人脸并返回绘制矩形框的值\n",
    "faces = FaceCascade.detectMultiScale(image = gray, scaleFactor = 1.1, minNeighbors = 5)\n",
    "faces"
   ],
   "outputs": [
    {
     "data": {
      "text/plain": [
       "array([[ 40,  63, 208, 208],\n",
       "       [342,  68, 206, 206]], dtype=int32)"
      ]
     },
     "execution_count": 6,
     "metadata": {},
     "output_type": "execute_result"
    }
   ],
   "execution_count": 6
  },
  {
   "cell_type": "markdown",
   "id": "d6e61c50",
   "metadata": {},
   "source": [
    "返回值`faces`是人脸所在区域的ROI数组，是识别到的人脸矩形框。例如：[(x1, y1, w1, h1), (x2, y2, w2, h2)]\n",
    "\n",
    "- 其中`[x, y, w, h]`：\n",
    "\n",
    "  分别是\n",
    "    - (x, y): 左上角坐标值\n",
    "    - w: 人脸矩形区域的宽度\n",
    "    - h: 人脸矩形区域的高度"
   ]
  },
  {
   "cell_type": "markdown",
   "id": "9423000e",
   "metadata": {},
   "source": [
    "<details>\n",
    "<summary><font color=red size=3>点击查看动手练习4答案</font></summary>\n",
    "<pre><code>\n",
    "\n",
    "```python\n",
    "# 检测图像中的人脸并返回绘制矩形框的值\n",
    "faces = FaceCascade.detectMultiScale(image = gray, scaleFactor = 1.1, minNeighbors = 5)\n",
    "faces\n",
    "```\n",
    "</code></pre>\n",
    "</details>"
   ]
  },
  {
   "cell_type": "markdown",
   "id": "8f675415",
   "metadata": {},
   "source": [
    "**知识补充**\n",
    "\n",
    "<img src = './src/ROI.png'  width = 960>\n",
    "\n",
    "ROI 的全称是Region Of Interest , 用于表示在画面的子区域。整个画面的原点（0,0） ， 在整个画面中的左上角。 ROI 本质上是Tuple类型的数据，其中（x,y）代表人脸所在矩形区域的左上角坐标， w 代表矩形的宽度， h代表矩形的高度。\n",
    "\n"
   ]
  },
  {
   "cell_type": "markdown",
   "id": "26e85bfa",
   "metadata": {},
   "source": [
    "### 2.6 绘制矩形框\n",
    "\n",
    "- `cv2.rectangle(img，pt1，pt2，color, thickness)`：这个函数的作用是在图像上绘制一个简单的矩形。\n",
    "\n",
    "  参数说明：\n",
    "  - `img`：图片\n",
    "  - `pt1`：矩形的左上角顶点\n",
    "  - `pt2`：与pt1相反的矩形的顶点，即右下角顶点\n",
    "  - `color`：矩形的颜色或亮度（灰度图像）。\n",
    "  - `thickness`：它是矩形边框线的粗细像素"
   ]
  },
  {
   "cell_type": "code",
   "id": "8f7ac1b3",
   "metadata": {
    "ExecuteTime": {
     "end_time": "2024-08-13T07:50:40.187369Z",
     "start_time": "2024-08-13T07:50:40.183283Z"
    }
   },
   "source": [
    "# 遍历返回的face数组\n",
    "for face in faces:\n",
    "    (x, y, w, h) = face\n",
    "    # 在原彩图上绘制矩形\n",
    "    cv2.rectangle(img, (x, y), (x+w, y+h), (0, 255, 0), 4)"
   ],
   "outputs": [],
   "execution_count": 7
  },
  {
   "cell_type": "markdown",
   "id": "1306943c",
   "metadata": {},
   "source": [
    "### 2.7 创建显示窗口\n",
    "\n",
    "`cv2.namedWindow(winname, flags)`：构建视频的窗口，用于放置图片\n",
    "\n",
    "参数说明：\n",
    "- `winname`：表示窗口的名字,可用作窗口标识符的窗口名称。\n",
    "- `flags`：用于设置窗口的属性，常用属性如下\n",
    "  - `WINDOW_NORMAL`：可以调整大小窗口\n",
    "  - `WINDOW_KEEPRATIO`：保持图像比例\n",
    "  - `WINDOW_GUI_EXPANDED`：绘制一个新的增强GUI窗口"
   ]
  },
  {
   "cell_type": "code",
   "id": "07b60fd9",
   "metadata": {
    "ExecuteTime": {
     "end_time": "2024-08-13T07:50:43.975768Z",
     "start_time": "2024-08-13T07:50:43.919085Z"
    }
   },
   "source": [
    "cv2.namedWindow('Face',flags=cv2.WINDOW_NORMAL | cv2.WINDOW_KEEPRATIO | cv2.WINDOW_GUI_EXPANDED)\n",
    "cv2.setWindowProperty('Face', cv2.WND_PROP_FULLSCREEN, cv2.WINDOW_FULLSCREEN) # 全屏展示"
   ],
   "outputs": [],
   "execution_count": 8
  },
  {
   "cell_type": "markdown",
   "id": "9d153bda",
   "metadata": {},
   "source": [
    "### 2.8 显示图片\n",
    "\n",
    "- `cv2.imshow(winname, mat)`函数可以在窗口中显示图像。\n",
    "\n",
    "  参数\n",
    "  - `winname`：窗口名称（也就是我们对话框的名称），它是一个字符串类型。\n",
    "  - `mat`：是每一帧的画面图像。可以创建任意数量的窗口，但必须使用不同的窗口名称。\n",
    "         \n",
    "- `cv2.waitKey`：`waitkey`控制着`imshow`的持续时间，\n",
    "  - 当`imshow`之后不跟`waitkey`时，相当于没有给`imshow`提供时间展示图像，只会有一个空窗口一闪而过。\n",
    "  - `cv2.waitKey(100)`表示窗口中显示图像时间为100毫秒\n",
    "  - `cv2.imshow`之后一定要跟`cv2.waitKey`函数"
   ]
  },
  {
   "cell_type": "code",
   "id": "7230430f",
   "metadata": {
    "ExecuteTime": {
     "end_time": "2024-08-13T07:50:53.108110Z",
     "start_time": "2024-08-13T07:50:48.092135Z"
    }
   },
   "source": [
    "cv2.imshow('Face', img)\n",
    "cv2.waitKey(5000)"
   ],
   "outputs": [
    {
     "data": {
      "text/plain": [
       "-1"
      ]
     },
     "execution_count": 9,
     "metadata": {},
     "output_type": "execute_result"
    }
   ],
   "execution_count": 9
  },
  {
   "cell_type": "code",
   "id": "6a6d81f8",
   "metadata": {
    "ExecuteTime": {
     "end_time": "2024-08-13T07:50:58.752169Z",
     "start_time": "2024-08-13T07:50:58.737731Z"
    }
   },
   "source": [
    "# 关闭所有的窗口\n",
    "cv2.destroyAllWindows()"
   ],
   "outputs": [],
   "execution_count": 10
  },
  {
   "cell_type": "markdown",
   "id": "23da96e5",
   "metadata": {},
   "source": [
    "### <font color=red>动手实验</font>\n",
    "\n",
    "按照以下要求完成实验：\n",
    "1. 在`<1>`处，读入图片`face1.jpg`，命名为`img`。\n",
    "2. 在`<2>`处，使用`cv2.cvtColor`函数进行转换，把`BGR`转换成`GRAY`灰度图\n",
    "3. 在`<3>`处，使用`cv2.CascadeClassifier`传入模型`haarcascade_frontalface_default.xml`\n",
    "4. 在`<4>`处，使用`FaceCascade.detectMultiScale`检测画面中的人脸，图像缩小的比例是1.1，匹配成功所需要的周围矩形框的数目为3。\n",
    "5. 在`<5>`处，使用`cv2.rectangle`和循环遍历进行绘制矩形框\n",
    "6. 在`<6>`处，使用`cv2.namedWindow`创建显示窗口命名为`Face`,属性设置为`可调整大小`，`保持图像比例`\n",
    "7. 在`<7>`处，使用`cv2.imshow`在窗口`Face`中显示图像`img`\n",
    "8. 在`<8>`处，设置`cv2.waitKey()`为5000毫秒\n"
   ]
  },
  {
   "cell_type": "markdown",
   "id": "e4c5ff6f-0a5d-44fc-b68e-3b547dc7fa1d",
   "metadata": {},
   "source": [
    "**能够成功在图片`face1.jpg`中绘制出矩形框，则表示实验完成。**"
   ]
  },
  {
   "cell_type": "code",
   "id": "8a3fa456",
   "metadata": {
    "ExecuteTime": {
     "end_time": "2024-08-13T07:55:08.455277Z",
     "start_time": "2024-08-13T07:55:01.622037Z"
    }
   },
   "source": [
    "import cv2\n",
    "# 完成代码\n",
    "#设置图片路径\n",
    "img_path = './exp/face1.jpg'\n",
    "#载入带有人脸的图片\n",
    "img = cv2.imread(img_path)\n",
    "\n",
    "\n",
    "#将彩色图片转换为灰度图\n",
    "gray = cv2.cvtColor(img, cv2.COLOR_BGR2GRAY)\n",
    "\n",
    "\n",
    "#载入人脸检测的Cascade模型\n",
    "FaceCascade = cv2.CascadeClassifier('./haar/haarcascade_frontalface_default.xml')\n",
    "\n",
    "#检测画面中的人脸\n",
    "faces = FaceCascade.detectMultiScale(gray, scaleFactor=1.1, minNeighbors=3)\n",
    "\n",
    "\n",
    "#遍历返回的face数组\n",
    "for face in faces:\n",
    "    #解析tuple类型的face位置数据\n",
    "    #(x, y): 左上角坐标值\n",
    "    #w: 人脸矩形区域的宽度\n",
    "    #h: 人脸矩形区域的高度\n",
    "    (x, y, w, h) = face\n",
    "    #在原彩图上绘制矩形\n",
    "    cv2.rectangle(img, (x, y), (x+w, y+h), (0, 255, 0), 4)\n",
    "\n",
    "\n",
    "#创建一个窗口 名字叫做Face\n",
    "cv2.namedWindow('Face', flags=cv2.WINDOW_NORMAL | cv2.WINDOW_KEEPRATIO)\n",
    "cv2.setWindowProperty('Face', cv2.WND_PROP_FULLSCREEN, cv2.WINDOW_FULLSCREEN) # 全屏展示\n",
    "\n",
    "\n",
    "#在窗口Face上面展示图片img\n",
    "cv2.imshow('Face', img)\n",
    "#等待任意按键按下\n",
    "cv2.waitKey(5000)"
   ],
   "outputs": [
    {
     "data": {
      "text/plain": [
       "-1"
      ]
     },
     "execution_count": 1,
     "metadata": {},
     "output_type": "execute_result"
    }
   ],
   "execution_count": 1
  },
  {
   "cell_type": "markdown",
   "id": "bdbe8f10",
   "metadata": {},
   "source": [
    "<details>\n",
    "<summary><font color=red size=3>点击查看答案</font></summary>\n",
    "<pre><code>\n",
    "\n",
    "```python\n",
    "import cv2\n",
    "\n",
    "#设置图片路径\n",
    "img_path = './exp/face1.jpg'\n",
    "#载入带有人脸的图片\n",
    "img = cv2.imread(img_path)\n",
    "\n",
    "#将彩色图片转换为灰度图\n",
    "gray = cv2.cvtColor(img, cv2.COLOR_BGR2GRAY)\n",
    "\n",
    "#载入人脸检测的Cascade模型\n",
    "FaceCascade = cv2.CascadeClassifier('./haar/haarcascade_frontalface_default.xml')\n",
    "\n",
    "#检测画面中的人脸\n",
    "faces = FaceCascade.detectMultiScale(gray, scaleFactor=1.1, minNeighbors=5)\n",
    "\n",
    "#遍历返回的face数组\n",
    "for face in faces:\n",
    "    #解析tuple类型的face位置数据\n",
    "    #(x, y): 左上角坐标值\n",
    "    #w: 人脸矩形区域的宽度\n",
    "    #h: 人脸矩形区域的高度\n",
    "    (x, y, w, h) = face\n",
    "    #在原彩图上绘制矩形\n",
    "    cv2.rectangle(img, (x, y), (x+w, y+h), (0, 255, 0), 4)\n",
    "    \n",
    "#创建一个窗口 名字叫做Face\n",
    "cv2.namedWindow('Face',flags=cv2.WINDOW_NORMAL | cv2.WINDOW_KEEPRATIO | cv2.WINDOW_GUI_EXPANDED)\n",
    "cv2.setWindowProperty('Face', cv2.WND_PROP_FULLSCREEN, cv2.WINDOW_FULLSCREEN) # 全屏展示\n",
    "\n",
    "#在窗口Face上面展示图片img\n",
    "cv2.imshow('Face', img)\n",
    "#等待任意按键按下\n",
    "cv2.waitKey(1)\n",
    "```\n",
    "</code></pre>\n",
    "</details>"
   ]
  },
  {
   "cell_type": "markdown",
   "id": "0f8ef123",
   "metadata": {
    "tags": []
   },
   "source": [
    "### 2.9 最后释放资源\n",
    "\n",
    "- `cv2.destroyAllWindows()`：用来删除所有窗口"
   ]
  },
  {
   "cell_type": "code",
   "id": "aecafd14",
   "metadata": {
    "ExecuteTime": {
     "end_time": "2024-08-13T07:55:21.527174Z",
     "start_time": "2024-08-13T07:55:21.495215Z"
    }
   },
   "source": [
    "# 关闭所有的窗口\n",
    "cv2.destroyAllWindows()"
   ],
   "outputs": [],
   "execution_count": 2
  },
  {
   "cell_type": "markdown",
   "id": "bd0b9964-8dba-4c69-a080-e2791d067c23",
   "metadata": {},
   "source": [
    "## 任务小结\n",
    "\n",
    "本次实验的收获：\n",
    "\n",
    "- 理解了HaarCascade级联分类器的使用方法；\n",
    "- 理解了ROI的定义；\n",
    "- 使用cv2自带库完成人脸检测。"
   ]
  }
 ],
 "metadata": {
  "kernelspec": {
   "display_name": "Python 3",
   "language": "python",
   "name": "python3"
  },
  "language_info": {
   "codemirror_mode": {
    "name": "ipython",
    "version": 3
   },
   "file_extension": ".py",
   "mimetype": "text/x-python",
   "name": "python",
   "nbconvert_exporter": "python",
   "pygments_lexer": "ipython3",
   "version": "3.7.3"
  }
 },
 "nbformat": 4,
 "nbformat_minor": 5
}
