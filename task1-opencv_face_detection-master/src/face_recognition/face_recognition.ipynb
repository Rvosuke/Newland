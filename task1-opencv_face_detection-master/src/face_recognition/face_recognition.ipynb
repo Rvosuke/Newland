{
 "cells": [
  {
   "metadata": {},
   "cell_type": "code",
   "source": [
    "import cv2\n",
    "import time\n",
    "\n",
    "cv2.__version__"
   ],
   "id": "36c6bde3ebc289f1",
   "outputs": [],
   "execution_count": null
  },
  {
   "metadata": {},
   "cell_type": "code",
   "source": [
    "capture_instance = cv2.VideoCapture(0)\n",
    "time.sleep(2)\n",
    "\n",
    "print(\"The camera is now {capture_instance.isOpened()} to capture images.\")\n",
    "\n",
    "capture_instance.set(cv2.CAP_PROP_FRAME_WIDTH, 1920)\n",
    "capture_instance.set(cv2.CAP_PROP_FRAME_HEIGHT, 1080)\n",
    "\n",
    "cv2.namedWindow(\"image_window\", flags=cv2.WINDOW_NORMAL|cv2.WINDOW_KEEPRATIO|cv2.WINDOW_GUI_EXPANDED)\n",
    "\n",
    "ret, frame = capture_instance.read()\n",
    "\n",
    "cv2.imshow(\"image_window\", frame)\n",
    "cv2.waitKey(100)\n",
    "\n",
    "cv2.imwrite(\"1.png\", frame)\n",
    "\n",
    "capture_instance.release()\n",
    "cv2.destroyAllWindows()"
   ],
   "id": "af8ba2e721e998bb",
   "outputs": [],
   "execution_count": null
  },
  {
   "metadata": {
    "ExecuteTime": {
     "end_time": "2024-08-12T08:07:28.173068Z",
     "start_time": "2024-08-12T08:07:24.523602Z"
    }
   },
   "cell_type": "code",
   "source": [
    "cap = cv2.VideoCapture(0)\n",
    "time.sleep(2)\n",
    "\n",
    "print(cap.isOpened())\n",
    "\n",
    "cap.set(cv2.CAP_PROP_FRAME_WIDTH, 1280)\n",
    "cap.set(cv2.CAP_PROP_FRAME_HEIGHT, 800)\n",
    "\n",
    "cv2.namedWindow(\"win1\", flags=cv2.WINDOW_NORMAL|cv2.WINDOW_KEEPRATIO)\n",
    "cv2.namedWindow(\"win2\")\n",
    "\n",
    "ret, frame = cap.read()\n",
    "\n",
    "cv2.imshow(\"win2\", frame)\n",
    "\n",
    "cv2.waitKey(200)\n",
    "\n",
    "cv2.imwrite(\"2.png\", frame)\n",
    "\n",
    "cap.release()\n",
    "cv2.destroyAllWindows()"
   ],
   "id": "88a560c64c8e9dd0",
   "outputs": [
    {
     "name": "stdout",
     "output_type": "stream",
     "text": [
      "True\n"
     ]
    }
   ],
   "execution_count": 22
  },
  {
   "metadata": {},
   "cell_type": "code",
   "outputs": [],
   "execution_count": null,
   "source": "",
   "id": "e137113f8d11feb1"
  }
 ],
 "metadata": {
  "kernelspec": {
   "display_name": "Python 3",
   "language": "python",
   "name": "python3"
  },
  "language_info": {
   "codemirror_mode": {
    "name": "ipython",
    "version": 2
   },
   "file_extension": ".py",
   "mimetype": "text/x-python",
   "name": "python",
   "nbconvert_exporter": "python",
   "pygments_lexer": "ipython2",
   "version": "2.7.6"
  }
 },
 "nbformat": 4,
 "nbformat_minor": 5
}
