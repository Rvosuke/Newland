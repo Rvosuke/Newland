{
 "cells": [
  {
   "cell_type": "markdown",
   "id": "4123c157",
   "metadata": {},
   "source": [
    "# 任务4 使用OpenCV进行视频录制与视频读取"
   ]
  },
  {
   "cell_type": "markdown",
   "id": "f5eb4b0b-6321-413b-80db-54ff02a47246",
   "metadata": {},
   "source": [
    "## 职业能力目标\n",
    "\n",
    "- 了解基础的视频格式与FourCC；\n",
    "- 掌握视频录制与读取的方法。"
   ]
  },
  {
   "cell_type": "markdown",
   "id": "fd396f11-74e9-4e92-a395-41132b354c54",
   "metadata": {},
   "source": [
    "## 任务描述\n",
    "\n",
    "本实验将实现USB摄像头的实时采集、显示与录制，以及avi格式的视频读取。"
   ]
  },
  {
   "cell_type": "markdown",
   "id": "7d7dad5e-f7a5-4ee1-8fa4-c9657836ab9a",
   "metadata": {},
   "source": [
    "## 任务要求\n",
    "\n",
    "- 使用VideoWriter_fourcc方法设置视频编解码的方式；\n",
    "- 使用VideoWriter方法进行视频录制；\n",
    "- 使用VideoCapture方法读取视频。"
   ]
  },
  {
   "cell_type": "markdown",
   "id": "f3725805-8adc-4d23-954f-033a4c747575",
   "metadata": {},
   "source": [
    "## 任务实施"
   ]
  },
  {
   "cell_type": "markdown",
   "id": "3229abd1",
   "metadata": {},
   "source": [
    "## 1. 了解opencv视频录制的方式\n",
    "`OpenCV`可以针对摄像头或视频进行处理，将需要的画面保留下来，保存成一个`.avi`的文件。\n",
    "\n",
    "`OpenCV`进行录制视频的相关操作，主要涉及`OpenCV`的`VideoWriter`对象，`VideoWriter`是用来创建视频文件的类。\n",
    "\n",
    "注意：`OpenCV`只支持`.avi`的格式，而且生成的视频文件不能大于2GB，而且不能添加音频。"
   ]
  },
  {
   "cell_type": "markdown",
   "id": "198a7574",
   "metadata": {},
   "source": [
    "### 1.1 导入cv2\n",
    "\n",
    "`python-opencv` 在python中的包名称叫做 cv2\n",
    "- `cv2`实现图像处理和计算机视觉方面的很多通用算法。"
   ]
  },
  {
   "cell_type": "code",
   "execution_count": null,
   "id": "da2ac6cb",
   "metadata": {},
   "outputs": [],
   "source": [
    "import cv2"
   ]
  },
  {
   "cell_type": "markdown",
   "id": "338d4f4b",
   "metadata": {},
   "source": [
    "### 1.2 创建一个videocapture的实例\n",
    "\n",
    "录制视频的第一步要实例化一个`VideoCapture`对象。 用于从USB摄像头读入图片。\n",
    "\n",
    "创建`VideoCapture`对象的时候，我们需要传入一个合适的摄像头编号。\n",
    "\n",
    "`cv2.VideoCapture(0)`：`0`表示默认为笔记本上的摄像头(如果有的话) / USB摄像头"
   ]
  },
  {
   "cell_type": "markdown",
   "id": "ea1f0afc",
   "metadata": {},
   "source": [
    "<font color=red size=3>动手练习1</font>\n",
    "\n",
    "在`<1>`处，请用`cv2.VideoCapture`来读取编号为`0`的摄像头。"
   ]
  },
  {
   "cell_type": "markdown",
   "id": "bcafa11c-1fa8-4a18-bb03-fd481e563b6a",
   "metadata": {},
   "source": [
    "**填写完成后执行以下代码，输出结果类似为`<VideoCapture 0x7f73a0ead0>`的`VideoCapture`实例对象地址，说明填写正确。**"
   ]
  },
  {
   "cell_type": "code",
   "execution_count": null,
   "id": "4e45e0a0",
   "metadata": {},
   "outputs": [],
   "source": [
    "# 创建一个VideoCapture对象\n",
    "cap = cv2.VideoCapture(0)\n",
    "cap"
   ]
  },
  {
   "cell_type": "markdown",
   "id": "ad3f9d72",
   "metadata": {},
   "source": [
    "<details>\n",
    "<summary><font color=red size=3>点击查看动手练习1答案</font></summary>\n",
    "<pre><code>\n",
    "\n",
    "```python\n",
    "# 创建一个VideoCapture对象\n",
    "cap = cv2.VideoCapture(0)\n",
    "cap\n",
    "```\n",
    "</code></pre>\n",
    "</details>"
   ]
  },
  {
   "cell_type": "markdown",
   "id": "a5933097",
   "metadata": {},
   "source": [
    "### 1.3 VideoWriter\n",
    "`opencv`中视频录制需要借助`VideoWriter`对象，其原理是将从`VideoCapture`中读入图片，不断地写入到`VideoWrite`的数据流中形成视频。\n",
    "\n",
    "- `cv2.VideoWriter_fourcc(brief)`：用于设置视频编解码的方式\n",
    "  - `brief`：设置编解码方式  \n",
    "  \n",
    "  返回值：返回一个`fourcc`代码\n",
    "\n",
    "\n",
    "- `VideoWriter(filename, fourcc, fps, frameSize)`：创建视频流写入对象\n",
    "  - `filename`：要保存的文件的路径\n",
    "  - `fourcc`：fourcc指定编码器\n",
    "  - `fps`：要保存的视频的帧率\n",
    "  - `frameSize`：要保存的文件的画面尺寸"
   ]
  },
  {
   "cell_type": "markdown",
   "id": "9cd2c244",
   "metadata": {},
   "source": [
    "- `videoName`变量定义为`video_record.avi`，字符串类型。\n",
    "- `codec`变量定义为`MJPG`格式。\n",
    "- `fps`变量定义为写入帧率为`20`\n",
    "- `frameSize`变量定义视频帧大小为`（640，480）`\n",
    "\n",
    "将上述指定的变量传入`cv2.VideoWriter`函数中，并创建`VideoWriter`对象为`out`，对象`out`以供后续录制视频时写入帧的操作使用。\n",
    "\n",
    "`cv2.VideoWriter`函数传入的第一个参数`video_record.avi`表示为录制的视频保存在当前文件夹下的`video_record.avi`文件里。"
   ]
  },
  {
   "cell_type": "markdown",
   "id": "15d86b42",
   "metadata": {},
   "source": [
    "<font color=red size=3>动手练习2</font>\n",
    "\n",
    "1. 在`<1>`处，请用`cv2.VideoWriter_fourcc()`函数来指定视频编解码方式为MJPG，传入参数为`*'MJPG'`。\n",
    "2. 在`<2>`处，请用`cv2.VideoWriter()`函数来设置视频录制格式，设置录制的路径`video_path`、编解码方式`codec`、写入帧率`fps`、窗口大小`frameSize`。"
   ]
  },
  {
   "cell_type": "markdown",
   "id": "8eb29de1-240f-48ea-af01-71b03dd25ab6",
   "metadata": {},
   "source": [
    "**填写完成后执行以下代码，能够正常打印编解码方式和`VideoWriter`实例对象地址，说明填写正确。**\n",
    "\n",
    "```python\n",
    "print(codec)\n",
    "print(out)\n",
    "```\n",
    "```markdown\n",
    "1196444237\n",
    "<VideoWriter 0x7f68a35c70>\n",
    "```"
   ]
  },
  {
   "cell_type": "code",
   "execution_count": null,
   "id": "d63f3752",
   "metadata": {},
   "outputs": [],
   "source": [
    "video_path: str = './exp/video_record.avi'\n",
    "# 指定视频编解码方式为MJPG\n",
    "codec: cv2.fourcc = cv2.VideoWriter_fourcc(*'MJPG')\n",
    "fps: int = 20.0 # 指定写入帧率为20\n",
    "frameSize: tuple = (640, 480) # 指定窗口大小\n",
    "# 创建 VideoWriter对象\n",
    "out = cv2.VideoWriter(video_name=video_path, fourcc=codec, fps=fps, frameSize=frameSize)\n",
    "\n",
    "print(codec)\n",
    "print(out)"
   ]
  },
  {
   "cell_type": "markdown",
   "id": "6bb53158",
   "metadata": {},
   "source": [
    "<details>\n",
    "<summary><font color=red size=3>点击查看动手练习2答案</font></summary>\n",
    "<pre><code>\n",
    "\n",
    "```python\n",
    "video_path = './exp/video_record.avi'\n",
    "# 指定视频编解码方式为MJPG\n",
    "codec = cv2.VideoWriter_fourcc(*'MJPG')\n",
    "fps = 20.0 # 指定写入帧率为20\n",
    "frameSize = (640, 480) # 指定窗口大小\n",
    "# 创建 VideoWriter对象\n",
    "out = cv2.VideoWriter(video_path, codec, fps, frameSize)\n",
    "\n",
    "print(codec)\n",
    "print(out)\n",
    "```\n",
    "</code></pre>\n",
    "</details>"
   ]
  },
  {
   "cell_type": "markdown",
   "id": "7a023cb5",
   "metadata": {},
   "source": [
    "**知识补充**\n",
    "\n",
    "**关于FourCC**\n",
    "\n",
    "FourCC全称Four-Character Codes，代表四字符代码 (four character code), 它是一个32位的标示符，其实就是typedef unsigned int FOURCC, 是一种独立标示视频数据流格式的四字符代码。\n",
    "\n",
    "FourCC支持的所有视频编解码的格式都可以在[FourCC官网](https://www.fourcc.org/codecs.php)上查阅。\n",
    "\n",
    "<img src='./src/Fourcc.png'>"
   ]
  },
  {
   "cell_type": "markdown",
   "id": "3e200370",
   "metadata": {},
   "source": [
    "### 1.4 读取图像\n",
    "\n",
    "使用`cap.read()` 获取一帧图片，`cap.read()`返回值有两个，分别赋值给`ret`，`frame`\n",
    "- `ret`：若画面读取成功，则返回True，反之返回False\n",
    "- `frame`：是读取到的图片对象(numpy的ndarray格式)"
   ]
  },
  {
   "cell_type": "markdown",
   "id": "080a943f",
   "metadata": {},
   "source": [
    "<font color=red size=3>动手练习3</font>\n",
    "\n",
    "在`<1>`处，请用`cap.read()`来读取图像，赋值给`ret`，`frame`两个参数。"
   ]
  },
  {
   "cell_type": "markdown",
   "id": "59ab9ef4-930d-4164-a887-3fe3b5a55856",
   "metadata": {},
   "source": [
    "**填写完成后执行以下代码，`ret`输出结果为`True`，说明填写正确。**"
   ]
  },
  {
   "cell_type": "code",
   "execution_count": null,
   "id": "f0e78486-ed98-4a72-a250-f65319e1ae10",
   "metadata": {},
   "outputs": [],
   "source": [
    "ret, frame = cap.read()\n",
    "print(ret)"
   ]
  },
  {
   "cell_type": "markdown",
   "id": "0d2d2457",
   "metadata": {},
   "source": [
    "<details>\n",
    "<summary><font color=red size=3>点击查看动手练习3答案</font></summary>\n",
    "<pre><code>\n",
    "\n",
    "```python\n",
    "ret, frame = cap.read()\n",
    "print(ret)\n",
    "```\n",
    "</code></pre>\n",
    "</details>"
   ]
  },
  {
   "cell_type": "markdown",
   "id": "2250089a",
   "metadata": {},
   "source": [
    "### 1.5 写入帧图像\n",
    "\n",
    "使用上述创建的`out`对象，调用`.write()`方法，将把`VideoCapture`中读到的图片写入到`VideoWrite`的数据流中。"
   ]
  },
  {
   "cell_type": "markdown",
   "id": "bc63375e",
   "metadata": {},
   "source": [
    "<font color=red size=3>动手练习4</font>\n",
    "\n",
    "在`<1>`处，请用`out.write()`来将图像`frame`以帧的形式写入到`VideoWrite`的数据流中。"
   ]
  },
  {
   "cell_type": "markdown",
   "id": "37c59037-ac86-466c-82db-6522c926b3cb",
   "metadata": {},
   "source": [
    "**填写完成后执行代码，若无报错，则说明填写正确。**"
   ]
  },
  {
   "cell_type": "code",
   "execution_count": null,
   "id": "a08cf886-f28e-416f-8ad7-a922bb66edf3",
   "metadata": {},
   "outputs": [],
   "source": [
    "out.write(frame)"
   ]
  },
  {
   "cell_type": "markdown",
   "id": "000f15ea",
   "metadata": {},
   "source": [
    "<details>\n",
    "<summary><font color=red size=3>点击查看动手练习4答案</font></summary>\n",
    "<pre><code>\n",
    "\n",
    "```python\n",
    "# 将输出的图像用帧的方式写入文件中\n",
    "out.write(frame)\n",
    "```\n",
    "</code></pre>\n",
    "</details>"
   ]
  },
  {
   "cell_type": "markdown",
   "id": "2d328b5d",
   "metadata": {},
   "source": [
    "### 1.6 最后资源释放\n",
    "在录制结束后，我们要释放资源：\n",
    "\n",
    "- `cap.release()`：停止捕获视频\n",
    "- `out.release()`：释放创建视频流写入对象"
   ]
  },
  {
   "cell_type": "code",
   "execution_count": null,
   "id": "afa760b9",
   "metadata": {},
   "outputs": [],
   "source": [
    "cap.release()\n",
    "out.release()"
   ]
  },
  {
   "cell_type": "markdown",
   "id": "8256b0dc",
   "metadata": {},
   "source": [
    "### 1.7 使用OpenCV进行视频录制\n",
    "#### 导入相应的模块\n",
    "\n",
    "- `cv2`：实现图像处理和计算机视觉方面的很多通用算法。\n",
    "- `threading`：threading模块提供了管理多个线程执行的API。"
   ]
  },
  {
   "cell_type": "code",
   "execution_count": null,
   "id": "13eb4f1a",
   "metadata": {},
   "outputs": [],
   "source": [
    "import cv2\n",
    "import threading\n",
    "import time"
   ]
  },
  {
   "cell_type": "markdown",
   "id": "2c741513",
   "metadata": {},
   "source": [
    "### 1.8 视频录制类\n",
    "\n",
    "线程编写实验参考[任务2.线程的调用](./任务2.线程的调用.ipynb)，这里不再赘述\n",
    "\n",
    "1. 通过上一份实验**3.1 视频流的图像显示与退出**实验改写线程视频流类，来完成视频录制\n",
    "2. 在`init`函数中传入`videoName`参数用于传入保存的视频文件名，定义`标志位变量`、`打开摄像头`、`定义VideoWriter的3个参数并创建对象`\n",
    "3. 使用本文**1.5 追加帧**结合循环，通过循环的方式反复的将读取到的每一帧写入到`VideoWrite`的数据流中，就能够进行视频录制\n",
    "3. 在`run`函数中`构建视频窗口`\n",
    "    - 循环体里`读取摄像头图像`、`写入帧图像`、`更新显示图片`、`图像显示的时长`\n",
    "4. 在`stop`函数中定义`标志位变量`、`摄像头释放`、`释放视频流写入对象`、`窗口释放`\n",
    "5. 用线程的方式运行函数，再对视频进行录制与退出"
   ]
  },
  {
   "cell_type": "markdown",
   "id": "1ac9870b",
   "metadata": {},
   "source": [
    "<font color=red size=3>动手练习5</font>\n",
    "\n",
    "按照以下要求完成实验：\n",
    "\n",
    "1. 在`<1>`处，在`init`函数中传入`video_path`参数用于传入保存的视频文件路径\n",
    "2. 在`<2>`处，使用`self.videoName`获取传入的视频文件路径参数值。\n",
    "3. 在`<3>`处，定义`VideoWriter`的3个参数:\n",
    "    - `codec`变量定义为`MJPG`格式、\n",
    "    - `fps`变量定义为写入帧率为`20`、\n",
    "    - `frameSize`变量定义视频帧大小为`（640，480）`\n",
    "4. 在`<4>`处使用`cv2.VideoWriter`，创建对象赋值给变量`self.out`，传入参数为`<2>`和`<3>`中的参数。\n",
    "4. 在`<5>`处，使用`self.out.write`将读取到的每一帧图像`frame`写入到`VideoWrite`的数据流中，就能够进行视频录制\n",
    "5. 在`<6>`处，使用`cv2.imshow`将录制过程中的图像`frame`通过窗口`image_win`显示至显示屏。\n",
    "6. 在`<7>`处，使用`self.out.release()` 释放创建视频流写入对象\n"
   ]
  },
  {
   "cell_type": "markdown",
   "id": "1f38615d-dc3e-4bc9-a943-9dc1d6291528",
   "metadata": {},
   "source": [
    "**填写完成后执行代码，若生成视频文件且后续能正常播放，则说明填写正确。**"
   ]
  },
  {
   "cell_type": "code",
   "execution_count": null,
   "id": "a39c939a",
   "metadata": {},
   "outputs": [],
   "source": [
    "class videoRecordThread(threading.Thread):\n",
    "    def __init__(self, video_path):\n",
    "        super(videoRecordThread, self).__init__()\n",
    "        self.working = True  # 循环标志位\n",
    "        self.cap = cv2.VideoCapture(0)# 开启摄像头\n",
    "        self.videoName = video_path\n",
    "        # time.sleep(2)\n",
    "        codec = cv2.VideoWriter_fourcc(*'MJPG') # 指定视频编解码方式为MJPG\n",
    "        fps = 20 # 指定写入帧率为20\n",
    "        frameSize = (640, 480) # 指定窗口大小\n",
    "        self.out = cv2.VideoWriter # 创建 VideoWriter对象\n",
    "    \n",
    "    def run(self):\n",
    "        print(\"开始录制\")\n",
    "        # 构建视频的窗口\n",
    "        cv2.namedWindow('image_win',flags=cv2.WINDOW_NORMAL | cv2.WINDOW_KEEPRATIO | cv2.WINDOW_GUI_EXPANDED)\n",
    "        cv2.setWindowProperty('image_win', cv2.WND_PROP_FULLSCREEN, cv2.WINDOW_FULLSCREEN) # 全屏展示\n",
    "        while self.working:\n",
    "            ret, frame = self.cap.read()# 读取摄像头图像\n",
    "            if ret:\n",
    "                self.out.writer(frame) # 不断的向视频输出流写入帧图像 \n",
    "                cv2.imshow('image_win', frame) # 更新窗口“image_win”中的图片\n",
    "                cv2.waitKey(40)# 等待按键事件发生 等待1ms\n",
    "    def stop(self):\n",
    "        self.working = False \n",
    "        self.cap.release() # 释放VideoCapture\n",
    "        self.out.release() # 释放创建视频流写入对象\n",
    "        cv2.destroyAllWindows()# 销毁所有的窗口\n",
    "        print(\"结束录制，退出线程\")"
   ]
  },
  {
   "cell_type": "markdown",
   "id": "6a565e0f",
   "metadata": {},
   "source": [
    "实例化一个`videoRecordThread()`线程类，实例化时传入视频录制要保存的文件名`video_record.avi`，实例化对象为`a`，\n",
    "\n",
    "线程对象`a`调用`start()`方法, 开始执行`videoRecordThread()`线程类中的`run()`函数。"
   ]
  },
  {
   "cell_type": "code",
   "execution_count": null,
   "id": "16e53d19",
   "metadata": {},
   "outputs": [],
   "source": [
    "a = videoRecordThread('./exp/video_record.avi')\n",
    "a.start()"
   ]
  },
  {
   "cell_type": "markdown",
   "id": "ba752c09",
   "metadata": {},
   "source": [
    "实例化对象`a`调用`videoRecordThread()`线程类中的`stop()`函数，来退出线程，停止录制。"
   ]
  },
  {
   "cell_type": "code",
   "execution_count": null,
   "id": "3c93eb07",
   "metadata": {},
   "outputs": [],
   "source": [
    "a.stop()"
   ]
  },
  {
   "cell_type": "markdown",
   "id": "d464e4b6",
   "metadata": {},
   "source": [
    "可以通过输入命令`!ls`来查看生成的视频文件"
   ]
  },
  {
   "cell_type": "code",
   "execution_count": null,
   "id": "5511fdb7",
   "metadata": {},
   "outputs": [],
   "source": [
    "!ls ./exp/*.avi"
   ]
  },
  {
   "cell_type": "markdown",
   "id": "13fd729d",
   "metadata": {},
   "source": [
    "<details>\n",
    "<summary><font color=red size=3>点击查看动手练习5答案</font></summary>\n",
    "<pre><code>\n",
    "\n",
    "```python\n",
    "class videoRecordThread(threading.Thread):\n",
    "    def __init__(self, video_path):\n",
    "        super(videoRecordThread, self).__init__()\n",
    "        self.working = True  # 循环标志位\n",
    "        self.cap = cv2.VideoCapture(0)# 开启摄像头\n",
    "        self.videoName = video_path\n",
    "        codec = cv2.VideoWriter_fourcc(*'MJPG') # 指定视频编解码方式为MJPG\n",
    "        fps = 20.0 # 指定写入帧率为20\n",
    "        frameSize = (640, 480) # 指定窗口大小\n",
    "        self.out = cv2.VideoWriter(self.videoName, codec, fps, frameSize)# 创建 VideoWriter对象\n",
    "    def run(self):\n",
    "        print(\"开始录制\")\n",
    "        # 构建视频的窗口\n",
    "        cv2.namedWindow('image_win',flags=cv2.WINDOW_NORMAL | cv2.WINDOW_KEEPRATIO | cv2.WINDOW_GUI_EXPANDED)\n",
    "        cv2.setWindowProperty('image_win', cv2.WND_PROP_FULLSCREEN, cv2.WINDOW_FULLSCREEN) # 全屏展示\n",
    "        while self.working:\n",
    "            ret, frame = self.cap.read()# 读取摄像头图像\n",
    "            if ret:\n",
    "                self.out.write(frame)# 不断的向视频输出流写入帧图像 \n",
    "                cv2.imshow('image_win',frame)# 更新窗口“image_win”中的图片\n",
    "                key = cv2.waitKey(1)# 等待按键事件发生 等待1ms\n",
    "    def stop(self):\n",
    "        self.working = False \n",
    "        self.cap.release()# 释放VideoCapture\n",
    "        self.out.release()# 释放创建视频流写入对象\n",
    "        cv2.destroyAllWindows()# 销毁所有的窗口\n",
    "        print(\"结束录制，退出线程\")\n",
    "```\n",
    "</code></pre>\n",
    "</details>"
   ]
  },
  {
   "cell_type": "markdown",
   "id": "90022ebd",
   "metadata": {},
   "source": [
    "如果需要重新进行**视频录制实验**，只要重启内核后，在**1.7 使用opencv进行视频录制**导入库处开始重新运行，即可在显示屏看到实验效果。\n",
    "\n",
    "<img src='./src/restart_kernel.png' width=400 height=300>"
   ]
  },
  {
   "cell_type": "markdown",
   "id": "22bd29b1",
   "metadata": {},
   "source": [
    "## 2. 视频读取\n",
    "\n",
    "读入视频的时候，仍然需要使用`VideoCapture`对象，只不过传入的不再是USB摄像头的ID了，需要改成视频文件的路径。\n",
    "\n",
    "```python\n",
    "cap = cv2.VideoCapture('./exp/video_record.avi')\n",
    "```"
   ]
  },
  {
   "cell_type": "markdown",
   "id": "8409da04",
   "metadata": {},
   "source": [
    "### 2.1 读入视频文件并显示\n",
    "\n",
    "调用视频流和线程编写实验参考[项目1：使用OpenCV实现人脸检测中的2_opencv实现视频流的调用](../../项目1：使用OpenCV实现人脸检测/2_opencv实现视频流的调用/实验2opencv实现视频流的调用.ipynb)，这里不再赘述\n",
    "\n",
    "1. 通过上一份实验**3.1 视频流的图像显示与退出**实验改写线程视频流类，来完成视频录制\n",
    "2. 在`init`函数中传入`videoName`参数用于传入读取的视频文件名，定义`标志位变量`、`打开视频文件`\n",
    "3. 在`run`函数中`构建视频窗口`\n",
    "   - 循环体中`读取摄像头图像`、`更新显示图片`、`图像显示的时长`\n",
    "   - 循环体结束后`摄像头释放`、`窗口释放`\n",
    "4. 在`stop`函数中定义`标志位变量`、`摄像头释放`、`窗口释放`\n",
    "5. 再对视频进行播放"
   ]
  },
  {
   "cell_type": "code",
   "execution_count": null,
   "id": "22b4efca",
   "metadata": {},
   "outputs": [],
   "source": [
    "import cv2\n",
    "import threading"
   ]
  },
  {
   "cell_type": "code",
   "execution_count": null,
   "id": "a473f380",
   "metadata": {},
   "outputs": [],
   "source": [
    "class videoReadThread(threading.Thread):\n",
    "    def __init__(self, video_path):\n",
    "        super(videoReadThread, self).__init__()\n",
    "        self.working = True  # 循环标志位\n",
    "        self.cap = cv2.VideoCapture(video_path)  # 打开视频文件      \n",
    "    def run(self):\n",
    "        print(\"播放视频\")\n",
    "        # 构建视频的窗口\n",
    "        cv2.namedWindow('image_win',flags=cv2.WINDOW_NORMAL | cv2.WINDOW_KEEPRATIO | cv2.WINDOW_GUI_EXPANDED)\n",
    "        cv2.setWindowProperty('image_win', cv2.WND_PROP_FULLSCREEN, cv2.WINDOW_FULLSCREEN) # 全屏展示\n",
    "        while self.working:  \n",
    "            ret, frame = self.cap.read()# 读取视频文件图像\n",
    "            if not ret: # 如果视频已播放完毕\n",
    "                self.working = False\n",
    "                break\n",
    "            cv2.imshow('image_win',frame)# 更新窗口“image_win”中的图片\n",
    "            cv2.waitKey(1)# 等待按键事件发生 等待1ms\n",
    "        self.cap.release()# 释放VideoCapture\n",
    "        cv2.destroyAllWindows()  # 销毁所有的窗口\n",
    "        print(\"结束播放，退出线程\")\n",
    "    def stop(self):\n",
    "        if self.working:\n",
    "            self.working = False\n",
    "            self.cap.release()# 释放VideoCapture\n",
    "            cv2.destroyAllWindows()  # 销毁所有的窗口\n",
    "            print(\"结束播放，退出线程\")"
   ]
  },
  {
   "cell_type": "markdown",
   "id": "b91bb2ec",
   "metadata": {},
   "source": [
    "实例化一个`videoReadThread()`线程类，实例化时传入视频要读取的文件名，这里文件名为上文保存的`video_record.avi`，实例化对象为`a`\n",
    "\n",
    "线程对象`a`调用`start()`方法, 开始执行`videoReadThread()`线程类中的`run()`函数。"
   ]
  },
  {
   "cell_type": "code",
   "execution_count": null,
   "id": "16f9811c",
   "metadata": {},
   "outputs": [],
   "source": [
    "a = videoReadThread('./exp/video_record.avi')\n",
    "a.start()"
   ]
  },
  {
   "cell_type": "markdown",
   "id": "8dbe429b",
   "metadata": {},
   "source": [
    "通过实例化对象`a`调用`videoReadThread()`线程类中的`stop()`函数，来提前退出线程，停止播放。"
   ]
  },
  {
   "cell_type": "code",
   "execution_count": null,
   "id": "0ae58411",
   "metadata": {},
   "outputs": [],
   "source": [
    "a.stop()"
   ]
  },
  {
   "cell_type": "markdown",
   "id": "db13aea0-87f6-49bd-b66d-1b9b70d3d843",
   "metadata": {},
   "source": [
    "## 任务小结\n",
    "\n",
    "本次实验的收获：\n",
    "\n",
    "- 使用线程的方式完成了视频的录制；\n",
    "- 使用线程的方式完成了视频的播放。"
   ]
  }
 ],
 "metadata": {
  "kernelspec": {
   "display_name": "Python 3",
   "language": "python",
   "name": "python3"
  },
  "language_info": {
   "codemirror_mode": {
    "name": "ipython",
    "version": 3
   },
   "file_extension": ".py",
   "mimetype": "text/x-python",
   "name": "python",
   "nbconvert_exporter": "python",
   "pygments_lexer": "ipython3",
   "version": "3.7.3"
  }
 },
 "nbformat": 4,
 "nbformat_minor": 5
}
