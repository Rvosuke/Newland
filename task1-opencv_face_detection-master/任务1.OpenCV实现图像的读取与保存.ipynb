{
 "cells": [
  {
   "cell_type": "markdown",
   "id": "e4d81646",
   "metadata": {},
   "source": [
    "# 任务1 OpenCV实现图像的读取与保存"
   ]
  },
  {
   "cell_type": "markdown",
   "id": "1a6b10dd-9981-4ab1-ac75-1491c8d4df15",
   "metadata": {},
   "source": [
    "## 职业能力目标\n",
    "\n",
    "- Linux下查看USB摄像头设备；\n",
    "- 使用opencv-python库完成图像的采集、显示和保存。"
   ]
  },
  {
   "cell_type": "markdown",
   "id": "2877972d-2c8d-490d-98b3-de82d51ec47d",
   "metadata": {},
   "source": [
    "## 任务描述\n",
    "\n",
    "本实验将实现使用USB摄像头完成图像采集、图像显示以及图像保存。"
   ]
  },
  {
   "cell_type": "markdown",
   "id": "568678c8-a2ba-4352-8a5b-7728577fcf19",
   "metadata": {},
   "source": [
    "## 任务要求\n",
    "\n",
    "- 使用VideoCapture方法实例化摄像头对象\n",
    "- 使用set方法设置采集图像的像素\n",
    "- 使用namedWindow方法构建图像窗口\n",
    "- 使用read方法读取图像\n",
    "- 使用imshow方法展示图像\n",
    "- 使用imwrite方法保存图像"
   ]
  },
  {
   "cell_type": "markdown",
   "id": "7ccbe1fc-1190-480c-a4af-cce2f79be88a",
   "metadata": {},
   "source": [
    "## 任务实施"
   ]
  },
  {
   "cell_type": "markdown",
   "id": "b007c2d4",
   "metadata": {},
   "source": [
    "## 1. Linux下查看USB摄像头设备\n",
    "想要从USB摄像头获取图片，然后在opencv中进行处理。\n",
    "\n",
    "在用opencv编写获取USB摄像头图片的代码之前，最好先在Ubuntu下查看一下USB摄像头的列表与对应的编号。\n"
   ]
  },
  {
   "cell_type": "markdown",
   "id": "89fdc76e",
   "metadata": {},
   "source": [
    "### 1.1 查看video设备\n",
    "\n",
    "在linux中任何对象都是文件，查看当前是否有摄像头挂载到Ubuntu上，可以执行下面的命令行\n",
    "```\n",
    "!ls -ltrh /dev/video*\n",
    "```\n",
    "ls参数：\n",
    "- -l： 列出文件的详细信息。\n",
    "- -t： 以时间排序。\n",
    "- -r： 对目录反向排序。\n",
    "- -h： 显示出了文件的大小\n",
    "\n",
    "`/dev/video*`：表示`/dev/`目录下所有以`video`为开头的文件\n",
    "\n",
    "<font color=red size=3>动手练习1</font>\n",
    "\n",
    "在`<1>`处，使用`ls`命令设置查看参数为`ltrh`，查看`/dev`目录下的所有`video`设备。"
   ]
  },
  {
   "cell_type": "markdown",
   "id": "6dceb117-b0df-4ac0-ae8a-9e246fffc423",
   "metadata": {},
   "source": [
    "**填写完成后执行代码，输出结果类似为`crw-rw---- 1 root video 81, 0 6月  18 18:25 /dev/video0`，说明填写正确。**"
   ]
  },
  {
   "cell_type": "code",
   "execution_count": null,
   "id": "af648dbe-e700-46a3-b73f-0ba539baac31",
   "metadata": {},
   "outputs": [],
   "source": [
    "!<1>"
   ]
  },
  {
   "cell_type": "markdown",
   "id": "3aaf966d",
   "metadata": {},
   "source": [
    "`/dev/video0`表示有一个摄像头挂载在开发板上，编号为`0`\n",
    "\n",
    "**知识补充**\n",
    "\n",
    "crw 其中：\n",
    "- c：表示字符设备文件\n",
    "- r：表示可读权限\n",
    "- w：表示可写权限"
   ]
  },
  {
   "cell_type": "markdown",
   "id": "6afc85b7-dd53-46d4-be7d-19b2a01407c3",
   "metadata": {},
   "source": [
    "<details>\n",
    "<summary><font color=red size=3>点击查看动手练习1答案</font></summary>\n",
    "<pre><code>\n",
    "\n",
    "```bash\n",
    "!ls -ltrh /dev/video*\n",
    "```\n",
    "</code></pre>\n",
    "</details>"
   ]
  },
  {
   "cell_type": "markdown",
   "id": "74de6f4c",
   "metadata": {},
   "source": [
    "## 2. 图像的读取与显示\n",
    "\n",
    "已经查看到摄像头信息，接下来使用opencv从USB摄像头读取图像，并在开发板中显示出来。\n",
    "\n",
    " "
   ]
  },
  {
   "cell_type": "markdown",
   "id": "06bc96a0",
   "metadata": {},
   "source": [
    "### 2.1 导入cv2\n",
    "\n",
    "`python-opencv` 在python中的包名称叫做 cv2\n",
    "- `cv2`实现图像处理和计算机视觉方面的很多通用算法。"
   ]
  },
  {
   "cell_type": "markdown",
   "id": "fd386dc0-4c12-45f1-b773-0bc624b301c6",
   "metadata": {},
   "source": [
    "**填写完成后执行代码，输出结果为opencv的版本版本号，说明填写正确。**"
   ]
  },
  {
   "cell_type": "code",
   "execution_count": null,
   "id": "0939cea8",
   "metadata": {},
   "outputs": [],
   "source": [
    "import cv2"
   ]
  },
  {
   "cell_type": "markdown",
   "id": "b9fc59f7",
   "metadata": {},
   "source": [
    "<font color=red size=3>动手练习2</font>\n",
    "\n",
    "在`<1>`处，请用`cv2.__version__`来查看opencv的版本"
   ]
  },
  {
   "cell_type": "code",
   "execution_count": null,
   "id": "e1a4dce7",
   "metadata": {},
   "outputs": [],
   "source": [
    "<1>"
   ]
  },
  {
   "cell_type": "markdown",
   "id": "e64dff03-7136-4eb7-97cf-54d2f1742d58",
   "metadata": {},
   "source": [
    "填写完成后执行代码，输出结果为opencv的版本版本号，说明填写正确。"
   ]
  },
  {
   "cell_type": "markdown",
   "id": "dca118be-6712-49d6-a079-8f350fcce277",
   "metadata": {},
   "source": [
    "<details>\n",
    "<summary><font color=red size=3>点击查看动手练习2答案</font></summary>\n",
    "<pre><code>\n",
    "\n",
    "```python\n",
    "cv2.__version__\n",
    "```\n",
    "</code></pre>\n",
    "</details>"
   ]
  },
  {
   "cell_type": "markdown",
   "id": "df71e87d",
   "metadata": {},
   "source": [
    "### 2.2 创建一个video capture的实例\n",
    "\n",
    "opencv读取usb摄像头的图像， 需要用到`VideoCapture`类, 此文章提供了VideoCapture的基础操作。如果你在操作过程中，摄像头读取失败， 我们还为你提供了问题[排查手册](./摄像头排查手册.txt)。"
   ]
  },
  {
   "cell_type": "markdown",
   "id": "4b6954a7",
   "metadata": {},
   "source": [
    "创建VideoCapture 对象的时候，我们需要传入一个合适的摄像头编号。\n",
    "\n",
    "`cv2.VideoCapture(0)`\n",
    "\n",
    "参数说明:\n",
    "\n",
    "- VideCapture接受的参数为序号\n",
    "- 0 : 默认为开发板上的摄像头(如果有的话) / USB摄像头 webcam\n",
    "- 1 : USB摄像头2\n",
    "- 2 ：USB摄像头3 以此类推\n",
    "- -1：代表最新插入的USB设备"
   ]
  },
  {
   "cell_type": "markdown",
   "id": "2c8a73ec",
   "metadata": {},
   "source": [
    "- `cap = cv2.VideoCapture(0)`实例化一个对象赋值给`cap`\n",
    "- `time.sleep(2)`设置睡眠2秒，为了给摄像头有打开的时间"
   ]
  },
  {
   "cell_type": "markdown",
   "id": "4d5c459d-5b08-4b25-b5ad-31e427bf6378",
   "metadata": {},
   "source": [
    "<font color=red size=3>动手练习3</font>\n",
    "\n",
    "在`<1>`处，请用`cv2.VideoCapture`来读取编号为`0`的摄像头。"
   ]
  },
  {
   "cell_type": "markdown",
   "id": "e2efd361-4dae-46b1-9061-c175d8f86efa",
   "metadata": {},
   "source": [
    "**填写完成后执行以下代码，输出结果类似为`<VideoCapture 0x7f73a0ead0>`的`VideoCapture`实例对象地址，说明填写正确。**"
   ]
  },
  {
   "cell_type": "code",
   "execution_count": null,
   "id": "0ff6cc8e",
   "metadata": {
    "scrolled": true
   },
   "outputs": [],
   "source": [
    "cap = <1>\n",
    "cap"
   ]
  },
  {
   "cell_type": "markdown",
   "id": "28d3a23f-16dd-4ab4-a80f-79471b8e14e2",
   "metadata": {},
   "source": [
    "<details>\n",
    "<summary><font color=red size=3>点击查看动手练习3答案</font></summary>\n",
    "<pre><code>\n",
    "\n",
    "```python\n",
    "cap = cv2.VideoCapture(0)\n",
    "cap\n",
    "```\n",
    "</code></pre>\n",
    "</details>"
   ]
  },
  {
   "cell_type": "markdown",
   "id": "a6cdc34c",
   "metadata": {},
   "source": [
    "### 2.3 查看Video Capture是否已经打开\n",
    "\n",
    "实例化`VideoCapture`对象后，摄像头会自动打开\n",
    "\n",
    "使用`cap.isOpened()`方法查看摄像头状态\n",
    "\n",
    "若摄像头已打开则返回`True`，否则返回`False`\n"
   ]
  },
  {
   "cell_type": "code",
   "execution_count": null,
   "id": "00b66e2c",
   "metadata": {},
   "outputs": [],
   "source": [
    "print(\"摄像头是否已经打开 ？ {}\".format(cap.isOpened()))"
   ]
  },
  {
   "cell_type": "markdown",
   "id": "3c3381fb",
   "metadata": {},
   "source": [
    "### 2.4 设置显示画面\n",
    "\n",
    "接下来利用`cap.set`方法对窗口像素进行设置\n",
    "\n",
    "` cap.set(propId, value)`\n",
    "\n",
    "参数说明：\n",
    "\n",
    "- `propId`表示VideoCaptureProperties中的属性标识符，\n",
    "  - `cv2.CAP_PROP_FRAME_WIDTH`表示设置摄像头采集画面宽的像素大小\n",
    "  - `cv2.CAP_PROP_FRAME_HEIGHT`表示设置摄像头采集画面高的像素大小\n",
    "- `value`表示属性标识符的值，下面代码中，把采集画面像素宽度设置为1920，高度设置为1080"
   ]
  },
  {
   "cell_type": "code",
   "execution_count": null,
   "id": "daacc8b0",
   "metadata": {},
   "outputs": [],
   "source": [
    "# 画面宽度设定为 1920\n",
    "cap.set(cv2.CAP_PROP_FRAME_WIDTH, 1920)\n",
    "\n",
    "# 画面高度度设定为 1080\n",
    "cap.set(cv2.CAP_PROP_FRAME_HEIGHT, 1080)"
   ]
  },
  {
   "cell_type": "markdown",
   "id": "20e08ca1",
   "metadata": {},
   "source": [
    "### 2.5 创建显示窗口\n",
    "\n",
    "`cv2.namedWindow(winname, flags)`：构建视频的窗口，用于放置图片\n",
    "\n",
    "参数说明：\n",
    "- `winname`：表示窗口的名字,可用作窗口标识符的窗口名称。\n",
    "- `flags`：用于设置窗口的属性，常用属性如下\n",
    "  - `WINDOW_NORMAL`：可以调整大小窗口\n",
    "  - `WINDOW_KEEPRATIO`：保持图像比例\n",
    "  - `WINDOW_GUI_EXPANDED`：绘制一个新的增强GUI窗口"
   ]
  },
  {
   "cell_type": "markdown",
   "id": "53196ef4",
   "metadata": {},
   "source": [
    "创建一个名为`image_win`的窗口，设置窗口属性为可调整大小，保持图像比例，绘制窗口"
   ]
  },
  {
   "cell_type": "code",
   "execution_count": null,
   "id": "87589b4d",
   "metadata": {},
   "outputs": [],
   "source": [
    "cv2.namedWindow('image_win', flags=cv2.WINDOW_NORMAL | cv2.WINDOW_KEEPRATIO | cv2.WINDOW_GUI_EXPANDED)\n",
    "cv2.setWindowProperty('image_win', cv2.WND_PROP_FULLSCREEN, cv2.WINDOW_FULLSCREEN) # 全屏展示"
   ]
  },
  {
   "cell_type": "markdown",
   "id": "34da6bd3",
   "metadata": {},
   "source": [
    "### 2.6 读取图像\n",
    "\n",
    "使用`cap.read()` 获取一帧图片，`cap.read()`返回值有两个，分别赋值给`ret`，`frame`\n",
    "- `ret`：若画面读取成功，则返回True，反之返回False\n",
    "- `frame`：是读取到的图片对象(numpy的ndarray格式)"
   ]
  },
  {
   "cell_type": "markdown",
   "id": "4064b593-a4d8-4824-8d8d-c8c914705b3b",
   "metadata": {},
   "source": [
    "<font color=red size=3>动手练习4</font>\n",
    "\n",
    "在`<1>`处，请用`cap.read()`来读取图像，赋值给`ret`，`frame`两个参数。"
   ]
  },
  {
   "cell_type": "markdown",
   "id": "8b7c6235-8e3a-4860-835a-9ee21f4fe16a",
   "metadata": {},
   "source": [
    "**填写完成后执行以下代码，`ret`输出结果为`True`，说明填写正确。**"
   ]
  },
  {
   "cell_type": "code",
   "execution_count": null,
   "id": "a8750f24",
   "metadata": {},
   "outputs": [],
   "source": [
    "ret, frame = <1>\n",
    "print(ret)\n",
    "print(frame)"
   ]
  },
  {
   "cell_type": "markdown",
   "id": "0a9efba1-f601-4e49-aeb3-946fc48ad375",
   "metadata": {},
   "source": [
    "<details>\n",
    "<summary><font color=red size=3>点击查看动手练习4答案</font></summary>\n",
    "<pre><code>\n",
    "\n",
    "```python\n",
    "ret, frame = cap.read()\n",
    "print(ret)\n",
    "print(frame)\n",
    "```\n",
    "</code></pre>\n",
    "</details>"
   ]
  },
  {
   "cell_type": "markdown",
   "id": "ef5fdfe4",
   "metadata": {
    "tags": []
   },
   "source": [
    "### 2.7 显示图片\n",
    "\n",
    "- `cv2.imshow(winname, mat)`函数可以在窗口中显示图像。  \n",
    "  参数说明：\n",
    "  - `winname`：窗口名称（也就是我们对话框的名称），它是一个字符串类型。\n",
    "  - `mat`：是一帧的画面图像。可以创建任意数量的窗口，但必须使用不同的窗口名称。\n",
    "\n",
    "\n",
    "- `cv2.waitKey`：`waitkey`控制着`imshow`的持续时间\n",
    "  - 当`imshow`之后不跟`waitkey`时，相当于没有给`imshow`提供时间展示图像，只会有一个空窗口一闪而过。\n",
    "  - `cv2.waitKey(100)`表示窗口中显示图像时间为100毫秒\n",
    "  - `cv2.imshow`之后一定要跟`cv2.waitKey`函数"
   ]
  },
  {
   "cell_type": "markdown",
   "id": "739ecdd0-d90b-4498-a31b-2102a3928ee8",
   "metadata": {},
   "source": [
    "<font color=red size=3>动手练习5</font>\n",
    "\n",
    "1. 在`<1>`处，请用`cv2.imshow`来显示图片，将`frame`图片放入之前创建的`image_win`窗口中。\n",
    "2. 在`<2>`处，请用`cv2.waitKey`设置窗口显示时间为100毫秒。"
   ]
  },
  {
   "cell_type": "markdown",
   "id": "ae1b3744-006b-4a57-8596-8933076d2a82",
   "metadata": {
    "tags": []
   },
   "source": [
    "**填写完成后执行代码，在显示屏上能够正常的显示图片，说明填写正确。**"
   ]
  },
  {
   "cell_type": "code",
   "execution_count": null,
   "id": "f10afe0a",
   "metadata": {},
   "outputs": [],
   "source": [
    "<1>\n",
    "<2>"
   ]
  },
  {
   "cell_type": "markdown",
   "id": "ff2995ca-dd26-4705-a414-93a00718e9d9",
   "metadata": {},
   "source": [
    "填写完成后执行代码，在显示屏上能够正常的显示图片，说明填写正确。"
   ]
  },
  {
   "cell_type": "markdown",
   "id": "73fc2ea6-369e-4986-9229-be33891c1041",
   "metadata": {},
   "source": [
    "<details>\n",
    "<summary><font color=red size=3>点击查看动手练习5答案</font></summary>\n",
    "<pre><code>\n",
    "\n",
    "```python\n",
    "cv2.imshow('image_win',frame)\n",
    "cv2.waitKey(100)\n",
    "```\n",
    "</code></pre>\n",
    "</details>"
   ]
  },
  {
   "cell_type": "markdown",
   "id": "4ab03ece",
   "metadata": {},
   "source": [
    "### 2.8 保存图片\n",
    "- `cv2.imwrite(filename, img)`\n",
    "\n",
    "  参数说明：\n",
    "  - `filename`：要保存的文件名，\n",
    "  - `img`：要保存的图像。"
   ]
  },
  {
   "cell_type": "markdown",
   "id": "95e715b9-00ce-4873-8122-7a07f8fc8a5d",
   "metadata": {},
   "source": [
    "<font color=red size=3>动手练习6</font>\n",
    "\n",
    "1. 在`<1>`处，请用`cv2.imwrite`保存`frame`图片，命名为`图像保存.png`，图片默认保存路径为当前路径。"
   ]
  },
  {
   "cell_type": "markdown",
   "id": "4858fe6f-a00b-4ef7-8664-6562fa3870bb",
   "metadata": {},
   "source": [
    "**填写完成后执行代码，可以通过后续两种方式检查。**"
   ]
  },
  {
   "cell_type": "code",
   "execution_count": null,
   "id": "a1876658-bf08-4d6a-a4d2-7b40be0dd50c",
   "metadata": {},
   "outputs": [],
   "source": [
    "<1>"
   ]
  },
  {
   "cell_type": "markdown",
   "id": "059dd6e6",
   "metadata": {},
   "source": [
    "**查看图片方法一**\n",
    "\n",
    "可以通过输入命令`!ls`来查看当前路径是否有刚刚保存的图片"
   ]
  },
  {
   "cell_type": "code",
   "execution_count": null,
   "id": "2e578afb",
   "metadata": {},
   "outputs": [],
   "source": [
    "!ls ./exp/*.png"
   ]
  },
  {
   "attachments": {
    "4f5dd009-0c97-4879-9d1e-25492f4841b0.png": {
     "image/png": "[encoded data removed]"
    }
   },
   "cell_type": "markdown",
   "id": "87579337-8b6e-45d9-859d-b0d35c9806ea",
   "metadata": {},
   "source": [
    "**查看图片方法二**\n",
    "\n",
    "进入exp目录查看保存的图片\n",
    "\n",
    "![image.png](attachment:4f5dd009-0c97-4879-9d1e-25492f4841b0.png)"
   ]
  },
  {
   "cell_type": "markdown",
   "id": "84eae1f3-751f-47b5-86f9-734fee2dfe53",
   "metadata": {},
   "source": [
    "<details>\n",
    "<summary><font color=red size=3>点击查看动手练习6答案</font></summary>\n",
    "<pre><code>\n",
    "\n",
    "```python\n",
    "cv2.imwrite('图像保存.png', frame)\n",
    "```\n",
    "</code></pre>\n",
    "</details>"
   ]
  },
  {
   "cell_type": "markdown",
   "id": "fd76cb94",
   "metadata": {},
   "source": [
    "### 2.9 释放资源\n",
    "\n",
    "- `cap.release()`：停止捕获视频，用`cv2.VideoCapture(0)`创建对象，操作结束后要用`cap.release()`来释放资源，否则会占用摄像头导致摄像头无法被其他程序使用。\n",
    "\n",
    "- `cv2.destroyAllWindows()`：用来删除所有窗口"
   ]
  },
  {
   "cell_type": "code",
   "execution_count": null,
   "id": "e5f718c4",
   "metadata": {},
   "outputs": [],
   "source": [
    "# 释放VideoCapture\n",
    "cap.release()\n",
    "# 销毁所有的窗口\n",
    "cv2.destroyAllWindows()"
   ]
  },
  {
   "cell_type": "markdown",
   "id": "84220b24",
   "metadata": {},
   "source": [
    "### <font color=red>动手实验</font>\n",
    "\n",
    "按照以下要求完成实验：\n",
    "1. 在`<1>`处，实例化一个`VideoCapture`对象赋值给`cap`，设置休息时间为2秒\n",
    "2. 在`<2>`处，使用`cap.set`设置显示画面像素，宽度为`1280`，高度为`800`\n",
    "3. 在`<3>`处，使用`cv2.namedWindow`创建显示窗口命名为`image_win`,属性设置为`可调整大小`，`保持图像比例`\n",
    "4. 在`<4>`处，使用`cap.read()`读取图像将返回值赋值给`ret`和`frame`\n",
    "5. 在`<5>`处，使用`cv2.imshow`在窗口`image_win`中显示图像`frame`，设置`cv2.waitKey()`为200毫秒\n",
    "6. 在`<6>`处，使用`cv2.imwrite`保存`frame`图像，命名为`图像保存2.png`\n",
    "7. 在`<7>`处，使用`cap.release()`和`cv2.destroyAllWindows()`资源释放\n"
   ]
  },
  {
   "cell_type": "markdown",
   "id": "616af803-03d9-4d1d-b878-c5dddfb77522",
   "metadata": {},
   "source": [
    "**完成实验后，在当前路径下能够查看到命名为`图像保存2.png`的图像，则表示实验完成。**"
   ]
  },
  {
   "cell_type": "code",
   "execution_count": null,
   "id": "5ff10e17-fdf7-42b3-8274-f6dcd0339b6b",
   "metadata": {},
   "outputs": [],
   "source": [
    "import time\n",
    "# 完成代码\n",
    "# 打开摄像头\n",
    "<1>\n",
    "print(cap.isOpened())\n",
    "\n",
    "#设置画面像素\n",
    "<2>\n",
    "\n",
    "\n",
    "#构建视频的窗口\n",
    "<3>\n",
    "\n",
    "\n",
    "#读取摄像头图像\n",
    "<4>\n",
    "\n",
    "\n",
    "#更新窗口“image_win”中的图片\n",
    "<5>\n",
    "#等待按键事件发生 等待5000ms\n",
    "<5>\n",
    "\n",
    "#保存图片\n",
    "<6>\n",
    "\n",
    "\n",
    "#释放VideoCapture\n",
    "<7>\n",
    "#销毁所有的窗口\n",
    "<7>"
   ]
  },
  {
   "cell_type": "markdown",
   "id": "9e1a34b3",
   "metadata": {},
   "source": [
    "<details>\n",
    "<summary><font color=red size=3>点击查看答案</font></summary>\n",
    "<pre><code>\n",
    "\n",
    "```python\n",
    "import cv2\n",
    "import time\n",
    "# 打开摄像头\n",
    "cap = cv2.VideoCapture(0)  \n",
    "time.sleep(2)\n",
    "print(cap.isOpened())\n",
    "\n",
    "cap.set(cv2.CAP_PROP_FRAME_WIDTH, 1280)\n",
    "cap.set(cv2.CAP_PROP_FRAME_HEIGHT, 800)\n",
    "\n",
    "#构建视频的窗口\n",
    "cv2.namedWindow('image_win',flags=cv2.WINDOW_NORMAL | cv2.WINDOW_KEEPRATIO )\n",
    "cv2.setWindowProperty('image_win', cv2.WND_PROP_FULLSCREEN, cv2.WINDOW_FULLSCREEN) # 全屏展示\n",
    "\n",
    "#读取摄像头图像\n",
    "ret, frame = cap.read()\n",
    "\n",
    "#更新窗口“image_win”中的图片\n",
    "cv2.imshow('image_win',frame)\n",
    "#等待按键事件发生 等待5000ms\n",
    "cv2.waitKey(5000)\n",
    "\n",
    "#保存图片\n",
    "cv2.imwrite(\"./exp/img_1.2.png\", frame)\n",
    "\n",
    "#释放VideoCapture\n",
    "cap.release()\n",
    "#销毁所有的窗口\n",
    "cv2.destroyAllWindows()\n",
    "```\n",
    "</code></pre>\n",
    "</details>"
   ]
  },
  {
   "cell_type": "markdown",
   "id": "e2ee4c1c-dc6f-443a-b79c-9f23be64e45e",
   "metadata": {},
   "source": [
    "**查看图片方法一**\n",
    "\n",
    "可以通过输入命令`!ls`来查看当前路径是否有刚刚保存的图片"
   ]
  },
  {
   "cell_type": "code",
   "execution_count": null,
   "id": "87fe702e-3b88-46ea-a669-18d645e1ad3f",
   "metadata": {},
   "outputs": [],
   "source": [
    "!ls ./exp/*.png"
   ]
  },
  {
   "cell_type": "markdown",
   "id": "415f09c0-8231-48c5-be03-9aa4b0d48c62",
   "metadata": {},
   "source": [
    "## 任务小结\n",
    "\n",
    "本次实验的收获：\n",
    "\n",
    "- 使用cv2完成图像采集\n",
    "- 使用cv2完成图像显示\n",
    "- 使用cv2完成图像保存"
   ]
  }
 ],
 "metadata": {
  "kernelspec": {
   "display_name": "Python 3",
   "language": "python",
   "name": "python3"
  },
  "language_info": {
   "codemirror_mode": {
    "name": "ipython",
    "version": 3
   },
   "file_extension": ".py",
   "mimetype": "text/x-python",
   "name": "python",
   "nbconvert_exporter": "python",
   "pygments_lexer": "ipython3",
   "version": "3.7.3"
  }
 },
 "nbformat": 4,
 "nbformat_minor": 5
}
