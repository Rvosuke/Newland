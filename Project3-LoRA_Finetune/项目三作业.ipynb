{
 "cells": [
  {
   "cell_type": "markdown",
   "id": "930b1e16-f345-4520-b45e-cdca8479c15c",
   "metadata": {},
   "source": [
    "#### 项目三作业\n",
    "\n",
    "\n",
    "任务要求：设计具有应用价值的应用场景，自行寻找开源微调数据集，编码实现将数据集转为ChatGLM3 Lora微调规定格式，然后进行微调训练。\n",
    "\n",
    "设计10个以上的提问(一半可以跟你微调训练数据集的基本一致，另外一半对微调数据集的提问进行一定问法调整或组合式提问等变化)，用微调后的模型进行推理，将回答保存在 “finetune-result.csv” 文件中。\n",
    "\n",
    "该文件包含的列包括：\n",
    "\n",
    "| 列名      | 描述 |\n",
    "| ----------- | ----------- |\n",
    "| index      | 序号       |\n",
    "| question   | 提问内容        |\n",
    "| steps1000_answer   | 迭代轮次1000步时，模型输出的回答     |\n",
    "| steps2000_answer   | 迭代轮次1000步时，模型输出的回答     |\n",
    "| steps3000_answer   | 迭代轮次1000步时，模型输出的回答    |\n",
    "\n",
    "#### 3. 完成结果文件提交\n",
    "\n",
    "完成本作业后，请找任课老师现场验收完成结果，再将数据集文件夹、代码文件（本Notebook文件）、finetune-result.csv文件，共同打包命名为“项目三作业-(姓名)-(学号).tar”提交。\n",
    "\n",
    "\n",
    "#### 参考微调数据集(不局限于以下数据集)：\n",
    "\n",
    "- https://github.com/donote/llm-medical-data\n",
    "- https://github.com/basicv8vc/chinese-instruction-datasets-for-llms\n",
    "- https://github.com/WangRongsheng/CareGPT\n",
    "- https://github.com/HqWu-HITCS/Awesome-Chinese-LLM?tab=readme-ov-file#%E9%A2%84%E8%AE%AD%E7%BB%83%E6%95%B0%E6%8D%AE%E9%9B%86\n",
    "- https://github.com/carbonz0/alpaca-chinese-dataset\n"
   ]
  },
  {
   "cell_type": "code",
   "execution_count": null,
   "id": "dc9beeb0-9cb6-495f-b1c4-9182fe771b5b",
   "metadata": {},
   "outputs": [],
   "source": [
    "\n",
    "\n"
   ]
  }
 ],
 "metadata": {
  "kernelspec": {
   "display_name": "Python 3 (ipykernel)",
   "language": "python",
   "name": "python3"
  },
  "language_info": {
   "codemirror_mode": {
    "name": "ipython",
    "version": 3
   },
   "file_extension": ".py",
   "mimetype": "text/x-python",
   "name": "python",
   "nbconvert_exporter": "python",
   "pygments_lexer": "ipython3",
   "version": "3.11.8"
  }
 },
 "nbformat": 4,
 "nbformat_minor": 5
}
