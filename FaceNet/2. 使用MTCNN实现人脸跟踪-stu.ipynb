{
 "cells": [
  {
   "cell_type": "markdown",
   "id": "f7452b2e-be1f-4de0-b66f-88e9f48c866f",
   "metadata": {},
   "source": [
    "### 任务二、使用MTCNN实现人脸跟踪\n",
    "\n",
    "本案例使用 `facenet_pytorch` Python软件包MTCNN在图像数据集上执行人脸检测和跟踪。"
   ]
  },
  {
   "cell_type": "markdown",
   "id": "7e107bc6-317c-4621-9ad5-0cd1e72d65e4",
   "metadata": {},
   "source": [
    "### 0. 环境准备"
   ]
  },
  {
   "cell_type": "code",
   "execution_count": 1,
   "id": "20d7e316-5ba3-46ff-910f-27f2f0cbfa37",
   "metadata": {
    "scrolled": true
   },
   "outputs": [
    {
     "name": "stdout",
     "output_type": "stream",
     "text": [
      "Looking in indexes: https://pypi.virtaicloud.com/repository/pypi/simple\n",
      "Requirement already satisfied: openmim in /root/miniconda3/lib/python3.10/site-packages (0.3.9)\n",
      "Requirement already satisfied: Click in /root/miniconda3/lib/python3.10/site-packages (from openmim) (8.1.7)\n",
      "Requirement already satisfied: colorama in /root/miniconda3/lib/python3.10/site-packages (from openmim) (0.4.6)\n",
      "Requirement already satisfied: model-index in /root/miniconda3/lib/python3.10/site-packages (from openmim) (0.1.11)\n",
      "Requirement already satisfied: opendatalab in /root/miniconda3/lib/python3.10/site-packages (from openmim) (0.0.10)\n",
      "Requirement already satisfied: pandas in /root/miniconda3/lib/python3.10/site-packages (from openmim) (2.2.2)\n",
      "Requirement already satisfied: pip>=19.3 in /root/miniconda3/lib/python3.10/site-packages (from openmim) (24.0)\n",
      "Requirement already satisfied: requests in /root/miniconda3/lib/python3.10/site-packages (from openmim) (2.28.2)\n",
      "Requirement already satisfied: rich in /root/miniconda3/lib/python3.10/site-packages (from openmim) (13.4.2)\n",
      "Requirement already satisfied: tabulate in /root/miniconda3/lib/python3.10/site-packages (from openmim) (0.9.0)\n",
      "Requirement already satisfied: pyyaml in /root/miniconda3/lib/python3.10/site-packages (from model-index->openmim) (6.0.1)\n",
      "Requirement already satisfied: markdown in /root/miniconda3/lib/python3.10/site-packages (from model-index->openmim) (3.6)\n",
      "Requirement already satisfied: ordered-set in /root/miniconda3/lib/python3.10/site-packages (from model-index->openmim) (4.1.0)\n",
      "Requirement already satisfied: pycryptodome in /root/miniconda3/lib/python3.10/site-packages (from opendatalab->openmim) (3.20.0)\n",
      "Requirement already satisfied: tqdm in /root/miniconda3/lib/python3.10/site-packages (from opendatalab->openmim) (4.65.2)\n",
      "Requirement already satisfied: openxlab in /root/miniconda3/lib/python3.10/site-packages (from opendatalab->openmim) (0.1.1)\n",
      "Requirement already satisfied: charset-normalizer<4,>=2 in /root/miniconda3/lib/python3.10/site-packages (from requests->openmim) (2.0.4)\n",
      "Requirement already satisfied: idna<4,>=2.5 in /root/miniconda3/lib/python3.10/site-packages (from requests->openmim) (3.7)\n",
      "Requirement already satisfied: urllib3<1.27,>=1.21.1 in /root/miniconda3/lib/python3.10/site-packages (from requests->openmim) (1.26.19)\n",
      "Requirement already satisfied: certifi>=2017.4.17 in /root/miniconda3/lib/python3.10/site-packages (from requests->openmim) (2024.2.2)\n",
      "Requirement already satisfied: numpy>=1.22.4 in /root/miniconda3/lib/python3.10/site-packages (from pandas->openmim) (1.26.4)\n",
      "Requirement already satisfied: python-dateutil>=2.8.2 in /root/miniconda3/lib/python3.10/site-packages (from pandas->openmim) (2.9.0.post0)\n",
      "Requirement already satisfied: pytz>=2020.1 in /root/miniconda3/lib/python3.10/site-packages (from pandas->openmim) (2023.4)\n",
      "Requirement already satisfied: tzdata>=2022.7 in /root/miniconda3/lib/python3.10/site-packages (from pandas->openmim) (2024.1)\n",
      "Requirement already satisfied: markdown-it-py>=2.2.0 in /root/miniconda3/lib/python3.10/site-packages (from rich->openmim) (3.0.0)\n",
      "Requirement already satisfied: pygments<3.0.0,>=2.13.0 in /root/miniconda3/lib/python3.10/site-packages (from rich->openmim) (2.18.0)\n",
      "Requirement already satisfied: mdurl~=0.1 in /root/miniconda3/lib/python3.10/site-packages (from markdown-it-py>=2.2.0->rich->openmim) (0.1.2)\n",
      "Requirement already satisfied: six>=1.5 in /root/miniconda3/lib/python3.10/site-packages (from python-dateutil>=2.8.2->pandas->openmim) (1.16.0)\n",
      "Requirement already satisfied: filelock~=3.14.0 in /root/miniconda3/lib/python3.10/site-packages (from openxlab->opendatalab->openmim) (3.14.0)\n",
      "Requirement already satisfied: oss2~=2.17.0 in /root/miniconda3/lib/python3.10/site-packages (from openxlab->opendatalab->openmim) (2.17.0)\n",
      "Requirement already satisfied: packaging~=24.0 in /root/miniconda3/lib/python3.10/site-packages (from openxlab->opendatalab->openmim) (24.1)\n",
      "Requirement already satisfied: setuptools~=60.2.0 in /root/miniconda3/lib/python3.10/site-packages (from openxlab->opendatalab->openmim) (60.2.0)\n",
      "Requirement already satisfied: crcmod>=1.7 in /root/miniconda3/lib/python3.10/site-packages (from oss2~=2.17.0->openxlab->opendatalab->openmim) (1.7)\n",
      "Requirement already satisfied: aliyun-python-sdk-kms>=2.4.1 in /root/miniconda3/lib/python3.10/site-packages (from oss2~=2.17.0->openxlab->opendatalab->openmim) (2.16.3)\n",
      "Requirement already satisfied: aliyun-python-sdk-core>=2.13.12 in /root/miniconda3/lib/python3.10/site-packages (from oss2~=2.17.0->openxlab->opendatalab->openmim) (2.15.1)\n",
      "Requirement already satisfied: jmespath<1.0.0,>=0.9.3 in /root/miniconda3/lib/python3.10/site-packages (from aliyun-python-sdk-core>=2.13.12->oss2~=2.17.0->openxlab->opendatalab->openmim) (0.10.0)\n",
      "Requirement already satisfied: cryptography>=2.6.0 in /root/miniconda3/lib/python3.10/site-packages (from aliyun-python-sdk-core>=2.13.12->oss2~=2.17.0->openxlab->opendatalab->openmim) (42.0.5)\n",
      "Requirement already satisfied: cffi>=1.12 in /root/miniconda3/lib/python3.10/site-packages (from cryptography>=2.6.0->aliyun-python-sdk-core>=2.13.12->oss2~=2.17.0->openxlab->opendatalab->openmim) (1.16.0)\n",
      "Requirement already satisfied: pycparser in /root/miniconda3/lib/python3.10/site-packages (from cffi>=1.12->cryptography>=2.6.0->aliyun-python-sdk-core>=2.13.12->oss2~=2.17.0->openxlab->opendatalab->openmim) (2.21)\n",
      "Looking in indexes: https://pypi.virtaicloud.com/repository/pypi/simple\n",
      "Looking in links: https://download.openmmlab.com/mmcv/dist/cu118/torch2.0.0/index.html\n",
      "Requirement already satisfied: mmcv in /root/miniconda3/lib/python3.10/site-packages (2.2.0)\n",
      "Requirement already satisfied: addict in /root/miniconda3/lib/python3.10/site-packages (from mmcv) (2.4.0)\n",
      "Requirement already satisfied: mmengine>=0.3.0 in /root/miniconda3/lib/python3.10/site-packages (from mmcv) (0.10.4)\n",
      "Requirement already satisfied: numpy in /root/miniconda3/lib/python3.10/site-packages (from mmcv) (1.26.4)\n",
      "Requirement already satisfied: packaging in /root/miniconda3/lib/python3.10/site-packages (from mmcv) (24.1)\n",
      "Requirement already satisfied: Pillow in /root/miniconda3/lib/python3.10/site-packages (from mmcv) (10.3.0)\n",
      "Requirement already satisfied: pyyaml in /root/miniconda3/lib/python3.10/site-packages (from mmcv) (6.0.1)\n",
      "Requirement already satisfied: yapf in /root/miniconda3/lib/python3.10/site-packages (from mmcv) (0.40.2)\n",
      "Requirement already satisfied: opencv-python>=3 in /root/miniconda3/lib/python3.10/site-packages (from mmcv) (4.10.0.84)\n",
      "Requirement already satisfied: matplotlib in /root/miniconda3/lib/python3.10/site-packages (from mmengine>=0.3.0->mmcv) (3.9.0)\n",
      "Requirement already satisfied: rich in /root/miniconda3/lib/python3.10/site-packages (from mmengine>=0.3.0->mmcv) (13.4.2)\n",
      "Requirement already satisfied: termcolor in /root/miniconda3/lib/python3.10/site-packages (from mmengine>=0.3.0->mmcv) (2.4.0)\n",
      "Requirement already satisfied: importlib-metadata>=6.6.0 in /root/miniconda3/lib/python3.10/site-packages (from yapf->mmcv) (7.2.1)\n",
      "Requirement already satisfied: platformdirs>=3.5.1 in /root/miniconda3/lib/python3.10/site-packages (from yapf->mmcv) (3.10.0)\n",
      "Requirement already satisfied: tomli>=2.0.1 in /root/miniconda3/lib/python3.10/site-packages (from yapf->mmcv) (2.0.1)\n",
      "Requirement already satisfied: zipp>=0.5 in /root/miniconda3/lib/python3.10/site-packages (from importlib-metadata>=6.6.0->yapf->mmcv) (3.19.2)\n",
      "Requirement already satisfied: contourpy>=1.0.1 in /root/miniconda3/lib/python3.10/site-packages (from matplotlib->mmengine>=0.3.0->mmcv) (1.2.1)\n",
      "Requirement already satisfied: cycler>=0.10 in /root/miniconda3/lib/python3.10/site-packages (from matplotlib->mmengine>=0.3.0->mmcv) (0.12.1)\n",
      "Requirement already satisfied: fonttools>=4.22.0 in /root/miniconda3/lib/python3.10/site-packages (from matplotlib->mmengine>=0.3.0->mmcv) (4.53.0)\n",
      "Requirement already satisfied: kiwisolver>=1.3.1 in /root/miniconda3/lib/python3.10/site-packages (from matplotlib->mmengine>=0.3.0->mmcv) (1.4.5)\n",
      "Requirement already satisfied: pyparsing>=2.3.1 in /root/miniconda3/lib/python3.10/site-packages (from matplotlib->mmengine>=0.3.0->mmcv) (3.1.2)\n",
      "Requirement already satisfied: python-dateutil>=2.7 in /root/miniconda3/lib/python3.10/site-packages (from matplotlib->mmengine>=0.3.0->mmcv) (2.9.0.post0)\n",
      "Requirement already satisfied: markdown-it-py>=2.2.0 in /root/miniconda3/lib/python3.10/site-packages (from rich->mmengine>=0.3.0->mmcv) (3.0.0)\n",
      "Requirement already satisfied: pygments<3.0.0,>=2.13.0 in /root/miniconda3/lib/python3.10/site-packages (from rich->mmengine>=0.3.0->mmcv) (2.18.0)\n",
      "Requirement already satisfied: mdurl~=0.1 in /root/miniconda3/lib/python3.10/site-packages (from markdown-it-py>=2.2.0->rich->mmengine>=0.3.0->mmcv) (0.1.2)\n",
      "Requirement already satisfied: six>=1.5 in /root/miniconda3/lib/python3.10/site-packages (from python-dateutil>=2.7->matplotlib->mmengine>=0.3.0->mmcv) (1.16.0)\n"
     ]
    }
   ],
   "source": [
    "!pip install -U openmim\n",
    "!mim install mmcv"
   ]
  },
  {
   "cell_type": "code",
   "execution_count": 2,
   "id": "48765c30-92ab-47ca-81db-c4c430e9e751",
   "metadata": {},
   "outputs": [
    {
     "name": "stdout",
     "output_type": "stream",
     "text": [
      "Looking in indexes: https://pypi.virtaicloud.com/repository/pypi/simple\n",
      "Requirement already satisfied: facenet_pytorch==2.5.2 in /root/miniconda3/lib/python3.10/site-packages (2.5.2)\n",
      "Requirement already satisfied: numpy in /root/miniconda3/lib/python3.10/site-packages (from facenet_pytorch==2.5.2) (1.26.4)\n",
      "Requirement already satisfied: requests in /root/miniconda3/lib/python3.10/site-packages (from facenet_pytorch==2.5.2) (2.28.2)\n",
      "Requirement already satisfied: torchvision in /root/miniconda3/lib/python3.10/site-packages (from facenet_pytorch==2.5.2) (0.15.2+cu118)\n",
      "Requirement already satisfied: pillow in /root/miniconda3/lib/python3.10/site-packages (from facenet_pytorch==2.5.2) (10.3.0)\n",
      "Requirement already satisfied: charset-normalizer<4,>=2 in /root/miniconda3/lib/python3.10/site-packages (from requests->facenet_pytorch==2.5.2) (2.0.4)\n",
      "Requirement already satisfied: idna<4,>=2.5 in /root/miniconda3/lib/python3.10/site-packages (from requests->facenet_pytorch==2.5.2) (3.7)\n",
      "Requirement already satisfied: urllib3<1.27,>=1.21.1 in /root/miniconda3/lib/python3.10/site-packages (from requests->facenet_pytorch==2.5.2) (1.26.19)\n",
      "Requirement already satisfied: certifi>=2017.4.17 in /root/miniconda3/lib/python3.10/site-packages (from requests->facenet_pytorch==2.5.2) (2024.2.2)\n",
      "Requirement already satisfied: torch==2.0.1 in /root/miniconda3/lib/python3.10/site-packages (from torchvision->facenet_pytorch==2.5.2) (2.0.1+cu118)\n",
      "Requirement already satisfied: filelock in /root/miniconda3/lib/python3.10/site-packages (from torch==2.0.1->torchvision->facenet_pytorch==2.5.2) (3.14.0)\n",
      "Requirement already satisfied: typing-extensions in /root/miniconda3/lib/python3.10/site-packages (from torch==2.0.1->torchvision->facenet_pytorch==2.5.2) (4.12.2)\n",
      "Requirement already satisfied: sympy in /root/miniconda3/lib/python3.10/site-packages (from torch==2.0.1->torchvision->facenet_pytorch==2.5.2) (1.12.1)\n",
      "Requirement already satisfied: networkx in /root/miniconda3/lib/python3.10/site-packages (from torch==2.0.1->torchvision->facenet_pytorch==2.5.2) (3.3)\n",
      "Requirement already satisfied: jinja2 in /root/miniconda3/lib/python3.10/site-packages (from torch==2.0.1->torchvision->facenet_pytorch==2.5.2) (3.1.4)\n",
      "Requirement already satisfied: triton==2.0.0 in /root/miniconda3/lib/python3.10/site-packages (from torch==2.0.1->torchvision->facenet_pytorch==2.5.2) (2.0.0)\n",
      "Requirement already satisfied: cmake in /root/miniconda3/lib/python3.10/site-packages (from triton==2.0.0->torch==2.0.1->torchvision->facenet_pytorch==2.5.2) (3.29.6)\n",
      "Requirement already satisfied: lit in /root/miniconda3/lib/python3.10/site-packages (from triton==2.0.0->torch==2.0.1->torchvision->facenet_pytorch==2.5.2) (18.1.7)\n",
      "Requirement already satisfied: MarkupSafe>=2.0 in /root/miniconda3/lib/python3.10/site-packages (from jinja2->torch==2.0.1->torchvision->facenet_pytorch==2.5.2) (2.1.5)\n",
      "Requirement already satisfied: mpmath<1.4.0,>=1.1.0 in /root/miniconda3/lib/python3.10/site-packages (from sympy->torch==2.0.1->torchvision->facenet_pytorch==2.5.2) (1.3.0)\n"
     ]
    }
   ],
   "source": [
    "!pip install facenet_pytorch==2.5.2"
   ]
  },
  {
   "cell_type": "markdown",
   "id": "1217716a-0b29-4c74-8c34-4ebabd144ac9",
   "metadata": {},
   "source": [
    "导入依赖包"
   ]
  },
  {
   "cell_type": "code",
   "execution_count": 3,
   "id": "00eee0a3-123a-4854-8fe4-1eaa0579dd79",
   "metadata": {},
   "outputs": [
    {
     "name": "stderr",
     "output_type": "stream",
     "text": [
      "/root/miniconda3/lib/python3.10/site-packages/tqdm/auto.py:21: TqdmWarning: IProgress not found. Please update jupyter and ipywidgets. See https://ipywidgets.readthedocs.io/en/stable/user_install.html\n",
      "  from .autonotebook import tqdm as notebook_tqdm\n"
     ]
    }
   ],
   "source": [
    "from facenet_pytorch import MTCNN\n",
    "import torch\n",
    "import numpy as np\n",
    "import mmcv, cv2\n",
    "from PIL import Image, ImageDraw\n",
    "from IPython import display"
   ]
  },
  {
   "cell_type": "markdown",
   "id": "629ddcf3-d4c5-4bea-acbf-b80017fe7bec",
   "metadata": {},
   "source": [
    "根据当前运行环境是否有GPU可用，设置device的值"
   ]
  },
  {
   "cell_type": "code",
   "execution_count": 4,
   "id": "a53465be-0b06-4350-9f16-a7253505eb73",
   "metadata": {},
   "outputs": [
    {
     "name": "stdout",
     "output_type": "stream",
     "text": [
      "在该设备上运行: cuda:0\n"
     ]
    }
   ],
   "source": [
    "device = torch.device('cuda:0' if torch.cuda.is_available() else 'cpu')\n",
    "print('在该设备上运行: {}'.format(device))"
   ]
  },
  {
   "cell_type": "markdown",
   "id": "19efef7e-881f-4acf-8554-9b7122efcb38",
   "metadata": {},
   "source": [
    "#### 1. 定义MTCNN模块\n",
    "\n",
    "\n",
    "<font color=red size=3>动手练习1</font> <br>\n",
    "\n",
    "在`<1>`处，创建MTCNN的一个实例，这里需要设置保留所有检测到的人脸，设置运行设备为上一步中检测出的设备，其它参数可保持默认值；\n",
    "\n",
    "具体设置的参数可以通过`help(MTCNN)`查看文档。"
   ]
  },
  {
   "cell_type": "code",
   "execution_count": 5,
   "id": "ee1ab71c-5634-4e74-8f6a-a958d3058bb1",
   "metadata": {},
   "outputs": [],
   "source": [
    "mtcnn = MTCNN(keep_all=True, device=device)"
   ]
  },
  {
   "cell_type": "code",
   "execution_count": 6,
   "id": "6d9225fe-f082-41b2-85e9-1db5f4601e6c",
   "metadata": {},
   "outputs": [],
   "source": [
    "!cp $GEMINI_DATA_IN1/video.mp4 $GEMINI_CODE"
   ]
  },
  {
   "cell_type": "markdown",
   "id": "d04d5b7d-5893-434d-b9a9-fcb3bc5ea2c9",
   "metadata": {},
   "source": [
    "#### 2. 读取视频帧\n",
    "\n",
    "此步需要读取视频中的每一帧，并将帧转换为PIL图像。\n",
    "\n",
    "<font color=red size=3>动手练习2</font> <br>\n",
    "\n",
    "在`<1>`处，写一个表达式，将每一帧`frame`，使用cv2.cvtColor函数将其从OpenCV使用的BGR颜色空间转换为RGB颜色空间，然后使用Image.fromarray将转换后的帧转换为PIL图像。\n",
    "\n",
    "执行以下代码，可以播放视频。"
   ]
  },
  {
   "cell_type": "code",
   "execution_count": 7,
   "id": "50b59179-cc48-45fb-8f17-d1caea7ec3ca",
   "metadata": {},
   "outputs": [
    {
     "data": {
      "text/html": [
       "<video src=\"video.mp4\" controls  width=\"640\" >\n",
       "      Your browser does not support the <code>video</code> element.\n",
       "    </video>"
      ],
      "text/plain": [
       "<IPython.core.display.Video object>"
      ]
     },
     "execution_count": 7,
     "metadata": {},
     "output_type": "execute_result"
    }
   ],
   "source": [
    "video = mmcv.VideoReader('video.mp4')\n",
    "frames = [Image.fromarray(cv2.cvtColor(frame, cv2.COLOR_BGR2RGB)) for frame in video]\n",
    "\n",
    "display.Video('video.mp4', width=640)"
   ]
  },
  {
   "cell_type": "markdown",
   "id": "6b57f9b5-1470-4fdd-ac65-f2d33becdbef",
   "metadata": {},
   "source": [
    "#### 3. 迭代视频帧，并绘制人脸框\n",
    "\n",
    "<font color=red size=3>动手练习3</font> <br>\n",
    "\n",
    "在`<1>`处，使用 mtcnn 对当前帧 frame 进行人脸检测，返回检测到的所有人脸的边界框坐标 boxes。\n",
    "\n",
    "在`<2>`处，使用`draw.rectangle()`方法绘制box矩形框，框的颜色为红色 (255, 0, 0)，宽度为6。"
   ]
  },
  {
   "cell_type": "code",
   "execution_count": 8,
   "id": "db273eac-5338-43b5-a1db-4353b9c02495",
   "metadata": {},
   "outputs": [
    {
     "name": "stdout",
     "output_type": "stream",
     "text": [
      "当前正在处理帧: 105\n",
      "结束\n"
     ]
    }
   ],
   "source": [
    "frames_tracked = []\n",
    "for i, frame in enumerate(frames):\n",
    "    print('\\r当前正在处理帧: {}'.format(i + 1), end='')\n",
    "    \n",
    "    # 检测人脸\n",
    "    boxes, _ = mtcnn.detect(frame)\n",
    "    \n",
    "    # 绘制人脸框\n",
    "    frame_draw = frame.copy()\n",
    "    draw = ImageDraw.Draw(frame_draw)\n",
    "    for box in boxes:\n",
    "        draw.rectangle(box.tolist(), outline=(255, 0, 0), width=6)\n",
    "    \n",
    "    # 添加到图像列表\n",
    "    frames_tracked.append(frame_draw.resize((640, 360), Image.BILINEAR))\n",
    "print('\\n结束')"
   ]
  },
  {
   "cell_type": "markdown",
   "id": "cfe04832-d68c-4b57-8e99-2ecef3e466f0",
   "metadata": {},
   "source": [
    "#### 显示人脸帧\n",
    "\n",
    "<font color=red size=3>动手练习4</font> <br>\n",
    "\n",
    "<1>处补充代码，写一个循环展示上一步获取的`frames_tracked`中保存的人脸帧。"
   ]
  },
  {
   "cell_type": "code",
   "execution_count": null,
   "id": "b10a34ab-5834-4daa-bf1f-ea1ce3fe5b61",
   "metadata": {},
   "outputs": [],
   "source": [
    "d = display.display(frames_tracked[0], display_id=True)\n",
    "i = 1\n",
    "try:\n",
    "    while i < 106:\n",
    "        d.update(frames_tracked[i % len(frames_tracked)])\n",
    "        i += 1\n",
    "except KeyboardInterrupt:\n",
    "    pass"
   ]
  },
  {
   "cell_type": "markdown",
   "id": "bafd8afd-cf48-4aba-9698-9c3fc5aeff35",
   "metadata": {},
   "source": [
    "##### 保存为视频\n",
    "\n",
    "执行以下代码，可人脸帧保存为视频。"
   ]
  },
  {
   "cell_type": "code",
   "execution_count": null,
   "id": "73b8796a-001f-461c-91b7-85b6a8b73450",
   "metadata": {},
   "outputs": [],
   "source": [
    "dim = frames_tracked[0].size\n",
    "fourcc = cv2.VideoWriter_fourcc(*'FMP4')    \n",
    "video_tracked = cv2.VideoWriter('video_tracked.mp4', fourcc, 25.0, dim)\n",
    "for frame in frames_tracked:\n",
    "    video_tracked.write(cv2.cvtColor(np.array(frame), cv2.COLOR_RGB2BGR))\n",
    "video_tracked.release()"
   ]
  },
  {
   "cell_type": "code",
   "execution_count": null,
   "id": "be119f17-1f4b-4f1e-9ad4-2081e1f79d49",
   "metadata": {},
   "outputs": [],
   "source": []
  },
  {
   "cell_type": "code",
   "execution_count": null,
   "id": "8f6b45ae-cd8e-4483-b49b-ca1e25b5b7fc",
   "metadata": {},
   "outputs": [],
   "source": []
  },
  {
   "cell_type": "code",
   "execution_count": null,
   "id": "1e6b3cda-b7c2-4613-bf28-b19fb2c01fd4",
   "metadata": {},
   "outputs": [],
   "source": []
  },
  {
   "cell_type": "code",
   "execution_count": null,
   "id": "eab432c1-6d07-4062-9080-14a5a9dea94c",
   "metadata": {},
   "outputs": [],
   "source": []
  }
 ],
 "metadata": {
  "kernelspec": {
   "display_name": "Python 3 (ipykernel)",
   "language": "python",
   "name": "python3"
  },
  "language_info": {
   "codemirror_mode": {
    "name": "ipython",
    "version": 3
   },
   "file_extension": ".py",
   "mimetype": "text/x-python",
   "name": "python",
   "nbconvert_exporter": "python",
   "pygments_lexer": "ipython3",
   "version": "3.10.14"
  }
 },
 "nbformat": 4,
 "nbformat_minor": 5
}
