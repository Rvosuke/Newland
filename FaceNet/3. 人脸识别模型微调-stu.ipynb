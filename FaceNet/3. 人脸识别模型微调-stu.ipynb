{
 "cells": [
  {
   "cell_type": "markdown",
   "id": "09199f05-4a8c-4497-b273-e5316b242f62",
   "metadata": {},
   "source": [
    "### 任务三、 人脸识别模型微调\n",
    "\n",
    "本案例在小样本数据集上微调InceptionResnetV1模型。"
   ]
  },
  {
   "cell_type": "markdown",
   "id": "9067e4e2-dbeb-4b3e-b981-4b11eae4ad00",
   "metadata": {},
   "source": [
    "#### 0. 环境准备"
   ]
  },
  {
   "cell_type": "code",
   "execution_count": 2,
   "id": "7d0fcb03-62ce-424b-a829-fba04e98eeac",
   "metadata": {},
   "outputs": [
    {
     "name": "stdout",
     "output_type": "stream",
     "text": [
      "Looking in indexes: https://pypi.virtaicloud.com/repository/pypi/simple\n",
      "Collecting openmim\n",
      "  Downloading https://pypi.virtaicloud.com/repository/pypi/packages/openmim/0.3.9/openmim-0.3.9-py2.py3-none-any.whl (52 kB)\n",
      "\u001b[2K     \u001b[90m━━━━━━━━━━━━━━━━━━━━━━━━━━━━━━━━━━━━━━━\u001b[0m \u001b[32m52.7/52.7 kB\u001b[0m \u001b[31m112.0 MB/s\u001b[0m eta \u001b[36m0:00:00\u001b[0m\n",
      "\u001b[?25hRequirement already satisfied: Click in /root/miniconda3/lib/python3.10/site-packages (from openmim) (8.1.7)\n",
      "Requirement already satisfied: colorama in /root/miniconda3/lib/python3.10/site-packages (from openmim) (0.4.6)\n",
      "Collecting model-index (from openmim)\n",
      "  Downloading https://pypi.virtaicloud.com/repository/pypi/packages/model-index/0.1.11/model_index-0.1.11-py3-none-any.whl (34 kB)\n",
      "Collecting opendatalab (from openmim)\n",
      "  Downloading https://pypi.virtaicloud.com/repository/pypi/packages/opendatalab/0.0.10/opendatalab-0.0.10-py3-none-any.whl (29 kB)\n",
      "Requirement already satisfied: pandas in /root/miniconda3/lib/python3.10/site-packages (from openmim) (2.2.2)\n",
      "Requirement already satisfied: pip>=19.3 in /root/miniconda3/lib/python3.10/site-packages (from openmim) (24.0)\n",
      "Requirement already satisfied: requests in /root/miniconda3/lib/python3.10/site-packages (from openmim) (2.32.3)\n",
      "Requirement already satisfied: rich in /root/miniconda3/lib/python3.10/site-packages (from openmim) (13.7.1)\n",
      "Collecting tabulate (from openmim)\n",
      "  Downloading https://pypi.virtaicloud.com/repository/pypi/packages/tabulate/0.9.0/tabulate-0.9.0-py3-none-any.whl (35 kB)\n",
      "Requirement already satisfied: pyyaml in /root/miniconda3/lib/python3.10/site-packages (from model-index->openmim) (6.0.1)\n",
      "Requirement already satisfied: markdown in /root/miniconda3/lib/python3.10/site-packages (from model-index->openmim) (3.6)\n",
      "Collecting ordered-set (from model-index->openmim)\n",
      "  Downloading https://pypi.virtaicloud.com/repository/pypi/packages/ordered-set/4.1.0/ordered_set-4.1.0-py3-none-any.whl (7.6 kB)\n",
      "Requirement already satisfied: pycryptodome in /root/miniconda3/lib/python3.10/site-packages (from opendatalab->openmim) (3.20.0)\n",
      "Requirement already satisfied: tqdm in /root/miniconda3/lib/python3.10/site-packages (from opendatalab->openmim) (4.66.2)\n",
      "Collecting openxlab (from opendatalab->openmim)\n",
      "  Downloading https://pypi.virtaicloud.com/repository/pypi/packages/openxlab/0.1.1/openxlab-0.1.1-py3-none-any.whl (308 kB)\n",
      "\u001b[2K     \u001b[90m━━━━━━━━━━━━━━━━━━━━━━━━━━━━━━━━━━━━━\u001b[0m \u001b[32m308.6/308.6 kB\u001b[0m \u001b[31m217.0 MB/s\u001b[0m eta \u001b[36m0:00:00\u001b[0m\n",
      "\u001b[?25hRequirement already satisfied: charset-normalizer<4,>=2 in /root/miniconda3/lib/python3.10/site-packages (from requests->openmim) (2.0.4)\n",
      "Requirement already satisfied: idna<4,>=2.5 in /root/miniconda3/lib/python3.10/site-packages (from requests->openmim) (3.7)\n",
      "Requirement already satisfied: urllib3<3,>=1.21.1 in /root/miniconda3/lib/python3.10/site-packages (from requests->openmim) (2.1.0)\n",
      "Requirement already satisfied: certifi>=2017.4.17 in /root/miniconda3/lib/python3.10/site-packages (from requests->openmim) (2024.2.2)\n",
      "Requirement already satisfied: numpy>=1.22.4 in /root/miniconda3/lib/python3.10/site-packages (from pandas->openmim) (1.26.4)\n",
      "Requirement already satisfied: python-dateutil>=2.8.2 in /root/miniconda3/lib/python3.10/site-packages (from pandas->openmim) (2.9.0.post0)\n",
      "Requirement already satisfied: pytz>=2020.1 in /root/miniconda3/lib/python3.10/site-packages (from pandas->openmim) (2024.1)\n",
      "Requirement already satisfied: tzdata>=2022.7 in /root/miniconda3/lib/python3.10/site-packages (from pandas->openmim) (2024.1)\n",
      "Requirement already satisfied: markdown-it-py>=2.2.0 in /root/miniconda3/lib/python3.10/site-packages (from rich->openmim) (3.0.0)\n",
      "Requirement already satisfied: pygments<3.0.0,>=2.13.0 in /root/miniconda3/lib/python3.10/site-packages (from rich->openmim) (2.18.0)\n",
      "Requirement already satisfied: mdurl~=0.1 in /root/miniconda3/lib/python3.10/site-packages (from markdown-it-py>=2.2.0->rich->openmim) (0.1.2)\n",
      "Requirement already satisfied: six>=1.5 in /root/miniconda3/lib/python3.10/site-packages (from python-dateutil>=2.8.2->pandas->openmim) (1.16.0)\n",
      "Collecting filelock~=3.14.0 (from openxlab->opendatalab->openmim)\n",
      "  Downloading https://pypi.virtaicloud.com/repository/pypi/packages/filelock/3.14.0/filelock-3.14.0-py3-none-any.whl (12 kB)\n",
      "Collecting oss2~=2.17.0 (from openxlab->opendatalab->openmim)\n",
      "  Downloading https://pypi.virtaicloud.com/repository/pypi/packages/oss2/2.17.0/oss2-2.17.0.tar.gz (259 kB)\n",
      "\u001b[2K     \u001b[90m━━━━━━━━━━━━━━━━━━━━━━━━━━━━━━━━━━━━━━\u001b[0m \u001b[32m259.5/259.5 kB\u001b[0m \u001b[31m65.6 MB/s\u001b[0m eta \u001b[36m0:00:00\u001b[0m\n",
      "\u001b[?25h  Preparing metadata (setup.py) ... \u001b[?25ldone\n",
      "\u001b[?25hCollecting packaging~=24.0 (from openxlab->opendatalab->openmim)\n",
      "  Downloading https://pypi.virtaicloud.com/repository/pypi/packages/packaging/24.1/packaging-24.1-py3-none-any.whl (53 kB)\n",
      "\u001b[2K     \u001b[90m━━━━━━━━━━━━━━━━━━━━━━━━━━━━━━━━━━━━━━━\u001b[0m \u001b[32m54.0/54.0 kB\u001b[0m \u001b[31m130.5 MB/s\u001b[0m eta \u001b[36m0:00:00\u001b[0m\n",
      "\u001b[?25hCollecting pytz>=2020.1 (from pandas->openmim)\n",
      "  Downloading https://pypi.virtaicloud.com/repository/pypi/packages/pytz/2023.4/pytz-2023.4-py2.py3-none-any.whl (506 kB)\n",
      "\u001b[2K     \u001b[90m━━━━━━━━━━━━━━━━━━━━━━━━━━━━━━━━━━━━━\u001b[0m \u001b[32m506.5/506.5 kB\u001b[0m \u001b[31m247.3 MB/s\u001b[0m eta \u001b[36m0:00:00\u001b[0m\n",
      "\u001b[?25hCollecting requests (from openmim)\n",
      "  Downloading https://pypi.virtaicloud.com/repository/pypi/packages/requests/2.28.2/requests-2.28.2-py3-none-any.whl (62 kB)\n",
      "\u001b[2K     \u001b[90m━━━━━━━━━━━━━━━━━━━━━━━━━━━━━━━━━━━━━━━\u001b[0m \u001b[32m62.8/62.8 kB\u001b[0m \u001b[31m145.8 MB/s\u001b[0m eta \u001b[36m0:00:00\u001b[0m\n",
      "\u001b[?25hCollecting rich (from openmim)\n",
      "  Downloading https://pypi.virtaicloud.com/repository/pypi/packages/rich/13.4.2/rich-13.4.2-py3-none-any.whl (239 kB)\n",
      "\u001b[2K     \u001b[90m━━━━━━━━━━━━━━━━━━━━━━━━━━━━━━━━━━━━━\u001b[0m \u001b[32m239.4/239.4 kB\u001b[0m \u001b[31m218.7 MB/s\u001b[0m eta \u001b[36m0:00:00\u001b[0m\n",
      "\u001b[?25hCollecting setuptools~=60.2.0 (from openxlab->opendatalab->openmim)\n",
      "  Downloading https://pypi.virtaicloud.com/repository/pypi/packages/setuptools/60.2.0/setuptools-60.2.0-py3-none-any.whl (953 kB)\n",
      "\u001b[2K     \u001b[90m━━━━━━━━━━━━━━━━━━━━━━━━━━━━━━━━━━━━━\u001b[0m \u001b[32m953.1/953.1 kB\u001b[0m \u001b[31m229.2 MB/s\u001b[0m eta \u001b[36m0:00:00\u001b[0m\n",
      "\u001b[?25hCollecting tqdm (from opendatalab->openmim)\n",
      "  Downloading https://pypi.virtaicloud.com/repository/pypi/packages/tqdm/4.65.2/tqdm-4.65.2-py3-none-any.whl (77 kB)\n",
      "\u001b[2K     \u001b[90m━━━━━━━━━━━━━━━━━━━━━━━━━━━━━━━━━━━━━━━\u001b[0m \u001b[32m77.1/77.1 kB\u001b[0m \u001b[31m147.7 MB/s\u001b[0m eta \u001b[36m0:00:00\u001b[0m\n",
      "\u001b[?25hCollecting urllib3<1.27,>=1.21.1 (from requests->openmim)\n",
      "  Downloading https://pypi.virtaicloud.com/repository/pypi/packages/urllib3/1.26.19/urllib3-1.26.19-py2.py3-none-any.whl (143 kB)\n",
      "\u001b[2K     \u001b[90m━━━━━━━━━━━━━━━━━━━━━━━━━━━━━━━━━━━━━\u001b[0m \u001b[32m143.9/143.9 kB\u001b[0m \u001b[31m204.5 MB/s\u001b[0m eta \u001b[36m0:00:00\u001b[0m\n",
      "\u001b[?25hRequirement already satisfied: crcmod>=1.7 in /root/miniconda3/lib/python3.10/site-packages (from oss2~=2.17.0->openxlab->opendatalab->openmim) (1.7)\n",
      "Requirement already satisfied: aliyun-python-sdk-kms>=2.4.1 in /root/miniconda3/lib/python3.10/site-packages (from oss2~=2.17.0->openxlab->opendatalab->openmim) (2.16.3)\n",
      "Requirement already satisfied: aliyun-python-sdk-core>=2.13.12 in /root/miniconda3/lib/python3.10/site-packages (from oss2~=2.17.0->openxlab->opendatalab->openmim) (2.15.1)\n",
      "Requirement already satisfied: jmespath<1.0.0,>=0.9.3 in /root/miniconda3/lib/python3.10/site-packages (from aliyun-python-sdk-core>=2.13.12->oss2~=2.17.0->openxlab->opendatalab->openmim) (0.10.0)\n",
      "Requirement already satisfied: cryptography>=2.6.0 in /root/miniconda3/lib/python3.10/site-packages (from aliyun-python-sdk-core>=2.13.12->oss2~=2.17.0->openxlab->opendatalab->openmim) (42.0.5)\n",
      "Requirement already satisfied: cffi>=1.12 in /root/miniconda3/lib/python3.10/site-packages (from cryptography>=2.6.0->aliyun-python-sdk-core>=2.13.12->oss2~=2.17.0->openxlab->opendatalab->openmim) (1.16.0)\n",
      "Requirement already satisfied: pycparser in /root/miniconda3/lib/python3.10/site-packages (from cffi>=1.12->cryptography>=2.6.0->aliyun-python-sdk-core>=2.13.12->oss2~=2.17.0->openxlab->opendatalab->openmim) (2.21)\n",
      "Building wheels for collected packages: oss2\n",
      "  Building wheel for oss2 (setup.py) ... \u001b[?25ldone\n",
      "\u001b[?25h  Created wheel for oss2: filename=oss2-2.17.0-py3-none-any.whl size=112372 sha256=83fcffc7ba9b7af89f868b949996f3ea363b43af39eee9feec94b9ec096aa205\n",
      "  Stored in directory: /root/.cache/pip/wheels/d6/27/5b/5687b351ba8f9195c021af30520c9bf0682aaa8ca16068c0a8\n",
      "Successfully built oss2\n",
      "Installing collected packages: pytz, urllib3, tqdm, tabulate, setuptools, packaging, ordered-set, filelock, rich, requests, model-index, oss2, openxlab, opendatalab, openmim\n",
      "  Attempting uninstall: pytz\n",
      "    Found existing installation: pytz 2024.1\n",
      "    Uninstalling pytz-2024.1:\n",
      "      Successfully uninstalled pytz-2024.1\n",
      "  Attempting uninstall: urllib3\n",
      "    Found existing installation: urllib3 2.1.0\n",
      "    Uninstalling urllib3-2.1.0:\n",
      "      Successfully uninstalled urllib3-2.1.0\n",
      "  Attempting uninstall: tqdm\n",
      "    Found existing installation: tqdm 4.66.2\n",
      "    Uninstalling tqdm-4.66.2:\n",
      "      Successfully uninstalled tqdm-4.66.2\n",
      "  Attempting uninstall: setuptools\n",
      "    Found existing installation: setuptools 69.5.1\n",
      "    Uninstalling setuptools-69.5.1:\n",
      "      Successfully uninstalled setuptools-69.5.1\n",
      "  Attempting uninstall: packaging\n",
      "    Found existing installation: packaging 23.2\n",
      "    Uninstalling packaging-23.2:\n",
      "      Successfully uninstalled packaging-23.2\n",
      "  Attempting uninstall: filelock\n",
      "    Found existing installation: filelock 3.15.4\n",
      "    Uninstalling filelock-3.15.4:\n",
      "      Successfully uninstalled filelock-3.15.4\n",
      "  Attempting uninstall: rich\n",
      "    Found existing installation: rich 13.7.1\n",
      "    Uninstalling rich-13.7.1:\n",
      "      Successfully uninstalled rich-13.7.1\n",
      "  Attempting uninstall: requests\n",
      "    Found existing installation: requests 2.32.3\n",
      "    Uninstalling requests-2.32.3:\n",
      "      Successfully uninstalled requests-2.32.3\n",
      "  Attempting uninstall: oss2\n",
      "    Found existing installation: oss2 2.18.6\n",
      "    Uninstalling oss2-2.18.6:\n",
      "      Successfully uninstalled oss2-2.18.6\n",
      "\u001b[31mERROR: pip's dependency resolver does not currently take into account all the packages that are installed. This behaviour is the source of the following dependency conflicts.\n",
      "arxiv 2.1.3 requires requests~=2.32.0, but you have requests 2.28.2 which is incompatible.\n",
      "gradio 4.36.1 requires urllib3~=2.0, but you have urllib3 1.26.19 which is incompatible.\n",
      "jupyterlab-server 2.27.2 requires requests>=2.31, but you have requests 2.28.2 which is incompatible.\n",
      "types-requests 2.32.0.20240622 requires urllib3>=2, but you have urllib3 1.26.19 which is incompatible.\u001b[0m\u001b[31m\n",
      "\u001b[0mSuccessfully installed filelock-3.14.0 model-index-0.1.11 opendatalab-0.0.10 openmim-0.3.9 openxlab-0.1.1 ordered-set-4.1.0 oss2-2.17.0 packaging-24.1 pytz-2023.4 requests-2.28.2 rich-13.4.2 setuptools-60.2.0 tabulate-0.9.0 tqdm-4.65.2 urllib3-1.26.19\n",
      "Looking in indexes: https://pypi.virtaicloud.com/repository/pypi/simple\n",
      "Collecting facenet_pytorch==2.5.2\n",
      "  Downloading https://pypi.virtaicloud.com/repository/pypi/packages/facenet-pytorch/2.5.2/facenet_pytorch-2.5.2-py3-none-any.whl (1.9 MB)\n",
      "\u001b[2K     \u001b[90m━━━━━━━━━━━━━━━━━━━━━━━━━━━━━━━━━━━━━━━━\u001b[0m \u001b[32m1.9/1.9 MB\u001b[0m \u001b[31m255.6 MB/s\u001b[0m eta \u001b[36m0:00:00\u001b[0m\n",
      "\u001b[?25hRequirement already satisfied: numpy in /root/miniconda3/lib/python3.10/site-packages (from facenet_pytorch==2.5.2) (1.26.4)\n",
      "Requirement already satisfied: requests in /root/miniconda3/lib/python3.10/site-packages (from facenet_pytorch==2.5.2) (2.28.2)\n",
      "Requirement already satisfied: torchvision in /root/miniconda3/lib/python3.10/site-packages (from facenet_pytorch==2.5.2) (0.15.2+cu118)\n",
      "Requirement already satisfied: pillow in /root/miniconda3/lib/python3.10/site-packages (from facenet_pytorch==2.5.2) (10.3.0)\n",
      "Requirement already satisfied: charset-normalizer<4,>=2 in /root/miniconda3/lib/python3.10/site-packages (from requests->facenet_pytorch==2.5.2) (2.0.4)\n",
      "Requirement already satisfied: idna<4,>=2.5 in /root/miniconda3/lib/python3.10/site-packages (from requests->facenet_pytorch==2.5.2) (3.7)\n",
      "Requirement already satisfied: urllib3<1.27,>=1.21.1 in /root/miniconda3/lib/python3.10/site-packages (from requests->facenet_pytorch==2.5.2) (1.26.19)\n",
      "Requirement already satisfied: certifi>=2017.4.17 in /root/miniconda3/lib/python3.10/site-packages (from requests->facenet_pytorch==2.5.2) (2024.2.2)\n",
      "Requirement already satisfied: torch==2.0.1 in /root/miniconda3/lib/python3.10/site-packages (from torchvision->facenet_pytorch==2.5.2) (2.0.1+cu118)\n",
      "Requirement already satisfied: filelock in /root/miniconda3/lib/python3.10/site-packages (from torch==2.0.1->torchvision->facenet_pytorch==2.5.2) (3.14.0)\n",
      "Requirement already satisfied: typing-extensions in /root/miniconda3/lib/python3.10/site-packages (from torch==2.0.1->torchvision->facenet_pytorch==2.5.2) (4.12.2)\n",
      "Requirement already satisfied: sympy in /root/miniconda3/lib/python3.10/site-packages (from torch==2.0.1->torchvision->facenet_pytorch==2.5.2) (1.12.1)\n",
      "Requirement already satisfied: networkx in /root/miniconda3/lib/python3.10/site-packages (from torch==2.0.1->torchvision->facenet_pytorch==2.5.2) (3.3)\n",
      "Requirement already satisfied: jinja2 in /root/miniconda3/lib/python3.10/site-packages (from torch==2.0.1->torchvision->facenet_pytorch==2.5.2) (3.1.4)\n",
      "Requirement already satisfied: triton==2.0.0 in /root/miniconda3/lib/python3.10/site-packages (from torch==2.0.1->torchvision->facenet_pytorch==2.5.2) (2.0.0)\n",
      "Requirement already satisfied: cmake in /root/miniconda3/lib/python3.10/site-packages (from triton==2.0.0->torch==2.0.1->torchvision->facenet_pytorch==2.5.2) (3.29.6)\n",
      "Requirement already satisfied: lit in /root/miniconda3/lib/python3.10/site-packages (from triton==2.0.0->torch==2.0.1->torchvision->facenet_pytorch==2.5.2) (18.1.7)\n",
      "Requirement already satisfied: MarkupSafe>=2.0 in /root/miniconda3/lib/python3.10/site-packages (from jinja2->torch==2.0.1->torchvision->facenet_pytorch==2.5.2) (2.1.5)\n",
      "Requirement already satisfied: mpmath<1.4.0,>=1.1.0 in /root/miniconda3/lib/python3.10/site-packages (from sympy->torch==2.0.1->torchvision->facenet_pytorch==2.5.2) (1.3.0)\n",
      "Installing collected packages: facenet_pytorch\n",
      "Successfully installed facenet_pytorch-2.5.2\n",
      "Looking in indexes: https://pypi.virtaicloud.com/repository/pypi/simple\n",
      "Looking in links: https://download.openmmlab.com/mmcv/dist/cu118/torch2.0.0/index.html\n",
      "Collecting mmcv\n",
      "  Downloading https://download.openmmlab.com/mmcv/dist/cu118/torch2.0.0/mmcv-2.2.0-cp310-cp310-manylinux1_x86_64.whl (98.6 MB)\n",
      "\u001b[2K     \u001b[90m━━━━━━━━━━━━━━━━━━━━━━━━━━━━━━━━━━━━━━━━\u001b[0m \u001b[32m98.6/98.6 MB\u001b[0m \u001b[31m1.4 MB/s\u001b[0m eta \u001b[36m0:00:00\u001b[0m00:01\u001b[0m00:02\u001b[0mm\n",
      "\u001b[?25hRequirement already satisfied: addict in /root/miniconda3/lib/python3.10/site-packages (from mmcv) (2.4.0)\n",
      "Collecting mmengine>=0.3.0 (from mmcv)\n",
      "  Downloading https://pypi.virtaicloud.com/repository/pypi/packages/mmengine/0.10.4/mmengine-0.10.4-py3-none-any.whl (451 kB)\n",
      "\u001b[2K     \u001b[90m━━━━━━━━━━━━━━━━━━━━━━━━━━━━━━━━━━━━━━\u001b[0m \u001b[32m451.7/451.7 kB\u001b[0m \u001b[31m21.0 MB/s\u001b[0m eta \u001b[36m0:00:00\u001b[0m\n",
      "\u001b[?25hRequirement already satisfied: numpy in /root/miniconda3/lib/python3.10/site-packages (from mmcv) (1.26.4)\n",
      "Requirement already satisfied: packaging in /root/miniconda3/lib/python3.10/site-packages (from mmcv) (24.1)\n",
      "Requirement already satisfied: Pillow in /root/miniconda3/lib/python3.10/site-packages (from mmcv) (10.3.0)\n",
      "Requirement already satisfied: pyyaml in /root/miniconda3/lib/python3.10/site-packages (from mmcv) (6.0.1)\n",
      "Requirement already satisfied: yapf in /root/miniconda3/lib/python3.10/site-packages (from mmcv) (0.40.2)\n",
      "Requirement already satisfied: opencv-python>=3 in /root/miniconda3/lib/python3.10/site-packages (from mmcv) (4.10.0.84)\n",
      "Requirement already satisfied: matplotlib in /root/miniconda3/lib/python3.10/site-packages (from mmengine>=0.3.0->mmcv) (3.9.0)\n",
      "Requirement already satisfied: rich in /root/miniconda3/lib/python3.10/site-packages (from mmengine>=0.3.0->mmcv) (13.4.2)\n",
      "Requirement already satisfied: termcolor in /root/miniconda3/lib/python3.10/site-packages (from mmengine>=0.3.0->mmcv) (2.4.0)\n",
      "Requirement already satisfied: importlib-metadata>=6.6.0 in /root/miniconda3/lib/python3.10/site-packages (from yapf->mmcv) (7.2.1)\n",
      "Requirement already satisfied: platformdirs>=3.5.1 in /root/miniconda3/lib/python3.10/site-packages (from yapf->mmcv) (3.10.0)\n",
      "Requirement already satisfied: tomli>=2.0.1 in /root/miniconda3/lib/python3.10/site-packages (from yapf->mmcv) (2.0.1)\n",
      "Requirement already satisfied: zipp>=0.5 in /root/miniconda3/lib/python3.10/site-packages (from importlib-metadata>=6.6.0->yapf->mmcv) (3.19.2)\n",
      "Requirement already satisfied: contourpy>=1.0.1 in /root/miniconda3/lib/python3.10/site-packages (from matplotlib->mmengine>=0.3.0->mmcv) (1.2.1)\n",
      "Requirement already satisfied: cycler>=0.10 in /root/miniconda3/lib/python3.10/site-packages (from matplotlib->mmengine>=0.3.0->mmcv) (0.12.1)\n",
      "Requirement already satisfied: fonttools>=4.22.0 in /root/miniconda3/lib/python3.10/site-packages (from matplotlib->mmengine>=0.3.0->mmcv) (4.53.0)\n",
      "Requirement already satisfied: kiwisolver>=1.3.1 in /root/miniconda3/lib/python3.10/site-packages (from matplotlib->mmengine>=0.3.0->mmcv) (1.4.5)\n",
      "Requirement already satisfied: pyparsing>=2.3.1 in /root/miniconda3/lib/python3.10/site-packages (from matplotlib->mmengine>=0.3.0->mmcv) (3.1.2)\n",
      "Requirement already satisfied: python-dateutil>=2.7 in /root/miniconda3/lib/python3.10/site-packages (from matplotlib->mmengine>=0.3.0->mmcv) (2.9.0.post0)\n",
      "Requirement already satisfied: markdown-it-py>=2.2.0 in /root/miniconda3/lib/python3.10/site-packages (from rich->mmengine>=0.3.0->mmcv) (3.0.0)\n",
      "Requirement already satisfied: pygments<3.0.0,>=2.13.0 in /root/miniconda3/lib/python3.10/site-packages (from rich->mmengine>=0.3.0->mmcv) (2.18.0)\n",
      "Requirement already satisfied: mdurl~=0.1 in /root/miniconda3/lib/python3.10/site-packages (from markdown-it-py>=2.2.0->rich->mmengine>=0.3.0->mmcv) (0.1.2)\n",
      "Requirement already satisfied: six>=1.5 in /root/miniconda3/lib/python3.10/site-packages (from python-dateutil>=2.7->matplotlib->mmengine>=0.3.0->mmcv) (1.16.0)\n",
      "Installing collected packages: mmengine, mmcv\n",
      "Successfully installed mmcv-2.2.0 mmengine-0.10.4\n"
     ]
    }
   ],
   "source": [
    "!pip install -U openmim\n",
    "!pip install facenet_pytorch==2.5.2\n",
    "!mim install mmcv"
   ]
  },
  {
   "cell_type": "code",
   "execution_count": 4,
   "id": "b9385f06-39c3-425a-b6f2-54a7b52281d8",
   "metadata": {},
   "outputs": [],
   "source": [
    "!cp $GEMINI_DATA_IN1/20180402-114759-vggface2.pt ~/.cache/torch/checkpoints"
   ]
  },
  {
   "cell_type": "code",
   "execution_count": 5,
   "id": "25fe1e33-33d6-4fdb-b4ca-d48564cc6f65",
   "metadata": {},
   "outputs": [
    {
     "name": "stderr",
     "output_type": "stream",
     "text": [
      "/root/miniconda3/lib/python3.10/site-packages/tqdm/auto.py:21: TqdmWarning: IProgress not found. Please update jupyter and ipywidgets. See https://ipywidgets.readthedocs.io/en/stable/user_install.html\n",
      "  from .autonotebook import tqdm as notebook_tqdm\n",
      "2024-08-15 14:38:41.648989: I tensorflow/core/util/port.cc:111] oneDNN custom operations are on. You may see slightly different numerical results due to floating-point round-off errors from different computation orders. To turn them off, set the environment variable `TF_ENABLE_ONEDNN_OPTS=0`.\n",
      "2024-08-15 14:38:43.531841: E tensorflow/compiler/xla/stream_executor/cuda/cuda_dnn.cc:9342] Unable to register cuDNN factory: Attempting to register factory for plugin cuDNN when one has already been registered\n",
      "2024-08-15 14:38:43.531868: E tensorflow/compiler/xla/stream_executor/cuda/cuda_fft.cc:609] Unable to register cuFFT factory: Attempting to register factory for plugin cuFFT when one has already been registered\n",
      "2024-08-15 14:38:43.531891: E tensorflow/compiler/xla/stream_executor/cuda/cuda_blas.cc:1518] Unable to register cuBLAS factory: Attempting to register factory for plugin cuBLAS when one has already been registered\n",
      "2024-08-15 14:38:43.551647: I tensorflow/core/platform/cpu_feature_guard.cc:182] This TensorFlow binary is optimized to use available CPU instructions in performance-critical operations.\n",
      "To enable the following instructions: AVX2 AVX512F AVX512_VNNI FMA, in other operations, rebuild TensorFlow with the appropriate compiler flags.\n",
      "2024-08-15 14:38:44.434909: W tensorflow/compiler/tf2tensorrt/utils/py_utils.cc:38] TF-TRT Warning: Could not find TensorRT\n"
     ]
    }
   ],
   "source": [
    "from facenet_pytorch import MTCNN, InceptionResnetV1, fixed_image_standardization, training\n",
    "import torch\n",
    "from torch.utils.data import DataLoader, SubsetRandomSampler\n",
    "from torch import optim\n",
    "from torch.optim.lr_scheduler import MultiStepLR\n",
    "from torch.utils.tensorboard import SummaryWriter\n",
    "from torchvision import datasets, transforms\n",
    "import numpy as np\n",
    "import os"
   ]
  },
  {
   "cell_type": "markdown",
   "id": "2804e4ae-ff1f-4a4b-9984-3dcc9e40ae5d",
   "metadata": {},
   "source": [
    "根据当前运行环境是否有GPU可用，设置device的值"
   ]
  },
  {
   "cell_type": "code",
   "execution_count": 6,
   "id": "e7abc83e-b5ef-407b-aaaf-cc2662e8d911",
   "metadata": {},
   "outputs": [
    {
     "name": "stdout",
     "output_type": "stream",
     "text": [
      "在该设备上运行: cuda:0\n"
     ]
    }
   ],
   "source": [
    "device = torch.device('cuda:0' if torch.cuda.is_available() else 'cpu')\n",
    "print('在该设备上运行: {}'.format(device))"
   ]
  },
  {
   "cell_type": "markdown",
   "id": "814fd22e-f55e-4c9a-8be9-217fceb0e0ae",
   "metadata": {},
   "source": [
    "#### 1. 定义训练超参数\n",
    "\n",
    "<font color=red size=3>动手练习1</font> <br>\n",
    "首先将facenet_data数据集挂载路径下 `test_images`目录拷贝到`/gemini/code`下。\n",
    "\n",
    "在`<1>`处，设置`test_images`数据集所在的路径。"
   ]
  },
  {
   "cell_type": "code",
   "execution_count": 7,
   "id": "028fccd2-fd95-4542-a4b7-327024404b4e",
   "metadata": {},
   "outputs": [],
   "source": [
    "data_dir = './test_images'\n",
    "\n",
    "batch_size = 32\n",
    "epochs = 8\n",
    "\n",
    "workers = 0 if os.name == 'nt' else 8"
   ]
  },
  {
   "cell_type": "markdown",
   "id": "e5c619a1-08d6-4eb4-9174-61e97bd9839c",
   "metadata": {},
   "source": [
    "#### 2. 定义MTCNN模块"
   ]
  },
  {
   "cell_type": "code",
   "execution_count": 8,
   "id": "e7a8b325-a3b0-4602-bccc-5f97683a9ba6",
   "metadata": {},
   "outputs": [],
   "source": [
    "mtcnn = MTCNN(\n",
    "    image_size=160, margin=0, min_face_size=20,\n",
    "    thresholds=[0.6, 0.7, 0.7], factor=0.709, post_process=True,\n",
    "    device=device\n",
    ")"
   ]
  },
  {
   "cell_type": "markdown",
   "id": "1e4374b2-db24-4eba-9a6e-98c4872b8beb",
   "metadata": {},
   "source": [
    "#### 3. 迭代获取裁剪后的人脸。\n",
    "\n",
    "<font color=red size=3>动手练习2</font> <br>\n",
    "\n",
    "在`<1>`处，使用`datasets.ImageFolder(）`方法，加载数据集，并且将图像的大小调整为512x512像素。\n",
    "\n",
    "在`<2>`处，调用mtcnn模型，获取裁剪后的人脸图像，并保存到y指定的路径。"
   ]
  },
  {
   "cell_type": "code",
   "execution_count": 9,
   "id": "8735dba7-5c69-429a-a68b-262f4d9bd2cc",
   "metadata": {},
   "outputs": [
    {
     "name": "stdout",
     "output_type": "stream",
     "text": [
      "第 1 批，共 1 批"
     ]
    }
   ],
   "source": [
    "dataset = datasets.ImageFolder(data_dir, transform=transforms.Resize((512, 512)))\n",
    "\n",
    "# 修改了dataset对象的samples属性，这是一个列表，其中包含图像的路径和标签。\n",
    "# 列表推导式遍历原始samples中的每个元素（p是图像路径，_是一个占位符，表示忽略标签）。\n",
    "# 对于每个图像路径p，生成一个新的路径p.replace(data_dir, data_dir + '_cropped')，这个新路径在原始路径的基础上添加了'_cropped'后缀。\n",
    "# 这样，原始图像和它们的裁剪版本都将包含在dataset中。\n",
    "dataset.samples = [ (p, p.replace(data_dir, data_dir + '_cropped')) for p, _ in dataset.samples ]\n",
    "\n",
    "# 创建了一个DataLoader对象，用于批量加载数据集。 \n",
    "# batch_size是每个批次中的样本数量。\n",
    "# collate_fn=training.collate_pil指定了一个自定义的批处理函数，该函数用于处理PIL图像。\n",
    "loader = DataLoader(\n",
    "    dataset,\n",
    "    batch_size=batch_size,\n",
    "    collate_fn=training.collate_pil\n",
    ")\n",
    "\n",
    "# 遍历DataLoader对象生成的批次。\n",
    "# i是批次的索引。\n",
    "# (x, y)是当前批次中的图像和对应的路径。\n",
    "for i, (x, y) in enumerate(loader):\n",
    "    mtcnn(x, save_path=y)\n",
    "    print('\\r第 {} 批，共 {} 批'.format(i + 1, len(loader)), end='')\n",
    "    \n",
    "# Remove mtcnn to reduce GPU memory usage\n",
    "del mtcnn"
   ]
  },
  {
   "cell_type": "markdown",
   "id": "ef0ad48e-1176-4d59-a311-6a898af203f9",
   "metadata": {},
   "source": [
    "#### 4. 定义Inception Resnet V1模块"
   ]
  },
  {
   "cell_type": "code",
   "execution_count": 10,
   "id": "15172d1d-ef6b-468d-b81d-4b5a1f2e7a59",
   "metadata": {},
   "outputs": [],
   "source": [
    "resnet = InceptionResnetV1(\n",
    "    classify=True,\n",
    "    pretrained='vggface2',\n",
    "    num_classes=len(dataset.class_to_idx)\n",
    ").to(device)"
   ]
  },
  {
   "cell_type": "markdown",
   "id": "c1bbc3f2-c6f8-484c-a87a-96b538a21607",
   "metadata": {},
   "source": [
    "#### 5. 创建优化器、调度器\n",
    "\n",
    "<font color=red size=3>动手练习3</font> <br>\n",
    "\n",
    "在`<1>`处，创建Adam优化器，传入resnet模型的所有参数，设置了优化器的学习率lr为0.001。\n",
    "\n",
    "在`<2>`处，创建学习率调度器（scheduler），用于在训练过程中调整学习率。请采用MultiStepLR调度器，指定优化器是上面创建的优化器实例optimizer，指定在epoch为4和8处降低学习率，。"
   ]
  },
  {
   "cell_type": "code",
   "execution_count": 11,
   "id": "dfcfdbe0-a39a-4bc9-a7f3-bc80ed5e68e9",
   "metadata": {},
   "outputs": [],
   "source": [
    "\n",
    "optimizer = optim.Adam(resnet.parameters(), lr=1e-3)\n",
    "scheduler = MultiStepLR(optimizer, [4, 8])\n"
   ]
  },
  {
   "cell_type": "markdown",
   "id": "205c8eeb-80c9-4d76-9b9d-bfd8c25a69cb",
   "metadata": {},
   "source": [
    "#### 6. 创建数据加载器\n",
    "\n",
    "<font color=red size=3>动手练习4</font> <br>\n",
    "\n",
    "在`<1>`处，使用`transforms.Compose()`方法，将`np.float32`、`transforms.ToTensor()`、`fixed_image_standardization`三个变换方法组合成一个序列。\n",
    "\n",
    "在`<2>`处，创建`datasets.ImageFolder`数据集对象，数据集文件夹的路径为之前保存截取人脸图像所保存的路径，并且对图像的进行trans所定义的一系列变换。\n",
    "\n",
    "在`<3>`处，编写一行代码，打乱img_inds数组的顺序；\n",
    "\n",
    "在`<4>`处，使用切片操作选取img_inds的前80%的数据作为训练集的索引。\n",
    "\n",
    "在`<5>`处，使用切片操作选取img_inds的前80%的数据作为训练集的索引。"
   ]
  },
  {
   "cell_type": "code",
   "execution_count": 23,
   "id": "eae8485d-796e-4536-a058-bb20847a76a0",
   "metadata": {},
   "outputs": [],
   "source": [
    "trans = transforms.Compose([\n",
    "    np.float32,\n",
    "    transforms.ToTensor(),\n",
    "    fixed_image_standardization,\n",
    "    transforms.Resize((160, 160), antialias=True)\n",
    "])\n",
    "dataset = datasets.ImageFolder(data_dir, transform=trans)\n",
    "\n",
    "img_inds = np.arange(len(dataset))\n",
    "\n",
    "n = len(img_inds)\n",
    "shuffled_indices = torch.randperm(n)\n",
    "shuffled_indices = torch.randperm(n)\n",
    "split_indices = int(n*0.8)\n",
    "\n",
    "train_inds = shuffled_indices[:split_indices]\n",
    "val_inds = shuffled_indices[split_indices:]\n",
    "\n",
    "train_loader = DataLoader(\n",
    "    dataset,\n",
    "    num_workers=workers,\n",
    "    batch_size=batch_size,\n",
    "    sampler=SubsetRandomSampler(train_inds)\n",
    ")\n",
    "val_loader = DataLoader(\n",
    "    dataset,\n",
    "    num_workers=workers,\n",
    "    batch_size=batch_size,\n",
    "    sampler=SubsetRandomSampler(val_inds)\n",
    ")"
   ]
  },
  {
   "cell_type": "markdown",
   "id": "0c2c442c-8b7d-4541-8b94-4946ddbee098",
   "metadata": {},
   "source": [
    "#### 7. 创建损失函数和评估函数\n",
    "\n",
    "<font color=red size=3>动手练习5</font> <br>\n",
    "\n",
    "在`<1>`处，创建一个交叉熵损失函数实例，直接使用PyTorch提供的函数。\n",
    "\n",
    "在`<2>`处，创建一个包含评估指标键值对的字典，具体包含'fps' 和 'acc'两个键，它们的值分别是training.BatchTimer() 和 training.accuracy。\n"
   ]
  },
  {
   "cell_type": "code",
   "execution_count": 24,
   "id": "b8451668-ac9b-44b9-a1fe-d04e59f377b7",
   "metadata": {},
   "outputs": [],
   "source": [
    "loss_fn = torch.nn.CrossEntropyLoss()\n",
    "metrics = {\n",
    "    'fps': training.BatchTimer(),\n",
    "    'acc': training.accuracy,\n",
    "}"
   ]
  },
  {
   "cell_type": "markdown",
   "id": "ce47d687-e47f-446d-9a69-c9ef099d0e48",
   "metadata": {},
   "source": [
    "#### 8. 微调训练模型\n",
    "\n",
    "此步骤执行训练过程，请执行代码。"
   ]
  },
  {
   "cell_type": "code",
   "execution_count": null,
   "id": "9b687d5b-ec60-473b-b147-acf0123b3e1b",
   "metadata": {
    "scrolled": true
   },
   "outputs": [
    {
     "name": "stdout",
     "output_type": "stream",
     "text": [
      "\n",
      "\n",
      "初始化\n",
      "----------\n",
      "Valid |     1/1    | loss:    0.0101 | fps:    0.0169 | acc:    1.0000   \n",
      "\n",
      "循环 1/8\n",
      "----------\n"
     ]
    }
   ],
   "source": [
    "# 创建一个SummaryWriter实例，用于将训练或评估过程中的数据写入TensorBoard日志文件\n",
    "writer = SummaryWriter()\n",
    "# 设置SummaryWriter实例的iteration属性为0，表示当前的迭代次数或步骤数，设置interval属性为10，表示每10个迭代步骤，SummaryWriter会记录一次数据。\n",
    "writer.iteration, writer.interval = 0, 10\n",
    "\n",
    "print('\\n\\n初始化')\n",
    "print('-' * 10)\n",
    "\n",
    "# 将resnet模型设置为评估模式。\n",
    "resnet.eval()\n",
    "\n",
    "# 调用pass_epoch函数，传入resnet：正在评估的模型，loss_fn：损失函数，val_loader：提供验证集数据的DataLoader实例，\n",
    "# batch_metrics=metrics：包含用于评估模型性能的指标，如准确率、每秒帧数等。\n",
    "# show_running=True：指示pass_epoch函数在控制台显示训练或评估过程中的实时进度。\n",
    "# device：指定模型和数据运行的设备（CPU或GPU）。\n",
    "training.pass_epoch(\n",
    "    resnet, loss_fn, val_loader,\n",
    "    batch_metrics=metrics, show_running=True, device=device,\n",
    "    writer=writer\n",
    ")\n",
    "\n",
    "# 训练循环，用于训练和评估模型。\n",
    "for epoch in range(epochs):\n",
    "    print('\\n循环 {}/{}'.format(epoch + 1, epochs))\n",
    "    print('-' * 10)\n",
    "\n",
    "    # 将模型resnet设置为训练模式。\n",
    "    resnet.train()\n",
    "    training.pass_epoch(\n",
    "        resnet, loss_fn, train_loader, optimizer, scheduler,\n",
    "        batch_metrics=metrics, show_running=True, device=device,\n",
    "        writer=writer\n",
    "    )\n",
    "\n",
    "    resnet.eval()\n",
    "    training.pass_epoch(\n",
    "        resnet, loss_fn, val_loader,\n",
    "        batch_metrics=metrics, show_running=True, device=device,\n",
    "        writer=writer\n",
    "    )\n",
    "\n",
    "writer.close()"
   ]
  },
  {
   "cell_type": "code",
   "execution_count": null,
   "id": "6826029b-737a-498b-a155-f30d3cf7c038",
   "metadata": {},
   "outputs": [],
   "source": []
  }
 ],
 "metadata": {
  "kernelspec": {
   "display_name": "Python 3 (ipykernel)",
   "language": "python",
   "name": "python3"
  },
  "language_info": {
   "codemirror_mode": {
    "name": "ipython",
    "version": 3
   },
   "file_extension": ".py",
   "mimetype": "text/x-python",
   "name": "python",
   "nbconvert_exporter": "python",
   "pygments_lexer": "ipython3",
   "version": "3.10.14"
  }
 },
 "nbformat": 4,
 "nbformat_minor": 5
}
